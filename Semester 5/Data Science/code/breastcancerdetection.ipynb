{
 "cells": [
  {
   "cell_type": "markdown",
   "id": "2158cfc1",
   "metadata": {
    "papermill": {
     "duration": 0.025174,
     "end_time": "2023-08-21T12:27:14.605581",
     "exception": false,
     "start_time": "2023-08-21T12:27:14.580407",
     "status": "completed"
    },
    "tags": []
   },
   "source": [
    "Dataset: Breast Cancer Wisconsin (Diagnostic) Data Set\n",
    "> > https://www.kaggle.com/datasets/uciml/breast-cancer-wisconsin-data"
   ]
  },
  {
   "cell_type": "markdown",
   "id": "fea46d84",
   "metadata": {
    "id": "m0ZyM3Pb9p-f",
    "papermill": {
     "duration": 0.022248,
     "end_time": "2023-08-21T12:27:14.654956",
     "exception": false,
     "start_time": "2023-08-21T12:27:14.632708",
     "status": "completed"
    },
    "tags": []
   },
   "source": [
    "## Importing the libraries and dataset"
   ]
  },
  {
   "cell_type": "code",
   "execution_count": 1,
   "id": "d23c729c",
   "metadata": {
    "execution": {
     "iopub.execute_input": "2023-08-21T12:27:14.702961Z",
     "iopub.status.busy": "2023-08-21T12:27:14.702488Z",
     "iopub.status.idle": "2023-08-21T12:27:16.506264Z",
     "shell.execute_reply": "2023-08-21T12:27:16.504806Z"
    },
    "papermill": {
     "duration": 1.832444,
     "end_time": "2023-08-21T12:27:16.509384",
     "exception": false,
     "start_time": "2023-08-21T12:27:14.676940",
     "status": "completed"
    },
    "tags": []
   },
   "outputs": [
    {
     "name": "stderr",
     "output_type": "stream",
     "text": [
      "/opt/conda/lib/python3.10/site-packages/scipy/__init__.py:146: UserWarning: A NumPy version >=1.16.5 and <1.23.0 is required for this version of SciPy (detected version 1.23.5\n",
      "  warnings.warn(f\"A NumPy version >={np_minversion} and <{np_maxversion}\"\n"
     ]
    }
   ],
   "source": [
    "import matplotlib.pyplot as plt  # collection of command style functions that make matplotlib work like MATLAB\n",
    "import seaborn as sns  # statistical data visualization\n",
    "import numpy as np\n",
    "# data analysis\n",
    "import pandas as pd  \n",
    "import numpy as np  \n",
    "\n",
    "import warnings  \n",
    "# Base category for warnings triggered during the process of importing a \n",
    "# module (ignored by default)\n",
    "warnings.filterwarnings('ignore')  \n",
    "# here we prescribe the action in case of an error."
   ]
  },
  {
   "cell_type": "code",
   "execution_count": 2,
   "id": "c5bd6f95",
   "metadata": {
    "execution": {
     "iopub.execute_input": "2023-08-21T12:27:16.554274Z",
     "iopub.status.busy": "2023-08-21T12:27:16.553449Z",
     "iopub.status.idle": "2023-08-21T12:27:16.588817Z",
     "shell.execute_reply": "2023-08-21T12:27:16.587094Z"
    },
    "papermill": {
     "duration": 0.060801,
     "end_time": "2023-08-21T12:27:16.591527",
     "exception": false,
     "start_time": "2023-08-21T12:27:16.530726",
     "status": "completed"
    },
    "tags": []
   },
   "outputs": [],
   "source": [
    "dataset_url = '/kaggle/input/breast-cancer-wisconsin-data/data.csv'\n",
    "\n",
    "# Read the dataset CSV into a pandas DataFrame\n",
    "df = pd.read_csv(dataset_url)"
   ]
  },
  {
   "cell_type": "markdown",
   "id": "62355cfd",
   "metadata": {
    "id": "c5624ThcHU_P",
    "papermill": {
     "duration": 0.022026,
     "end_time": "2023-08-21T12:27:16.636405",
     "exception": false,
     "start_time": "2023-08-21T12:27:16.614379",
     "status": "completed"
    },
    "tags": []
   },
   "source": [
    "## Data exploration"
   ]
  },
  {
   "cell_type": "code",
   "execution_count": 3,
   "id": "836cf56d",
   "metadata": {
    "execution": {
     "iopub.execute_input": "2023-08-21T12:27:16.683501Z",
     "iopub.status.busy": "2023-08-21T12:27:16.682964Z",
     "iopub.status.idle": "2023-08-21T12:27:16.735767Z",
     "shell.execute_reply": "2023-08-21T12:27:16.734513Z"
    },
    "papermill": {
     "duration": 0.078684,
     "end_time": "2023-08-21T12:27:16.738504",
     "exception": false,
     "start_time": "2023-08-21T12:27:16.659820",
     "status": "completed"
    },
    "scrolled": true,
    "tags": []
   },
   "outputs": [
    {
     "data": {
      "text/html": [
       "<div>\n",
       "<style scoped>\n",
       "    .dataframe tbody tr th:only-of-type {\n",
       "        vertical-align: middle;\n",
       "    }\n",
       "\n",
       "    .dataframe tbody tr th {\n",
       "        vertical-align: top;\n",
       "    }\n",
       "\n",
       "    .dataframe thead th {\n",
       "        text-align: right;\n",
       "    }\n",
       "</style>\n",
       "<table border=\"1\" class=\"dataframe\">\n",
       "  <thead>\n",
       "    <tr style=\"text-align: right;\">\n",
       "      <th></th>\n",
       "      <th>id</th>\n",
       "      <th>diagnosis</th>\n",
       "      <th>radius_mean</th>\n",
       "      <th>texture_mean</th>\n",
       "      <th>perimeter_mean</th>\n",
       "      <th>area_mean</th>\n",
       "      <th>smoothness_mean</th>\n",
       "      <th>compactness_mean</th>\n",
       "      <th>concavity_mean</th>\n",
       "      <th>concave points_mean</th>\n",
       "      <th>...</th>\n",
       "      <th>texture_worst</th>\n",
       "      <th>perimeter_worst</th>\n",
       "      <th>area_worst</th>\n",
       "      <th>smoothness_worst</th>\n",
       "      <th>compactness_worst</th>\n",
       "      <th>concavity_worst</th>\n",
       "      <th>concave points_worst</th>\n",
       "      <th>symmetry_worst</th>\n",
       "      <th>fractal_dimension_worst</th>\n",
       "      <th>Unnamed: 32</th>\n",
       "    </tr>\n",
       "  </thead>\n",
       "  <tbody>\n",
       "    <tr>\n",
       "      <th>0</th>\n",
       "      <td>842302</td>\n",
       "      <td>M</td>\n",
       "      <td>17.99</td>\n",
       "      <td>10.38</td>\n",
       "      <td>122.80</td>\n",
       "      <td>1001.0</td>\n",
       "      <td>0.11840</td>\n",
       "      <td>0.27760</td>\n",
       "      <td>0.3001</td>\n",
       "      <td>0.14710</td>\n",
       "      <td>...</td>\n",
       "      <td>17.33</td>\n",
       "      <td>184.60</td>\n",
       "      <td>2019.0</td>\n",
       "      <td>0.1622</td>\n",
       "      <td>0.6656</td>\n",
       "      <td>0.7119</td>\n",
       "      <td>0.2654</td>\n",
       "      <td>0.4601</td>\n",
       "      <td>0.11890</td>\n",
       "      <td>NaN</td>\n",
       "    </tr>\n",
       "    <tr>\n",
       "      <th>1</th>\n",
       "      <td>842517</td>\n",
       "      <td>M</td>\n",
       "      <td>20.57</td>\n",
       "      <td>17.77</td>\n",
       "      <td>132.90</td>\n",
       "      <td>1326.0</td>\n",
       "      <td>0.08474</td>\n",
       "      <td>0.07864</td>\n",
       "      <td>0.0869</td>\n",
       "      <td>0.07017</td>\n",
       "      <td>...</td>\n",
       "      <td>23.41</td>\n",
       "      <td>158.80</td>\n",
       "      <td>1956.0</td>\n",
       "      <td>0.1238</td>\n",
       "      <td>0.1866</td>\n",
       "      <td>0.2416</td>\n",
       "      <td>0.1860</td>\n",
       "      <td>0.2750</td>\n",
       "      <td>0.08902</td>\n",
       "      <td>NaN</td>\n",
       "    </tr>\n",
       "    <tr>\n",
       "      <th>2</th>\n",
       "      <td>84300903</td>\n",
       "      <td>M</td>\n",
       "      <td>19.69</td>\n",
       "      <td>21.25</td>\n",
       "      <td>130.00</td>\n",
       "      <td>1203.0</td>\n",
       "      <td>0.10960</td>\n",
       "      <td>0.15990</td>\n",
       "      <td>0.1974</td>\n",
       "      <td>0.12790</td>\n",
       "      <td>...</td>\n",
       "      <td>25.53</td>\n",
       "      <td>152.50</td>\n",
       "      <td>1709.0</td>\n",
       "      <td>0.1444</td>\n",
       "      <td>0.4245</td>\n",
       "      <td>0.4504</td>\n",
       "      <td>0.2430</td>\n",
       "      <td>0.3613</td>\n",
       "      <td>0.08758</td>\n",
       "      <td>NaN</td>\n",
       "    </tr>\n",
       "    <tr>\n",
       "      <th>3</th>\n",
       "      <td>84348301</td>\n",
       "      <td>M</td>\n",
       "      <td>11.42</td>\n",
       "      <td>20.38</td>\n",
       "      <td>77.58</td>\n",
       "      <td>386.1</td>\n",
       "      <td>0.14250</td>\n",
       "      <td>0.28390</td>\n",
       "      <td>0.2414</td>\n",
       "      <td>0.10520</td>\n",
       "      <td>...</td>\n",
       "      <td>26.50</td>\n",
       "      <td>98.87</td>\n",
       "      <td>567.7</td>\n",
       "      <td>0.2098</td>\n",
       "      <td>0.8663</td>\n",
       "      <td>0.6869</td>\n",
       "      <td>0.2575</td>\n",
       "      <td>0.6638</td>\n",
       "      <td>0.17300</td>\n",
       "      <td>NaN</td>\n",
       "    </tr>\n",
       "    <tr>\n",
       "      <th>4</th>\n",
       "      <td>84358402</td>\n",
       "      <td>M</td>\n",
       "      <td>20.29</td>\n",
       "      <td>14.34</td>\n",
       "      <td>135.10</td>\n",
       "      <td>1297.0</td>\n",
       "      <td>0.10030</td>\n",
       "      <td>0.13280</td>\n",
       "      <td>0.1980</td>\n",
       "      <td>0.10430</td>\n",
       "      <td>...</td>\n",
       "      <td>16.67</td>\n",
       "      <td>152.20</td>\n",
       "      <td>1575.0</td>\n",
       "      <td>0.1374</td>\n",
       "      <td>0.2050</td>\n",
       "      <td>0.4000</td>\n",
       "      <td>0.1625</td>\n",
       "      <td>0.2364</td>\n",
       "      <td>0.07678</td>\n",
       "      <td>NaN</td>\n",
       "    </tr>\n",
       "  </tbody>\n",
       "</table>\n",
       "<p>5 rows × 33 columns</p>\n",
       "</div>"
      ],
      "text/plain": [
       "         id diagnosis  radius_mean  texture_mean  perimeter_mean  area_mean  \\\n",
       "0    842302         M        17.99         10.38          122.80     1001.0   \n",
       "1    842517         M        20.57         17.77          132.90     1326.0   \n",
       "2  84300903         M        19.69         21.25          130.00     1203.0   \n",
       "3  84348301         M        11.42         20.38           77.58      386.1   \n",
       "4  84358402         M        20.29         14.34          135.10     1297.0   \n",
       "\n",
       "   smoothness_mean  compactness_mean  concavity_mean  concave points_mean  \\\n",
       "0          0.11840           0.27760          0.3001              0.14710   \n",
       "1          0.08474           0.07864          0.0869              0.07017   \n",
       "2          0.10960           0.15990          0.1974              0.12790   \n",
       "3          0.14250           0.28390          0.2414              0.10520   \n",
       "4          0.10030           0.13280          0.1980              0.10430   \n",
       "\n",
       "   ...  texture_worst  perimeter_worst  area_worst  smoothness_worst  \\\n",
       "0  ...          17.33           184.60      2019.0            0.1622   \n",
       "1  ...          23.41           158.80      1956.0            0.1238   \n",
       "2  ...          25.53           152.50      1709.0            0.1444   \n",
       "3  ...          26.50            98.87       567.7            0.2098   \n",
       "4  ...          16.67           152.20      1575.0            0.1374   \n",
       "\n",
       "   compactness_worst  concavity_worst  concave points_worst  symmetry_worst  \\\n",
       "0             0.6656           0.7119                0.2654          0.4601   \n",
       "1             0.1866           0.2416                0.1860          0.2750   \n",
       "2             0.4245           0.4504                0.2430          0.3613   \n",
       "3             0.8663           0.6869                0.2575          0.6638   \n",
       "4             0.2050           0.4000                0.1625          0.2364   \n",
       "\n",
       "   fractal_dimension_worst  Unnamed: 32  \n",
       "0                  0.11890          NaN  \n",
       "1                  0.08902          NaN  \n",
       "2                  0.08758          NaN  \n",
       "3                  0.17300          NaN  \n",
       "4                  0.07678          NaN  \n",
       "\n",
       "[5 rows x 33 columns]"
      ]
     },
     "execution_count": 3,
     "metadata": {},
     "output_type": "execute_result"
    }
   ],
   "source": [
    "df.head()"
   ]
  },
  {
   "cell_type": "code",
   "execution_count": 4,
   "id": "6b040d8c",
   "metadata": {
    "execution": {
     "iopub.execute_input": "2023-08-21T12:27:16.789046Z",
     "iopub.status.busy": "2023-08-21T12:27:16.787522Z",
     "iopub.status.idle": "2023-08-21T12:27:16.795087Z",
     "shell.execute_reply": "2023-08-21T12:27:16.793222Z"
    },
    "papermill": {
     "duration": 0.036248,
     "end_time": "2023-08-21T12:27:16.798398",
     "exception": false,
     "start_time": "2023-08-21T12:27:16.762150",
     "status": "completed"
    },
    "scrolled": true,
    "tags": []
   },
   "outputs": [
    {
     "name": "stdout",
     "output_type": "stream",
     "text": [
      "Number of Examples =  569\n"
     ]
    }
   ],
   "source": [
    "print('Number of Examples = ', df.shape[0])"
   ]
  },
  {
   "cell_type": "code",
   "execution_count": 5,
   "id": "7cd2ef43",
   "metadata": {
    "execution": {
     "iopub.execute_input": "2023-08-21T12:27:16.846960Z",
     "iopub.status.busy": "2023-08-21T12:27:16.845806Z",
     "iopub.status.idle": "2023-08-21T12:27:16.854088Z",
     "shell.execute_reply": "2023-08-21T12:27:16.852421Z"
    },
    "papermill": {
     "duration": 0.034264,
     "end_time": "2023-08-21T12:27:16.856565",
     "exception": false,
     "start_time": "2023-08-21T12:27:16.822301",
     "status": "completed"
    },
    "tags": []
   },
   "outputs": [
    {
     "name": "stdout",
     "output_type": "stream",
     "text": [
      "\n",
      "Column Labels:\n",
      "Index(['id', 'diagnosis', 'radius_mean', 'texture_mean', 'perimeter_mean',\n",
      "       'area_mean', 'smoothness_mean', 'compactness_mean', 'concavity_mean',\n",
      "       'concave points_mean', 'symmetry_mean', 'fractal_dimension_mean',\n",
      "       'radius_se', 'texture_se', 'perimeter_se', 'area_se', 'smoothness_se',\n",
      "       'compactness_se', 'concavity_se', 'concave points_se', 'symmetry_se',\n",
      "       'fractal_dimension_se', 'radius_worst', 'texture_worst',\n",
      "       'perimeter_worst', 'area_worst', 'smoothness_worst',\n",
      "       'compactness_worst', 'concavity_worst', 'concave points_worst',\n",
      "       'symmetry_worst', 'fractal_dimension_worst', 'Unnamed: 32'],\n",
      "      dtype='object')\n"
     ]
    }
   ],
   "source": [
    "print(\"\\nColumn Labels:\")\n",
    "print(df.columns)"
   ]
  },
  {
   "cell_type": "code",
   "execution_count": 6,
   "id": "ddcba089",
   "metadata": {
    "execution": {
     "iopub.execute_input": "2023-08-21T12:27:16.905456Z",
     "iopub.status.busy": "2023-08-21T12:27:16.904791Z",
     "iopub.status.idle": "2023-08-21T12:27:16.938531Z",
     "shell.execute_reply": "2023-08-21T12:27:16.936627Z"
    },
    "papermill": {
     "duration": 0.061773,
     "end_time": "2023-08-21T12:27:16.941828",
     "exception": false,
     "start_time": "2023-08-21T12:27:16.880055",
     "status": "completed"
    },
    "tags": []
   },
   "outputs": [
    {
     "name": "stdout",
     "output_type": "stream",
     "text": [
      "<class 'pandas.core.frame.DataFrame'>\n",
      "RangeIndex: 569 entries, 0 to 568\n",
      "Data columns (total 33 columns):\n",
      " #   Column                   Non-Null Count  Dtype  \n",
      "---  ------                   --------------  -----  \n",
      " 0   id                       569 non-null    int64  \n",
      " 1   diagnosis                569 non-null    object \n",
      " 2   radius_mean              569 non-null    float64\n",
      " 3   texture_mean             569 non-null    float64\n",
      " 4   perimeter_mean           569 non-null    float64\n",
      " 5   area_mean                569 non-null    float64\n",
      " 6   smoothness_mean          569 non-null    float64\n",
      " 7   compactness_mean         569 non-null    float64\n",
      " 8   concavity_mean           569 non-null    float64\n",
      " 9   concave points_mean      569 non-null    float64\n",
      " 10  symmetry_mean            569 non-null    float64\n",
      " 11  fractal_dimension_mean   569 non-null    float64\n",
      " 12  radius_se                569 non-null    float64\n",
      " 13  texture_se               569 non-null    float64\n",
      " 14  perimeter_se             569 non-null    float64\n",
      " 15  area_se                  569 non-null    float64\n",
      " 16  smoothness_se            569 non-null    float64\n",
      " 17  compactness_se           569 non-null    float64\n",
      " 18  concavity_se             569 non-null    float64\n",
      " 19  concave points_se        569 non-null    float64\n",
      " 20  symmetry_se              569 non-null    float64\n",
      " 21  fractal_dimension_se     569 non-null    float64\n",
      " 22  radius_worst             569 non-null    float64\n",
      " 23  texture_worst            569 non-null    float64\n",
      " 24  perimeter_worst          569 non-null    float64\n",
      " 25  area_worst               569 non-null    float64\n",
      " 26  smoothness_worst         569 non-null    float64\n",
      " 27  compactness_worst        569 non-null    float64\n",
      " 28  concavity_worst          569 non-null    float64\n",
      " 29  concave points_worst     569 non-null    float64\n",
      " 30  symmetry_worst           569 non-null    float64\n",
      " 31  fractal_dimension_worst  569 non-null    float64\n",
      " 32  Unnamed: 32              0 non-null      float64\n",
      "dtypes: float64(31), int64(1), object(1)\n",
      "memory usage: 146.8+ KB\n",
      "None\n"
     ]
    }
   ],
   "source": [
    "print(df.info())"
   ]
  },
  {
   "cell_type": "code",
   "execution_count": 7,
   "id": "72caba1d",
   "metadata": {
    "execution": {
     "iopub.execute_input": "2023-08-21T12:27:16.990739Z",
     "iopub.status.busy": "2023-08-21T12:27:16.990287Z",
     "iopub.status.idle": "2023-08-21T12:27:17.127232Z",
     "shell.execute_reply": "2023-08-21T12:27:17.126256Z"
    },
    "papermill": {
     "duration": 0.164486,
     "end_time": "2023-08-21T12:27:17.129740",
     "exception": false,
     "start_time": "2023-08-21T12:27:16.965254",
     "status": "completed"
    },
    "tags": []
   },
   "outputs": [
    {
     "data": {
      "text/html": [
       "<div>\n",
       "<style scoped>\n",
       "    .dataframe tbody tr th:only-of-type {\n",
       "        vertical-align: middle;\n",
       "    }\n",
       "\n",
       "    .dataframe tbody tr th {\n",
       "        vertical-align: top;\n",
       "    }\n",
       "\n",
       "    .dataframe thead th {\n",
       "        text-align: right;\n",
       "    }\n",
       "</style>\n",
       "<table border=\"1\" class=\"dataframe\">\n",
       "  <thead>\n",
       "    <tr style=\"text-align: right;\">\n",
       "      <th></th>\n",
       "      <th>id</th>\n",
       "      <th>radius_mean</th>\n",
       "      <th>texture_mean</th>\n",
       "      <th>perimeter_mean</th>\n",
       "      <th>area_mean</th>\n",
       "      <th>smoothness_mean</th>\n",
       "      <th>compactness_mean</th>\n",
       "      <th>concavity_mean</th>\n",
       "      <th>concave points_mean</th>\n",
       "      <th>symmetry_mean</th>\n",
       "      <th>...</th>\n",
       "      <th>texture_worst</th>\n",
       "      <th>perimeter_worst</th>\n",
       "      <th>area_worst</th>\n",
       "      <th>smoothness_worst</th>\n",
       "      <th>compactness_worst</th>\n",
       "      <th>concavity_worst</th>\n",
       "      <th>concave points_worst</th>\n",
       "      <th>symmetry_worst</th>\n",
       "      <th>fractal_dimension_worst</th>\n",
       "      <th>Unnamed: 32</th>\n",
       "    </tr>\n",
       "  </thead>\n",
       "  <tbody>\n",
       "    <tr>\n",
       "      <th>count</th>\n",
       "      <td>5.690000e+02</td>\n",
       "      <td>569.000000</td>\n",
       "      <td>569.000000</td>\n",
       "      <td>569.000000</td>\n",
       "      <td>569.000000</td>\n",
       "      <td>569.000000</td>\n",
       "      <td>569.000000</td>\n",
       "      <td>569.000000</td>\n",
       "      <td>569.000000</td>\n",
       "      <td>569.000000</td>\n",
       "      <td>...</td>\n",
       "      <td>569.000000</td>\n",
       "      <td>569.000000</td>\n",
       "      <td>569.000000</td>\n",
       "      <td>569.000000</td>\n",
       "      <td>569.000000</td>\n",
       "      <td>569.000000</td>\n",
       "      <td>569.000000</td>\n",
       "      <td>569.000000</td>\n",
       "      <td>569.000000</td>\n",
       "      <td>0.0</td>\n",
       "    </tr>\n",
       "    <tr>\n",
       "      <th>mean</th>\n",
       "      <td>3.037183e+07</td>\n",
       "      <td>14.127292</td>\n",
       "      <td>19.289649</td>\n",
       "      <td>91.969033</td>\n",
       "      <td>654.889104</td>\n",
       "      <td>0.096360</td>\n",
       "      <td>0.104341</td>\n",
       "      <td>0.088799</td>\n",
       "      <td>0.048919</td>\n",
       "      <td>0.181162</td>\n",
       "      <td>...</td>\n",
       "      <td>25.677223</td>\n",
       "      <td>107.261213</td>\n",
       "      <td>880.583128</td>\n",
       "      <td>0.132369</td>\n",
       "      <td>0.254265</td>\n",
       "      <td>0.272188</td>\n",
       "      <td>0.114606</td>\n",
       "      <td>0.290076</td>\n",
       "      <td>0.083946</td>\n",
       "      <td>NaN</td>\n",
       "    </tr>\n",
       "    <tr>\n",
       "      <th>std</th>\n",
       "      <td>1.250206e+08</td>\n",
       "      <td>3.524049</td>\n",
       "      <td>4.301036</td>\n",
       "      <td>24.298981</td>\n",
       "      <td>351.914129</td>\n",
       "      <td>0.014064</td>\n",
       "      <td>0.052813</td>\n",
       "      <td>0.079720</td>\n",
       "      <td>0.038803</td>\n",
       "      <td>0.027414</td>\n",
       "      <td>...</td>\n",
       "      <td>6.146258</td>\n",
       "      <td>33.602542</td>\n",
       "      <td>569.356993</td>\n",
       "      <td>0.022832</td>\n",
       "      <td>0.157336</td>\n",
       "      <td>0.208624</td>\n",
       "      <td>0.065732</td>\n",
       "      <td>0.061867</td>\n",
       "      <td>0.018061</td>\n",
       "      <td>NaN</td>\n",
       "    </tr>\n",
       "    <tr>\n",
       "      <th>min</th>\n",
       "      <td>8.670000e+03</td>\n",
       "      <td>6.981000</td>\n",
       "      <td>9.710000</td>\n",
       "      <td>43.790000</td>\n",
       "      <td>143.500000</td>\n",
       "      <td>0.052630</td>\n",
       "      <td>0.019380</td>\n",
       "      <td>0.000000</td>\n",
       "      <td>0.000000</td>\n",
       "      <td>0.106000</td>\n",
       "      <td>...</td>\n",
       "      <td>12.020000</td>\n",
       "      <td>50.410000</td>\n",
       "      <td>185.200000</td>\n",
       "      <td>0.071170</td>\n",
       "      <td>0.027290</td>\n",
       "      <td>0.000000</td>\n",
       "      <td>0.000000</td>\n",
       "      <td>0.156500</td>\n",
       "      <td>0.055040</td>\n",
       "      <td>NaN</td>\n",
       "    </tr>\n",
       "    <tr>\n",
       "      <th>25%</th>\n",
       "      <td>8.692180e+05</td>\n",
       "      <td>11.700000</td>\n",
       "      <td>16.170000</td>\n",
       "      <td>75.170000</td>\n",
       "      <td>420.300000</td>\n",
       "      <td>0.086370</td>\n",
       "      <td>0.064920</td>\n",
       "      <td>0.029560</td>\n",
       "      <td>0.020310</td>\n",
       "      <td>0.161900</td>\n",
       "      <td>...</td>\n",
       "      <td>21.080000</td>\n",
       "      <td>84.110000</td>\n",
       "      <td>515.300000</td>\n",
       "      <td>0.116600</td>\n",
       "      <td>0.147200</td>\n",
       "      <td>0.114500</td>\n",
       "      <td>0.064930</td>\n",
       "      <td>0.250400</td>\n",
       "      <td>0.071460</td>\n",
       "      <td>NaN</td>\n",
       "    </tr>\n",
       "    <tr>\n",
       "      <th>50%</th>\n",
       "      <td>9.060240e+05</td>\n",
       "      <td>13.370000</td>\n",
       "      <td>18.840000</td>\n",
       "      <td>86.240000</td>\n",
       "      <td>551.100000</td>\n",
       "      <td>0.095870</td>\n",
       "      <td>0.092630</td>\n",
       "      <td>0.061540</td>\n",
       "      <td>0.033500</td>\n",
       "      <td>0.179200</td>\n",
       "      <td>...</td>\n",
       "      <td>25.410000</td>\n",
       "      <td>97.660000</td>\n",
       "      <td>686.500000</td>\n",
       "      <td>0.131300</td>\n",
       "      <td>0.211900</td>\n",
       "      <td>0.226700</td>\n",
       "      <td>0.099930</td>\n",
       "      <td>0.282200</td>\n",
       "      <td>0.080040</td>\n",
       "      <td>NaN</td>\n",
       "    </tr>\n",
       "    <tr>\n",
       "      <th>75%</th>\n",
       "      <td>8.813129e+06</td>\n",
       "      <td>15.780000</td>\n",
       "      <td>21.800000</td>\n",
       "      <td>104.100000</td>\n",
       "      <td>782.700000</td>\n",
       "      <td>0.105300</td>\n",
       "      <td>0.130400</td>\n",
       "      <td>0.130700</td>\n",
       "      <td>0.074000</td>\n",
       "      <td>0.195700</td>\n",
       "      <td>...</td>\n",
       "      <td>29.720000</td>\n",
       "      <td>125.400000</td>\n",
       "      <td>1084.000000</td>\n",
       "      <td>0.146000</td>\n",
       "      <td>0.339100</td>\n",
       "      <td>0.382900</td>\n",
       "      <td>0.161400</td>\n",
       "      <td>0.317900</td>\n",
       "      <td>0.092080</td>\n",
       "      <td>NaN</td>\n",
       "    </tr>\n",
       "    <tr>\n",
       "      <th>max</th>\n",
       "      <td>9.113205e+08</td>\n",
       "      <td>28.110000</td>\n",
       "      <td>39.280000</td>\n",
       "      <td>188.500000</td>\n",
       "      <td>2501.000000</td>\n",
       "      <td>0.163400</td>\n",
       "      <td>0.345400</td>\n",
       "      <td>0.426800</td>\n",
       "      <td>0.201200</td>\n",
       "      <td>0.304000</td>\n",
       "      <td>...</td>\n",
       "      <td>49.540000</td>\n",
       "      <td>251.200000</td>\n",
       "      <td>4254.000000</td>\n",
       "      <td>0.222600</td>\n",
       "      <td>1.058000</td>\n",
       "      <td>1.252000</td>\n",
       "      <td>0.291000</td>\n",
       "      <td>0.663800</td>\n",
       "      <td>0.207500</td>\n",
       "      <td>NaN</td>\n",
       "    </tr>\n",
       "  </tbody>\n",
       "</table>\n",
       "<p>8 rows × 32 columns</p>\n",
       "</div>"
      ],
      "text/plain": [
       "                 id  radius_mean  texture_mean  perimeter_mean    area_mean  \\\n",
       "count  5.690000e+02   569.000000    569.000000      569.000000   569.000000   \n",
       "mean   3.037183e+07    14.127292     19.289649       91.969033   654.889104   \n",
       "std    1.250206e+08     3.524049      4.301036       24.298981   351.914129   \n",
       "min    8.670000e+03     6.981000      9.710000       43.790000   143.500000   \n",
       "25%    8.692180e+05    11.700000     16.170000       75.170000   420.300000   \n",
       "50%    9.060240e+05    13.370000     18.840000       86.240000   551.100000   \n",
       "75%    8.813129e+06    15.780000     21.800000      104.100000   782.700000   \n",
       "max    9.113205e+08    28.110000     39.280000      188.500000  2501.000000   \n",
       "\n",
       "       smoothness_mean  compactness_mean  concavity_mean  concave points_mean  \\\n",
       "count       569.000000        569.000000      569.000000           569.000000   \n",
       "mean          0.096360          0.104341        0.088799             0.048919   \n",
       "std           0.014064          0.052813        0.079720             0.038803   \n",
       "min           0.052630          0.019380        0.000000             0.000000   \n",
       "25%           0.086370          0.064920        0.029560             0.020310   \n",
       "50%           0.095870          0.092630        0.061540             0.033500   \n",
       "75%           0.105300          0.130400        0.130700             0.074000   \n",
       "max           0.163400          0.345400        0.426800             0.201200   \n",
       "\n",
       "       symmetry_mean  ...  texture_worst  perimeter_worst   area_worst  \\\n",
       "count     569.000000  ...     569.000000       569.000000   569.000000   \n",
       "mean        0.181162  ...      25.677223       107.261213   880.583128   \n",
       "std         0.027414  ...       6.146258        33.602542   569.356993   \n",
       "min         0.106000  ...      12.020000        50.410000   185.200000   \n",
       "25%         0.161900  ...      21.080000        84.110000   515.300000   \n",
       "50%         0.179200  ...      25.410000        97.660000   686.500000   \n",
       "75%         0.195700  ...      29.720000       125.400000  1084.000000   \n",
       "max         0.304000  ...      49.540000       251.200000  4254.000000   \n",
       "\n",
       "       smoothness_worst  compactness_worst  concavity_worst  \\\n",
       "count        569.000000         569.000000       569.000000   \n",
       "mean           0.132369           0.254265         0.272188   \n",
       "std            0.022832           0.157336         0.208624   \n",
       "min            0.071170           0.027290         0.000000   \n",
       "25%            0.116600           0.147200         0.114500   \n",
       "50%            0.131300           0.211900         0.226700   \n",
       "75%            0.146000           0.339100         0.382900   \n",
       "max            0.222600           1.058000         1.252000   \n",
       "\n",
       "       concave points_worst  symmetry_worst  fractal_dimension_worst  \\\n",
       "count            569.000000      569.000000               569.000000   \n",
       "mean               0.114606        0.290076                 0.083946   \n",
       "std                0.065732        0.061867                 0.018061   \n",
       "min                0.000000        0.156500                 0.055040   \n",
       "25%                0.064930        0.250400                 0.071460   \n",
       "50%                0.099930        0.282200                 0.080040   \n",
       "75%                0.161400        0.317900                 0.092080   \n",
       "max                0.291000        0.663800                 0.207500   \n",
       "\n",
       "       Unnamed: 32  \n",
       "count          0.0  \n",
       "mean           NaN  \n",
       "std            NaN  \n",
       "min            NaN  \n",
       "25%            NaN  \n",
       "50%            NaN  \n",
       "75%            NaN  \n",
       "max            NaN  \n",
       "\n",
       "[8 rows x 32 columns]"
      ]
     },
     "execution_count": 7,
     "metadata": {},
     "output_type": "execute_result"
    }
   ],
   "source": [
    "df.describe(include=np.number)"
   ]
  },
  {
   "cell_type": "code",
   "execution_count": 8,
   "id": "0da8b5b6",
   "metadata": {
    "execution": {
     "iopub.execute_input": "2023-08-21T12:27:17.181505Z",
     "iopub.status.busy": "2023-08-21T12:27:17.181089Z",
     "iopub.status.idle": "2023-08-21T12:27:17.189459Z",
     "shell.execute_reply": "2023-08-21T12:27:17.188366Z"
    },
    "papermill": {
     "duration": 0.036194,
     "end_time": "2023-08-21T12:27:17.192172",
     "exception": false,
     "start_time": "2023-08-21T12:27:17.155978",
     "status": "completed"
    },
    "tags": []
   },
   "outputs": [
    {
     "data": {
      "text/plain": [
       "(569, 33)"
      ]
     },
     "execution_count": 8,
     "metadata": {},
     "output_type": "execute_result"
    }
   ],
   "source": [
    "df.shape"
   ]
  },
  {
   "cell_type": "markdown",
   "id": "80deafcd",
   "metadata": {
    "papermill": {
     "duration": 0.025941,
     "end_time": "2023-08-21T12:27:17.243320",
     "exception": false,
     "start_time": "2023-08-21T12:27:17.217379",
     "status": "completed"
    },
    "tags": []
   },
   "source": [
    "## Dropping the NaN column:"
   ]
  },
  {
   "cell_type": "code",
   "execution_count": 9,
   "id": "24b3de1a",
   "metadata": {
    "execution": {
     "iopub.execute_input": "2023-08-21T12:27:17.298784Z",
     "iopub.status.busy": "2023-08-21T12:27:17.298275Z",
     "iopub.status.idle": "2023-08-21T12:27:17.308187Z",
     "shell.execute_reply": "2023-08-21T12:27:17.306632Z"
    },
    "papermill": {
     "duration": 0.040452,
     "end_time": "2023-08-21T12:27:17.311397",
     "exception": false,
     "start_time": "2023-08-21T12:27:17.270945",
     "status": "completed"
    },
    "tags": []
   },
   "outputs": [],
   "source": [
    "df.dropna(axis=1, inplace=True)  # Drops columns with NaN values in-place\n",
    "\n",
    "# Now 'df' contains only columns with no NaN values, axis=1 for cols,or rows would've happened"
   ]
  },
  {
   "cell_type": "markdown",
   "id": "bc075159",
   "metadata": {
    "papermill": {
     "duration": 0.024264,
     "end_time": "2023-08-21T12:27:17.360869",
     "exception": false,
     "start_time": "2023-08-21T12:27:17.336605",
     "status": "completed"
    },
    "tags": []
   },
   "source": [
    "### Verifying dropped column"
   ]
  },
  {
   "cell_type": "code",
   "execution_count": 10,
   "id": "1dde4de2",
   "metadata": {
    "execution": {
     "iopub.execute_input": "2023-08-21T12:27:17.410401Z",
     "iopub.status.busy": "2023-08-21T12:27:17.409963Z",
     "iopub.status.idle": "2023-08-21T12:27:17.417944Z",
     "shell.execute_reply": "2023-08-21T12:27:17.416652Z"
    },
    "papermill": {
     "duration": 0.035912,
     "end_time": "2023-08-21T12:27:17.420811",
     "exception": false,
     "start_time": "2023-08-21T12:27:17.384899",
     "status": "completed"
    },
    "tags": []
   },
   "outputs": [
    {
     "data": {
      "text/plain": [
       "(569, 32)"
      ]
     },
     "execution_count": 10,
     "metadata": {},
     "output_type": "execute_result"
    }
   ],
   "source": [
    "df.shape"
   ]
  },
  {
   "cell_type": "code",
   "execution_count": 11,
   "id": "2ede7ea4",
   "metadata": {
    "execution": {
     "iopub.execute_input": "2023-08-21T12:27:17.472007Z",
     "iopub.status.busy": "2023-08-21T12:27:17.471556Z",
     "iopub.status.idle": "2023-08-21T12:27:17.505207Z",
     "shell.execute_reply": "2023-08-21T12:27:17.504261Z"
    },
    "papermill": {
     "duration": 0.06214,
     "end_time": "2023-08-21T12:27:17.507704",
     "exception": false,
     "start_time": "2023-08-21T12:27:17.445564",
     "status": "completed"
    },
    "tags": []
   },
   "outputs": [
    {
     "data": {
      "text/html": [
       "<div>\n",
       "<style scoped>\n",
       "    .dataframe tbody tr th:only-of-type {\n",
       "        vertical-align: middle;\n",
       "    }\n",
       "\n",
       "    .dataframe tbody tr th {\n",
       "        vertical-align: top;\n",
       "    }\n",
       "\n",
       "    .dataframe thead th {\n",
       "        text-align: right;\n",
       "    }\n",
       "</style>\n",
       "<table border=\"1\" class=\"dataframe\">\n",
       "  <thead>\n",
       "    <tr style=\"text-align: right;\">\n",
       "      <th></th>\n",
       "      <th>id</th>\n",
       "      <th>diagnosis</th>\n",
       "      <th>radius_mean</th>\n",
       "      <th>texture_mean</th>\n",
       "      <th>perimeter_mean</th>\n",
       "      <th>area_mean</th>\n",
       "      <th>smoothness_mean</th>\n",
       "      <th>compactness_mean</th>\n",
       "      <th>concavity_mean</th>\n",
       "      <th>concave points_mean</th>\n",
       "      <th>...</th>\n",
       "      <th>radius_worst</th>\n",
       "      <th>texture_worst</th>\n",
       "      <th>perimeter_worst</th>\n",
       "      <th>area_worst</th>\n",
       "      <th>smoothness_worst</th>\n",
       "      <th>compactness_worst</th>\n",
       "      <th>concavity_worst</th>\n",
       "      <th>concave points_worst</th>\n",
       "      <th>symmetry_worst</th>\n",
       "      <th>fractal_dimension_worst</th>\n",
       "    </tr>\n",
       "  </thead>\n",
       "  <tbody>\n",
       "    <tr>\n",
       "      <th>513</th>\n",
       "      <td>915940</td>\n",
       "      <td>B</td>\n",
       "      <td>14.58</td>\n",
       "      <td>13.66</td>\n",
       "      <td>94.29</td>\n",
       "      <td>658.8</td>\n",
       "      <td>0.09832</td>\n",
       "      <td>0.08918</td>\n",
       "      <td>0.08222</td>\n",
       "      <td>0.043490</td>\n",
       "      <td>...</td>\n",
       "      <td>16.76</td>\n",
       "      <td>17.24</td>\n",
       "      <td>108.50</td>\n",
       "      <td>862.0</td>\n",
       "      <td>0.1223</td>\n",
       "      <td>0.1928</td>\n",
       "      <td>0.2492</td>\n",
       "      <td>0.09186</td>\n",
       "      <td>0.2626</td>\n",
       "      <td>0.07048</td>\n",
       "    </tr>\n",
       "    <tr>\n",
       "      <th>478</th>\n",
       "      <td>911685</td>\n",
       "      <td>B</td>\n",
       "      <td>11.49</td>\n",
       "      <td>14.59</td>\n",
       "      <td>73.99</td>\n",
       "      <td>404.9</td>\n",
       "      <td>0.10460</td>\n",
       "      <td>0.08228</td>\n",
       "      <td>0.05308</td>\n",
       "      <td>0.019690</td>\n",
       "      <td>...</td>\n",
       "      <td>12.40</td>\n",
       "      <td>21.90</td>\n",
       "      <td>82.04</td>\n",
       "      <td>467.6</td>\n",
       "      <td>0.1352</td>\n",
       "      <td>0.2010</td>\n",
       "      <td>0.2596</td>\n",
       "      <td>0.07431</td>\n",
       "      <td>0.2941</td>\n",
       "      <td>0.09180</td>\n",
       "    </tr>\n",
       "    <tr>\n",
       "      <th>563</th>\n",
       "      <td>926125</td>\n",
       "      <td>M</td>\n",
       "      <td>20.92</td>\n",
       "      <td>25.09</td>\n",
       "      <td>143.00</td>\n",
       "      <td>1347.0</td>\n",
       "      <td>0.10990</td>\n",
       "      <td>0.22360</td>\n",
       "      <td>0.31740</td>\n",
       "      <td>0.147400</td>\n",
       "      <td>...</td>\n",
       "      <td>24.29</td>\n",
       "      <td>29.41</td>\n",
       "      <td>179.10</td>\n",
       "      <td>1819.0</td>\n",
       "      <td>0.1407</td>\n",
       "      <td>0.4186</td>\n",
       "      <td>0.6599</td>\n",
       "      <td>0.25420</td>\n",
       "      <td>0.2929</td>\n",
       "      <td>0.09873</td>\n",
       "    </tr>\n",
       "    <tr>\n",
       "      <th>481</th>\n",
       "      <td>91227</td>\n",
       "      <td>B</td>\n",
       "      <td>13.90</td>\n",
       "      <td>19.24</td>\n",
       "      <td>88.73</td>\n",
       "      <td>602.9</td>\n",
       "      <td>0.07991</td>\n",
       "      <td>0.05326</td>\n",
       "      <td>0.02995</td>\n",
       "      <td>0.020700</td>\n",
       "      <td>...</td>\n",
       "      <td>16.41</td>\n",
       "      <td>26.42</td>\n",
       "      <td>104.40</td>\n",
       "      <td>830.5</td>\n",
       "      <td>0.1064</td>\n",
       "      <td>0.1415</td>\n",
       "      <td>0.1673</td>\n",
       "      <td>0.08150</td>\n",
       "      <td>0.2356</td>\n",
       "      <td>0.07603</td>\n",
       "    </tr>\n",
       "    <tr>\n",
       "      <th>398</th>\n",
       "      <td>904302</td>\n",
       "      <td>B</td>\n",
       "      <td>11.06</td>\n",
       "      <td>14.83</td>\n",
       "      <td>70.31</td>\n",
       "      <td>378.2</td>\n",
       "      <td>0.07741</td>\n",
       "      <td>0.04768</td>\n",
       "      <td>0.02712</td>\n",
       "      <td>0.007246</td>\n",
       "      <td>...</td>\n",
       "      <td>12.68</td>\n",
       "      <td>20.35</td>\n",
       "      <td>80.79</td>\n",
       "      <td>496.7</td>\n",
       "      <td>0.1120</td>\n",
       "      <td>0.1879</td>\n",
       "      <td>0.2079</td>\n",
       "      <td>0.05556</td>\n",
       "      <td>0.2590</td>\n",
       "      <td>0.09158</td>\n",
       "    </tr>\n",
       "  </tbody>\n",
       "</table>\n",
       "<p>5 rows × 32 columns</p>\n",
       "</div>"
      ],
      "text/plain": [
       "         id diagnosis  radius_mean  texture_mean  perimeter_mean  area_mean  \\\n",
       "513  915940         B        14.58         13.66           94.29      658.8   \n",
       "478  911685         B        11.49         14.59           73.99      404.9   \n",
       "563  926125         M        20.92         25.09          143.00     1347.0   \n",
       "481   91227         B        13.90         19.24           88.73      602.9   \n",
       "398  904302         B        11.06         14.83           70.31      378.2   \n",
       "\n",
       "     smoothness_mean  compactness_mean  concavity_mean  concave points_mean  \\\n",
       "513          0.09832           0.08918         0.08222             0.043490   \n",
       "478          0.10460           0.08228         0.05308             0.019690   \n",
       "563          0.10990           0.22360         0.31740             0.147400   \n",
       "481          0.07991           0.05326         0.02995             0.020700   \n",
       "398          0.07741           0.04768         0.02712             0.007246   \n",
       "\n",
       "     ...  radius_worst  texture_worst  perimeter_worst  area_worst  \\\n",
       "513  ...         16.76          17.24           108.50       862.0   \n",
       "478  ...         12.40          21.90            82.04       467.6   \n",
       "563  ...         24.29          29.41           179.10      1819.0   \n",
       "481  ...         16.41          26.42           104.40       830.5   \n",
       "398  ...         12.68          20.35            80.79       496.7   \n",
       "\n",
       "     smoothness_worst  compactness_worst  concavity_worst  \\\n",
       "513            0.1223             0.1928           0.2492   \n",
       "478            0.1352             0.2010           0.2596   \n",
       "563            0.1407             0.4186           0.6599   \n",
       "481            0.1064             0.1415           0.1673   \n",
       "398            0.1120             0.1879           0.2079   \n",
       "\n",
       "     concave points_worst  symmetry_worst  fractal_dimension_worst  \n",
       "513               0.09186          0.2626                  0.07048  \n",
       "478               0.07431          0.2941                  0.09180  \n",
       "563               0.25420          0.2929                  0.09873  \n",
       "481               0.08150          0.2356                  0.07603  \n",
       "398               0.05556          0.2590                  0.09158  \n",
       "\n",
       "[5 rows x 32 columns]"
      ]
     },
     "execution_count": 11,
     "metadata": {},
     "output_type": "execute_result"
    }
   ],
   "source": [
    "df.sample(5)"
   ]
  },
  {
   "cell_type": "markdown",
   "id": "860071c7",
   "metadata": {
    "papermill": {
     "duration": 0.024121,
     "end_time": "2023-08-21T12:27:17.555708",
     "exception": false,
     "start_time": "2023-08-21T12:27:17.531587",
     "status": "completed"
    },
    "tags": []
   },
   "source": [
    "## Dealing with missing data"
   ]
  },
  {
   "cell_type": "code",
   "execution_count": 12,
   "id": "cf04ccec",
   "metadata": {
    "execution": {
     "iopub.execute_input": "2023-08-21T12:27:17.606250Z",
     "iopub.status.busy": "2023-08-21T12:27:17.605803Z",
     "iopub.status.idle": "2023-08-21T12:27:17.626167Z",
     "shell.execute_reply": "2023-08-21T12:27:17.624452Z"
    },
    "papermill": {
     "duration": 0.049274,
     "end_time": "2023-08-21T12:27:17.629418",
     "exception": false,
     "start_time": "2023-08-21T12:27:17.580144",
     "status": "completed"
    },
    "scrolled": true,
    "tags": []
   },
   "outputs": [
    {
     "name": "stdout",
     "output_type": "stream",
     "text": [
      "id column missing values: 0\n",
      "diagnosis column missing values: 0\n",
      "radius_mean column missing values: 0\n",
      "texture_mean column missing values: 0\n",
      "perimeter_mean column missing values: 0\n",
      "area_mean column missing values: 0\n",
      "smoothness_mean column missing values: 0\n",
      "compactness_mean column missing values: 0\n",
      "concavity_mean column missing values: 0\n",
      "concave points_mean column missing values: 0\n",
      "symmetry_mean column missing values: 0\n",
      "fractal_dimension_mean column missing values: 0\n",
      "radius_se column missing values: 0\n",
      "texture_se column missing values: 0\n",
      "perimeter_se column missing values: 0\n",
      "area_se column missing values: 0\n",
      "smoothness_se column missing values: 0\n",
      "compactness_se column missing values: 0\n",
      "concavity_se column missing values: 0\n",
      "concave points_se column missing values: 0\n",
      "symmetry_se column missing values: 0\n",
      "fractal_dimension_se column missing values: 0\n",
      "radius_worst column missing values: 0\n",
      "texture_worst column missing values: 0\n",
      "perimeter_worst column missing values: 0\n",
      "area_worst column missing values: 0\n",
      "smoothness_worst column missing values: 0\n",
      "compactness_worst column missing values: 0\n",
      "concavity_worst column missing values: 0\n",
      "concave points_worst column missing values: 0\n",
      "symmetry_worst column missing values: 0\n",
      "fractal_dimension_worst column missing values: 0\n",
      "\n",
      "\n"
     ]
    }
   ],
   "source": [
    "def display_missing(dfs):\n",
    "    for df in dfs:\n",
    "        for col in df.columns.tolist():\n",
    "            print(col, \"column missing values:\", df[col].isnull().sum())\n",
    "        print('\\n')\n",
    "\n",
    "# Assuming 'df' is your DataFrame\n",
    "display_missing([df])\n"
   ]
  },
  {
   "cell_type": "markdown",
   "id": "6d8acb35",
   "metadata": {
    "papermill": {
     "duration": 0.023661,
     "end_time": "2023-08-21T12:27:17.677528",
     "exception": false,
     "start_time": "2023-08-21T12:27:17.653867",
     "status": "completed"
    },
    "tags": []
   },
   "source": [
    "## X and y"
   ]
  },
  {
   "cell_type": "code",
   "execution_count": 13,
   "id": "7d861c27",
   "metadata": {
    "execution": {
     "iopub.execute_input": "2023-08-21T12:27:17.728908Z",
     "iopub.status.busy": "2023-08-21T12:27:17.728412Z",
     "iopub.status.idle": "2023-08-21T12:27:17.734686Z",
     "shell.execute_reply": "2023-08-21T12:27:17.733534Z"
    },
    "papermill": {
     "duration": 0.034037,
     "end_time": "2023-08-21T12:27:17.736922",
     "exception": false,
     "start_time": "2023-08-21T12:27:17.702885",
     "status": "completed"
    },
    "tags": []
   },
   "outputs": [],
   "source": [
    "X = df.iloc[:, 2:].values\n",
    "y = df.iloc[:, 1].values"
   ]
  },
  {
   "cell_type": "markdown",
   "id": "901a4b1a",
   "metadata": {
    "papermill": {
     "duration": 0.026448,
     "end_time": "2023-08-21T12:27:17.787477",
     "exception": false,
     "start_time": "2023-08-21T12:27:17.761029",
     "status": "completed"
    },
    "tags": []
   },
   "source": [
    "## Encoding categorical y"
   ]
  },
  {
   "cell_type": "code",
   "execution_count": 14,
   "id": "03bbcf40",
   "metadata": {
    "execution": {
     "iopub.execute_input": "2023-08-21T12:27:17.840787Z",
     "iopub.status.busy": "2023-08-21T12:27:17.840346Z",
     "iopub.status.idle": "2023-08-21T12:27:18.041252Z",
     "shell.execute_reply": "2023-08-21T12:27:18.039586Z"
    },
    "papermill": {
     "duration": 0.231063,
     "end_time": "2023-08-21T12:27:18.044768",
     "exception": false,
     "start_time": "2023-08-21T12:27:17.813705",
     "status": "completed"
    },
    "tags": []
   },
   "outputs": [],
   "source": [
    "from sklearn.preprocessing import LabelEncoder\n",
    "# Initialize LabelEncoder\n",
    "le = LabelEncoder()\n",
    "\n",
    "# Encode the target variable 'y'\n",
    "y = le.fit_transform(y)\n",
    "\n",
    "# Update the 'Column2' with the encoded values\n",
    "df['diagnosis'] = y\n"
   ]
  },
  {
   "cell_type": "markdown",
   "id": "d1be3730",
   "metadata": {
    "papermill": {
     "duration": 0.025035,
     "end_time": "2023-08-21T12:27:18.094265",
     "exception": false,
     "start_time": "2023-08-21T12:27:18.069230",
     "status": "completed"
    },
    "tags": []
   },
   "source": [
    "### Verifying y"
   ]
  },
  {
   "cell_type": "code",
   "execution_count": 15,
   "id": "d681413e",
   "metadata": {
    "execution": {
     "iopub.execute_input": "2023-08-21T12:27:18.149954Z",
     "iopub.status.busy": "2023-08-21T12:27:18.148517Z",
     "iopub.status.idle": "2023-08-21T12:27:18.162169Z",
     "shell.execute_reply": "2023-08-21T12:27:18.160529Z"
    },
    "papermill": {
     "duration": 0.0434,
     "end_time": "2023-08-21T12:27:18.165989",
     "exception": false,
     "start_time": "2023-08-21T12:27:18.122589",
     "status": "completed"
    },
    "tags": []
   },
   "outputs": [
    {
     "data": {
      "text/html": [
       "<div>\n",
       "<style scoped>\n",
       "    .dataframe tbody tr th:only-of-type {\n",
       "        vertical-align: middle;\n",
       "    }\n",
       "\n",
       "    .dataframe tbody tr th {\n",
       "        vertical-align: top;\n",
       "    }\n",
       "\n",
       "    .dataframe thead th {\n",
       "        text-align: right;\n",
       "    }\n",
       "</style>\n",
       "<table border=\"1\" class=\"dataframe\">\n",
       "  <thead>\n",
       "    <tr style=\"text-align: right;\">\n",
       "      <th></th>\n",
       "      <th>0</th>\n",
       "    </tr>\n",
       "  </thead>\n",
       "  <tbody>\n",
       "    <tr>\n",
       "      <th>0</th>\n",
       "      <td>1</td>\n",
       "    </tr>\n",
       "    <tr>\n",
       "      <th>1</th>\n",
       "      <td>1</td>\n",
       "    </tr>\n",
       "    <tr>\n",
       "      <th>2</th>\n",
       "      <td>1</td>\n",
       "    </tr>\n",
       "    <tr>\n",
       "      <th>3</th>\n",
       "      <td>1</td>\n",
       "    </tr>\n",
       "    <tr>\n",
       "      <th>4</th>\n",
       "      <td>1</td>\n",
       "    </tr>\n",
       "    <tr>\n",
       "      <th>...</th>\n",
       "      <td>...</td>\n",
       "    </tr>\n",
       "    <tr>\n",
       "      <th>564</th>\n",
       "      <td>1</td>\n",
       "    </tr>\n",
       "    <tr>\n",
       "      <th>565</th>\n",
       "      <td>1</td>\n",
       "    </tr>\n",
       "    <tr>\n",
       "      <th>566</th>\n",
       "      <td>1</td>\n",
       "    </tr>\n",
       "    <tr>\n",
       "      <th>567</th>\n",
       "      <td>1</td>\n",
       "    </tr>\n",
       "    <tr>\n",
       "      <th>568</th>\n",
       "      <td>0</td>\n",
       "    </tr>\n",
       "  </tbody>\n",
       "</table>\n",
       "<p>569 rows × 1 columns</p>\n",
       "</div>"
      ],
      "text/plain": [
       "     0\n",
       "0    1\n",
       "1    1\n",
       "2    1\n",
       "3    1\n",
       "4    1\n",
       "..  ..\n",
       "564  1\n",
       "565  1\n",
       "566  1\n",
       "567  1\n",
       "568  0\n",
       "\n",
       "[569 rows x 1 columns]"
      ]
     },
     "execution_count": 15,
     "metadata": {},
     "output_type": "execute_result"
    }
   ],
   "source": [
    "pd.DataFrame(y)"
   ]
  },
  {
   "cell_type": "code",
   "execution_count": 16,
   "id": "980cf8d7",
   "metadata": {
    "execution": {
     "iopub.execute_input": "2023-08-21T12:27:18.223906Z",
     "iopub.status.busy": "2023-08-21T12:27:18.223193Z",
     "iopub.status.idle": "2023-08-21T12:27:18.260081Z",
     "shell.execute_reply": "2023-08-21T12:27:18.258542Z"
    },
    "papermill": {
     "duration": 0.071253,
     "end_time": "2023-08-21T12:27:18.264377",
     "exception": false,
     "start_time": "2023-08-21T12:27:18.193124",
     "status": "completed"
    },
    "tags": []
   },
   "outputs": [
    {
     "data": {
      "text/html": [
       "<div>\n",
       "<style scoped>\n",
       "    .dataframe tbody tr th:only-of-type {\n",
       "        vertical-align: middle;\n",
       "    }\n",
       "\n",
       "    .dataframe tbody tr th {\n",
       "        vertical-align: top;\n",
       "    }\n",
       "\n",
       "    .dataframe thead th {\n",
       "        text-align: right;\n",
       "    }\n",
       "</style>\n",
       "<table border=\"1\" class=\"dataframe\">\n",
       "  <thead>\n",
       "    <tr style=\"text-align: right;\">\n",
       "      <th></th>\n",
       "      <th>id</th>\n",
       "      <th>diagnosis</th>\n",
       "      <th>radius_mean</th>\n",
       "      <th>texture_mean</th>\n",
       "      <th>perimeter_mean</th>\n",
       "      <th>area_mean</th>\n",
       "      <th>smoothness_mean</th>\n",
       "      <th>compactness_mean</th>\n",
       "      <th>concavity_mean</th>\n",
       "      <th>concave points_mean</th>\n",
       "      <th>...</th>\n",
       "      <th>radius_worst</th>\n",
       "      <th>texture_worst</th>\n",
       "      <th>perimeter_worst</th>\n",
       "      <th>area_worst</th>\n",
       "      <th>smoothness_worst</th>\n",
       "      <th>compactness_worst</th>\n",
       "      <th>concavity_worst</th>\n",
       "      <th>concave points_worst</th>\n",
       "      <th>symmetry_worst</th>\n",
       "      <th>fractal_dimension_worst</th>\n",
       "    </tr>\n",
       "  </thead>\n",
       "  <tbody>\n",
       "    <tr>\n",
       "      <th>87</th>\n",
       "      <td>86135502</td>\n",
       "      <td>1</td>\n",
       "      <td>19.02</td>\n",
       "      <td>24.59</td>\n",
       "      <td>122.00</td>\n",
       "      <td>1076.0</td>\n",
       "      <td>0.09029</td>\n",
       "      <td>0.12060</td>\n",
       "      <td>0.14680</td>\n",
       "      <td>0.08271</td>\n",
       "      <td>...</td>\n",
       "      <td>24.56</td>\n",
       "      <td>30.41</td>\n",
       "      <td>152.90</td>\n",
       "      <td>1623.0</td>\n",
       "      <td>0.1249</td>\n",
       "      <td>0.3206</td>\n",
       "      <td>0.5755</td>\n",
       "      <td>0.19560</td>\n",
       "      <td>0.3956</td>\n",
       "      <td>0.09288</td>\n",
       "    </tr>\n",
       "    <tr>\n",
       "      <th>411</th>\n",
       "      <td>905520</td>\n",
       "      <td>0</td>\n",
       "      <td>11.04</td>\n",
       "      <td>16.83</td>\n",
       "      <td>70.92</td>\n",
       "      <td>373.2</td>\n",
       "      <td>0.10770</td>\n",
       "      <td>0.07804</td>\n",
       "      <td>0.03046</td>\n",
       "      <td>0.02480</td>\n",
       "      <td>...</td>\n",
       "      <td>12.41</td>\n",
       "      <td>26.44</td>\n",
       "      <td>79.93</td>\n",
       "      <td>471.4</td>\n",
       "      <td>0.1369</td>\n",
       "      <td>0.1482</td>\n",
       "      <td>0.1067</td>\n",
       "      <td>0.07431</td>\n",
       "      <td>0.2998</td>\n",
       "      <td>0.07881</td>\n",
       "    </tr>\n",
       "    <tr>\n",
       "      <th>440</th>\n",
       "      <td>909411</td>\n",
       "      <td>0</td>\n",
       "      <td>10.97</td>\n",
       "      <td>17.20</td>\n",
       "      <td>71.73</td>\n",
       "      <td>371.5</td>\n",
       "      <td>0.08915</td>\n",
       "      <td>0.11130</td>\n",
       "      <td>0.09457</td>\n",
       "      <td>0.03613</td>\n",
       "      <td>...</td>\n",
       "      <td>12.36</td>\n",
       "      <td>26.87</td>\n",
       "      <td>90.14</td>\n",
       "      <td>476.4</td>\n",
       "      <td>0.1391</td>\n",
       "      <td>0.4082</td>\n",
       "      <td>0.4779</td>\n",
       "      <td>0.15550</td>\n",
       "      <td>0.2540</td>\n",
       "      <td>0.09532</td>\n",
       "    </tr>\n",
       "    <tr>\n",
       "      <th>370</th>\n",
       "      <td>9012315</td>\n",
       "      <td>1</td>\n",
       "      <td>16.35</td>\n",
       "      <td>23.29</td>\n",
       "      <td>109.00</td>\n",
       "      <td>840.4</td>\n",
       "      <td>0.09742</td>\n",
       "      <td>0.14970</td>\n",
       "      <td>0.18110</td>\n",
       "      <td>0.08773</td>\n",
       "      <td>...</td>\n",
       "      <td>19.38</td>\n",
       "      <td>31.03</td>\n",
       "      <td>129.30</td>\n",
       "      <td>1165.0</td>\n",
       "      <td>0.1415</td>\n",
       "      <td>0.4665</td>\n",
       "      <td>0.7087</td>\n",
       "      <td>0.22480</td>\n",
       "      <td>0.4824</td>\n",
       "      <td>0.09614</td>\n",
       "    </tr>\n",
       "    <tr>\n",
       "      <th>369</th>\n",
       "      <td>9012000</td>\n",
       "      <td>1</td>\n",
       "      <td>22.01</td>\n",
       "      <td>21.90</td>\n",
       "      <td>147.20</td>\n",
       "      <td>1482.0</td>\n",
       "      <td>0.10630</td>\n",
       "      <td>0.19540</td>\n",
       "      <td>0.24480</td>\n",
       "      <td>0.15010</td>\n",
       "      <td>...</td>\n",
       "      <td>27.66</td>\n",
       "      <td>25.80</td>\n",
       "      <td>195.00</td>\n",
       "      <td>2227.0</td>\n",
       "      <td>0.1294</td>\n",
       "      <td>0.3885</td>\n",
       "      <td>0.4756</td>\n",
       "      <td>0.24320</td>\n",
       "      <td>0.2741</td>\n",
       "      <td>0.08574</td>\n",
       "    </tr>\n",
       "  </tbody>\n",
       "</table>\n",
       "<p>5 rows × 32 columns</p>\n",
       "</div>"
      ],
      "text/plain": [
       "           id  diagnosis  radius_mean  texture_mean  perimeter_mean  \\\n",
       "87   86135502          1        19.02         24.59          122.00   \n",
       "411    905520          0        11.04         16.83           70.92   \n",
       "440    909411          0        10.97         17.20           71.73   \n",
       "370   9012315          1        16.35         23.29          109.00   \n",
       "369   9012000          1        22.01         21.90          147.20   \n",
       "\n",
       "     area_mean  smoothness_mean  compactness_mean  concavity_mean  \\\n",
       "87      1076.0          0.09029           0.12060         0.14680   \n",
       "411      373.2          0.10770           0.07804         0.03046   \n",
       "440      371.5          0.08915           0.11130         0.09457   \n",
       "370      840.4          0.09742           0.14970         0.18110   \n",
       "369     1482.0          0.10630           0.19540         0.24480   \n",
       "\n",
       "     concave points_mean  ...  radius_worst  texture_worst  perimeter_worst  \\\n",
       "87               0.08271  ...         24.56          30.41           152.90   \n",
       "411              0.02480  ...         12.41          26.44            79.93   \n",
       "440              0.03613  ...         12.36          26.87            90.14   \n",
       "370              0.08773  ...         19.38          31.03           129.30   \n",
       "369              0.15010  ...         27.66          25.80           195.00   \n",
       "\n",
       "     area_worst  smoothness_worst  compactness_worst  concavity_worst  \\\n",
       "87       1623.0            0.1249             0.3206           0.5755   \n",
       "411       471.4            0.1369             0.1482           0.1067   \n",
       "440       476.4            0.1391             0.4082           0.4779   \n",
       "370      1165.0            0.1415             0.4665           0.7087   \n",
       "369      2227.0            0.1294             0.3885           0.4756   \n",
       "\n",
       "     concave points_worst  symmetry_worst  fractal_dimension_worst  \n",
       "87                0.19560          0.3956                  0.09288  \n",
       "411               0.07431          0.2998                  0.07881  \n",
       "440               0.15550          0.2540                  0.09532  \n",
       "370               0.22480          0.4824                  0.09614  \n",
       "369               0.24320          0.2741                  0.08574  \n",
       "\n",
       "[5 rows x 32 columns]"
      ]
     },
     "execution_count": 16,
     "metadata": {},
     "output_type": "execute_result"
    }
   ],
   "source": [
    "df.sample(5)"
   ]
  },
  {
   "cell_type": "markdown",
   "id": "c1dddda8",
   "metadata": {
    "id": "CnTnZiSWgAK1",
    "papermill": {
     "duration": 0.02741,
     "end_time": "2023-08-21T12:27:18.319784",
     "exception": false,
     "start_time": "2023-08-21T12:27:18.292374",
     "status": "completed"
    },
    "tags": []
   },
   "source": [
    "## Counting the y-values"
   ]
  },
  {
   "cell_type": "code",
   "execution_count": 17,
   "id": "2892ef27",
   "metadata": {
    "execution": {
     "iopub.execute_input": "2023-08-21T12:27:18.378095Z",
     "iopub.status.busy": "2023-08-21T12:27:18.377652Z",
     "iopub.status.idle": "2023-08-21T12:27:18.640768Z",
     "shell.execute_reply": "2023-08-21T12:27:18.638720Z"
    },
    "id": "GTwT_R-XfA1u",
    "outputId": "70a44dea-fb30-41a4-90f9-d240ffa52236",
    "papermill": {
     "duration": 0.297965,
     "end_time": "2023-08-21T12:27:18.644247",
     "exception": false,
     "start_time": "2023-08-21T12:27:18.346282",
     "status": "completed"
    },
    "tags": []
   },
   "outputs": [
    {
     "data": {
      "image/png": "[encoded data removed]",
      "text/plain": [
       "<Figure size 640x480 with 1 Axes>"
      ]
     },
     "metadata": {},
     "output_type": "display_data"
    }
   ],
   "source": [
    "# Count the occurrences of each value\n",
    "count_0 = np.count_nonzero(y == 0)\n",
    "count_1 = np.count_nonzero(y == 1)\n",
    "\n",
    "# Set up the plot\n",
    "fig, ax = plt.subplots()\n",
    "ax.bar([0, 1], [count_0, count_1], tick_label=[\"0\", \"1\"], color=[\"blue\", \"green\"])\n",
    "\n",
    "# Add labels and title\n",
    "ax.set_xlabel(\"Value\")\n",
    "ax.set_ylabel(\"Count\")\n",
    "ax.set_title(\"Distribution of Binary Variable\")\n",
    "\n",
    "plt.show()"
   ]
  },
  {
   "cell_type": "code",
   "execution_count": 18,
   "id": "5a4ddc17",
   "metadata": {
    "execution": {
     "iopub.execute_input": "2023-08-21T12:27:18.698004Z",
     "iopub.status.busy": "2023-08-21T12:27:18.697246Z",
     "iopub.status.idle": "2023-08-21T12:27:18.707312Z",
     "shell.execute_reply": "2023-08-21T12:27:18.706065Z"
    },
    "id": "Cd14ELENf4Bm",
    "outputId": "366440ad-769a-48c7-934a-d0fdb565fee5",
    "papermill": {
     "duration": 0.040645,
     "end_time": "2023-08-21T12:27:18.710189",
     "exception": false,
     "start_time": "2023-08-21T12:27:18.669544",
     "status": "completed"
    },
    "scrolled": true,
    "tags": []
   },
   "outputs": [
    {
     "data": {
      "text/plain": [
       "357"
      ]
     },
     "execution_count": 18,
     "metadata": {},
     "output_type": "execute_result"
    }
   ],
   "source": [
    "# benign (B) values\n",
    "(y == 0).sum()"
   ]
  },
  {
   "cell_type": "code",
   "execution_count": 19,
   "id": "e4a7315f",
   "metadata": {
    "execution": {
     "iopub.execute_input": "2023-08-21T12:27:18.769593Z",
     "iopub.status.busy": "2023-08-21T12:27:18.769146Z",
     "iopub.status.idle": "2023-08-21T12:27:18.777090Z",
     "shell.execute_reply": "2023-08-21T12:27:18.775804Z"
    },
    "id": "6J3ceilcfslQ",
    "outputId": "0e05aa38-4f16-47ea-ec43-1caea16cf858",
    "papermill": {
     "duration": 0.041439,
     "end_time": "2023-08-21T12:27:18.779750",
     "exception": false,
     "start_time": "2023-08-21T12:27:18.738311",
     "status": "completed"
    },
    "tags": []
   },
   "outputs": [
    {
     "data": {
      "text/plain": [
       "212"
      ]
     },
     "execution_count": 19,
     "metadata": {},
     "output_type": "execute_result"
    }
   ],
   "source": [
    "# malignant (M) values\n",
    "(y == 1).sum()"
   ]
  },
  {
   "cell_type": "markdown",
   "id": "37a11c7a",
   "metadata": {
    "papermill": {
     "duration": 0.025683,
     "end_time": "2023-08-21T12:27:18.833191",
     "exception": false,
     "start_time": "2023-08-21T12:27:18.807508",
     "status": "completed"
    },
    "tags": []
   },
   "source": [
    "> This indicates imbalanced output, which would require RegularizedSearchCV later in hyperparameter tuning"
   ]
  },
  {
   "cell_type": "markdown",
   "id": "79e60952",
   "metadata": {
    "papermill": {
     "duration": 0.025455,
     "end_time": "2023-08-21T12:27:18.885288",
     "exception": false,
     "start_time": "2023-08-21T12:27:18.859833",
     "status": "completed"
    },
    "tags": []
   },
   "source": [
    "## Correlation Matrix and Heatmap"
   ]
  },
  {
   "cell_type": "code",
   "execution_count": 20,
   "id": "1946a64c",
   "metadata": {
    "execution": {
     "iopub.execute_input": "2023-08-21T12:27:18.941427Z",
     "iopub.status.busy": "2023-08-21T12:27:18.940959Z",
     "iopub.status.idle": "2023-08-21T12:27:19.003753Z",
     "shell.execute_reply": "2023-08-21T12:27:19.002258Z"
    },
    "papermill": {
     "duration": 0.095041,
     "end_time": "2023-08-21T12:27:19.006493",
     "exception": false,
     "start_time": "2023-08-21T12:27:18.911452",
     "status": "completed"
    },
    "tags": []
   },
   "outputs": [
    {
     "data": {
      "text/html": [
       "<div>\n",
       "<style scoped>\n",
       "    .dataframe tbody tr th:only-of-type {\n",
       "        vertical-align: middle;\n",
       "    }\n",
       "\n",
       "    .dataframe tbody tr th {\n",
       "        vertical-align: top;\n",
       "    }\n",
       "\n",
       "    .dataframe thead th {\n",
       "        text-align: right;\n",
       "    }\n",
       "</style>\n",
       "<table border=\"1\" class=\"dataframe\">\n",
       "  <thead>\n",
       "    <tr style=\"text-align: right;\">\n",
       "      <th></th>\n",
       "      <th>id</th>\n",
       "      <th>diagnosis</th>\n",
       "      <th>radius_mean</th>\n",
       "      <th>texture_mean</th>\n",
       "      <th>perimeter_mean</th>\n",
       "      <th>area_mean</th>\n",
       "      <th>smoothness_mean</th>\n",
       "      <th>compactness_mean</th>\n",
       "      <th>concavity_mean</th>\n",
       "      <th>concave points_mean</th>\n",
       "      <th>...</th>\n",
       "      <th>radius_worst</th>\n",
       "      <th>texture_worst</th>\n",
       "      <th>perimeter_worst</th>\n",
       "      <th>area_worst</th>\n",
       "      <th>smoothness_worst</th>\n",
       "      <th>compactness_worst</th>\n",
       "      <th>concavity_worst</th>\n",
       "      <th>concave points_worst</th>\n",
       "      <th>symmetry_worst</th>\n",
       "      <th>fractal_dimension_worst</th>\n",
       "    </tr>\n",
       "  </thead>\n",
       "  <tbody>\n",
       "    <tr>\n",
       "      <th>id</th>\n",
       "      <td>1.000000</td>\n",
       "      <td>0.039769</td>\n",
       "      <td>0.074626</td>\n",
       "      <td>0.099770</td>\n",
       "      <td>0.073159</td>\n",
       "      <td>0.096893</td>\n",
       "      <td>-0.012968</td>\n",
       "      <td>0.000096</td>\n",
       "      <td>0.050080</td>\n",
       "      <td>0.044158</td>\n",
       "      <td>...</td>\n",
       "      <td>0.082405</td>\n",
       "      <td>0.064720</td>\n",
       "      <td>0.079986</td>\n",
       "      <td>0.107187</td>\n",
       "      <td>0.010338</td>\n",
       "      <td>-0.002968</td>\n",
       "      <td>0.023203</td>\n",
       "      <td>0.035174</td>\n",
       "      <td>-0.044224</td>\n",
       "      <td>-0.029866</td>\n",
       "    </tr>\n",
       "    <tr>\n",
       "      <th>diagnosis</th>\n",
       "      <td>0.039769</td>\n",
       "      <td>1.000000</td>\n",
       "      <td>0.730029</td>\n",
       "      <td>0.415185</td>\n",
       "      <td>0.742636</td>\n",
       "      <td>0.708984</td>\n",
       "      <td>0.358560</td>\n",
       "      <td>0.596534</td>\n",
       "      <td>0.696360</td>\n",
       "      <td>0.776614</td>\n",
       "      <td>...</td>\n",
       "      <td>0.776454</td>\n",
       "      <td>0.456903</td>\n",
       "      <td>0.782914</td>\n",
       "      <td>0.733825</td>\n",
       "      <td>0.421465</td>\n",
       "      <td>0.590998</td>\n",
       "      <td>0.659610</td>\n",
       "      <td>0.793566</td>\n",
       "      <td>0.416294</td>\n",
       "      <td>0.323872</td>\n",
       "    </tr>\n",
       "    <tr>\n",
       "      <th>radius_mean</th>\n",
       "      <td>0.074626</td>\n",
       "      <td>0.730029</td>\n",
       "      <td>1.000000</td>\n",
       "      <td>0.323782</td>\n",
       "      <td>0.997855</td>\n",
       "      <td>0.987357</td>\n",
       "      <td>0.170581</td>\n",
       "      <td>0.506124</td>\n",
       "      <td>0.676764</td>\n",
       "      <td>0.822529</td>\n",
       "      <td>...</td>\n",
       "      <td>0.969539</td>\n",
       "      <td>0.297008</td>\n",
       "      <td>0.965137</td>\n",
       "      <td>0.941082</td>\n",
       "      <td>0.119616</td>\n",
       "      <td>0.413463</td>\n",
       "      <td>0.526911</td>\n",
       "      <td>0.744214</td>\n",
       "      <td>0.163953</td>\n",
       "      <td>0.007066</td>\n",
       "    </tr>\n",
       "    <tr>\n",
       "      <th>texture_mean</th>\n",
       "      <td>0.099770</td>\n",
       "      <td>0.415185</td>\n",
       "      <td>0.323782</td>\n",
       "      <td>1.000000</td>\n",
       "      <td>0.329533</td>\n",
       "      <td>0.321086</td>\n",
       "      <td>-0.023389</td>\n",
       "      <td>0.236702</td>\n",
       "      <td>0.302418</td>\n",
       "      <td>0.293464</td>\n",
       "      <td>...</td>\n",
       "      <td>0.352573</td>\n",
       "      <td>0.912045</td>\n",
       "      <td>0.358040</td>\n",
       "      <td>0.343546</td>\n",
       "      <td>0.077503</td>\n",
       "      <td>0.277830</td>\n",
       "      <td>0.301025</td>\n",
       "      <td>0.295316</td>\n",
       "      <td>0.105008</td>\n",
       "      <td>0.119205</td>\n",
       "    </tr>\n",
       "    <tr>\n",
       "      <th>perimeter_mean</th>\n",
       "      <td>0.073159</td>\n",
       "      <td>0.742636</td>\n",
       "      <td>0.997855</td>\n",
       "      <td>0.329533</td>\n",
       "      <td>1.000000</td>\n",
       "      <td>0.986507</td>\n",
       "      <td>0.207278</td>\n",
       "      <td>0.556936</td>\n",
       "      <td>0.716136</td>\n",
       "      <td>0.850977</td>\n",
       "      <td>...</td>\n",
       "      <td>0.969476</td>\n",
       "      <td>0.303038</td>\n",
       "      <td>0.970387</td>\n",
       "      <td>0.941550</td>\n",
       "      <td>0.150549</td>\n",
       "      <td>0.455774</td>\n",
       "      <td>0.563879</td>\n",
       "      <td>0.771241</td>\n",
       "      <td>0.189115</td>\n",
       "      <td>0.051019</td>\n",
       "    </tr>\n",
       "    <tr>\n",
       "      <th>area_mean</th>\n",
       "      <td>0.096893</td>\n",
       "      <td>0.708984</td>\n",
       "      <td>0.987357</td>\n",
       "      <td>0.321086</td>\n",
       "      <td>0.986507</td>\n",
       "      <td>1.000000</td>\n",
       "      <td>0.177028</td>\n",
       "      <td>0.498502</td>\n",
       "      <td>0.685983</td>\n",
       "      <td>0.823269</td>\n",
       "      <td>...</td>\n",
       "      <td>0.962746</td>\n",
       "      <td>0.287489</td>\n",
       "      <td>0.959120</td>\n",
       "      <td>0.959213</td>\n",
       "      <td>0.123523</td>\n",
       "      <td>0.390410</td>\n",
       "      <td>0.512606</td>\n",
       "      <td>0.722017</td>\n",
       "      <td>0.143570</td>\n",
       "      <td>0.003738</td>\n",
       "    </tr>\n",
       "    <tr>\n",
       "      <th>smoothness_mean</th>\n",
       "      <td>-0.012968</td>\n",
       "      <td>0.358560</td>\n",
       "      <td>0.170581</td>\n",
       "      <td>-0.023389</td>\n",
       "      <td>0.207278</td>\n",
       "      <td>0.177028</td>\n",
       "      <td>1.000000</td>\n",
       "      <td>0.659123</td>\n",
       "      <td>0.521984</td>\n",
       "      <td>0.553695</td>\n",
       "      <td>...</td>\n",
       "      <td>0.213120</td>\n",
       "      <td>0.036072</td>\n",
       "      <td>0.238853</td>\n",
       "      <td>0.206718</td>\n",
       "      <td>0.805324</td>\n",
       "      <td>0.472468</td>\n",
       "      <td>0.434926</td>\n",
       "      <td>0.503053</td>\n",
       "      <td>0.394309</td>\n",
       "      <td>0.499316</td>\n",
       "    </tr>\n",
       "    <tr>\n",
       "      <th>compactness_mean</th>\n",
       "      <td>0.000096</td>\n",
       "      <td>0.596534</td>\n",
       "      <td>0.506124</td>\n",
       "      <td>0.236702</td>\n",
       "      <td>0.556936</td>\n",
       "      <td>0.498502</td>\n",
       "      <td>0.659123</td>\n",
       "      <td>1.000000</td>\n",
       "      <td>0.883121</td>\n",
       "      <td>0.831135</td>\n",
       "      <td>...</td>\n",
       "      <td>0.535315</td>\n",
       "      <td>0.248133</td>\n",
       "      <td>0.590210</td>\n",
       "      <td>0.509604</td>\n",
       "      <td>0.565541</td>\n",
       "      <td>0.865809</td>\n",
       "      <td>0.816275</td>\n",
       "      <td>0.815573</td>\n",
       "      <td>0.510223</td>\n",
       "      <td>0.687382</td>\n",
       "    </tr>\n",
       "    <tr>\n",
       "      <th>concavity_mean</th>\n",
       "      <td>0.050080</td>\n",
       "      <td>0.696360</td>\n",
       "      <td>0.676764</td>\n",
       "      <td>0.302418</td>\n",
       "      <td>0.716136</td>\n",
       "      <td>0.685983</td>\n",
       "      <td>0.521984</td>\n",
       "      <td>0.883121</td>\n",
       "      <td>1.000000</td>\n",
       "      <td>0.921391</td>\n",
       "      <td>...</td>\n",
       "      <td>0.688236</td>\n",
       "      <td>0.299879</td>\n",
       "      <td>0.729565</td>\n",
       "      <td>0.675987</td>\n",
       "      <td>0.448822</td>\n",
       "      <td>0.754968</td>\n",
       "      <td>0.884103</td>\n",
       "      <td>0.861323</td>\n",
       "      <td>0.409464</td>\n",
       "      <td>0.514930</td>\n",
       "    </tr>\n",
       "    <tr>\n",
       "      <th>concave points_mean</th>\n",
       "      <td>0.044158</td>\n",
       "      <td>0.776614</td>\n",
       "      <td>0.822529</td>\n",
       "      <td>0.293464</td>\n",
       "      <td>0.850977</td>\n",
       "      <td>0.823269</td>\n",
       "      <td>0.553695</td>\n",
       "      <td>0.831135</td>\n",
       "      <td>0.921391</td>\n",
       "      <td>1.000000</td>\n",
       "      <td>...</td>\n",
       "      <td>0.830318</td>\n",
       "      <td>0.292752</td>\n",
       "      <td>0.855923</td>\n",
       "      <td>0.809630</td>\n",
       "      <td>0.452753</td>\n",
       "      <td>0.667454</td>\n",
       "      <td>0.752399</td>\n",
       "      <td>0.910155</td>\n",
       "      <td>0.375744</td>\n",
       "      <td>0.368661</td>\n",
       "    </tr>\n",
       "    <tr>\n",
       "      <th>symmetry_mean</th>\n",
       "      <td>-0.022114</td>\n",
       "      <td>0.330499</td>\n",
       "      <td>0.147741</td>\n",
       "      <td>0.071401</td>\n",
       "      <td>0.183027</td>\n",
       "      <td>0.151293</td>\n",
       "      <td>0.557775</td>\n",
       "      <td>0.602641</td>\n",
       "      <td>0.500667</td>\n",
       "      <td>0.462497</td>\n",
       "      <td>...</td>\n",
       "      <td>0.185728</td>\n",
       "      <td>0.090651</td>\n",
       "      <td>0.219169</td>\n",
       "      <td>0.177193</td>\n",
       "      <td>0.426675</td>\n",
       "      <td>0.473200</td>\n",
       "      <td>0.433721</td>\n",
       "      <td>0.430297</td>\n",
       "      <td>0.699826</td>\n",
       "      <td>0.438413</td>\n",
       "    </tr>\n",
       "    <tr>\n",
       "      <th>fractal_dimension_mean</th>\n",
       "      <td>-0.052511</td>\n",
       "      <td>-0.012838</td>\n",
       "      <td>-0.311631</td>\n",
       "      <td>-0.076437</td>\n",
       "      <td>-0.261477</td>\n",
       "      <td>-0.283110</td>\n",
       "      <td>0.584792</td>\n",
       "      <td>0.565369</td>\n",
       "      <td>0.336783</td>\n",
       "      <td>0.166917</td>\n",
       "      <td>...</td>\n",
       "      <td>-0.253691</td>\n",
       "      <td>-0.051269</td>\n",
       "      <td>-0.205151</td>\n",
       "      <td>-0.231854</td>\n",
       "      <td>0.504942</td>\n",
       "      <td>0.458798</td>\n",
       "      <td>0.346234</td>\n",
       "      <td>0.175325</td>\n",
       "      <td>0.334019</td>\n",
       "      <td>0.767297</td>\n",
       "    </tr>\n",
       "    <tr>\n",
       "      <th>radius_se</th>\n",
       "      <td>0.143048</td>\n",
       "      <td>0.567134</td>\n",
       "      <td>0.679090</td>\n",
       "      <td>0.275869</td>\n",
       "      <td>0.691765</td>\n",
       "      <td>0.732562</td>\n",
       "      <td>0.301467</td>\n",
       "      <td>0.497473</td>\n",
       "      <td>0.631925</td>\n",
       "      <td>0.698050</td>\n",
       "      <td>...</td>\n",
       "      <td>0.715065</td>\n",
       "      <td>0.194799</td>\n",
       "      <td>0.719684</td>\n",
       "      <td>0.751548</td>\n",
       "      <td>0.141919</td>\n",
       "      <td>0.287103</td>\n",
       "      <td>0.380585</td>\n",
       "      <td>0.531062</td>\n",
       "      <td>0.094543</td>\n",
       "      <td>0.049559</td>\n",
       "    </tr>\n",
       "    <tr>\n",
       "      <th>texture_se</th>\n",
       "      <td>-0.007526</td>\n",
       "      <td>-0.008303</td>\n",
       "      <td>-0.097317</td>\n",
       "      <td>0.386358</td>\n",
       "      <td>-0.086761</td>\n",
       "      <td>-0.066280</td>\n",
       "      <td>0.068406</td>\n",
       "      <td>0.046205</td>\n",
       "      <td>0.076218</td>\n",
       "      <td>0.021480</td>\n",
       "      <td>...</td>\n",
       "      <td>-0.111690</td>\n",
       "      <td>0.409003</td>\n",
       "      <td>-0.102242</td>\n",
       "      <td>-0.083195</td>\n",
       "      <td>-0.073658</td>\n",
       "      <td>-0.092439</td>\n",
       "      <td>-0.068956</td>\n",
       "      <td>-0.119638</td>\n",
       "      <td>-0.128215</td>\n",
       "      <td>-0.045655</td>\n",
       "    </tr>\n",
       "    <tr>\n",
       "      <th>perimeter_se</th>\n",
       "      <td>0.137331</td>\n",
       "      <td>0.556141</td>\n",
       "      <td>0.674172</td>\n",
       "      <td>0.281673</td>\n",
       "      <td>0.693135</td>\n",
       "      <td>0.726628</td>\n",
       "      <td>0.296092</td>\n",
       "      <td>0.548905</td>\n",
       "      <td>0.660391</td>\n",
       "      <td>0.710650</td>\n",
       "      <td>...</td>\n",
       "      <td>0.697201</td>\n",
       "      <td>0.200371</td>\n",
       "      <td>0.721031</td>\n",
       "      <td>0.730713</td>\n",
       "      <td>0.130054</td>\n",
       "      <td>0.341919</td>\n",
       "      <td>0.418899</td>\n",
       "      <td>0.554897</td>\n",
       "      <td>0.109930</td>\n",
       "      <td>0.085433</td>\n",
       "    </tr>\n",
       "    <tr>\n",
       "      <th>area_se</th>\n",
       "      <td>0.177742</td>\n",
       "      <td>0.548236</td>\n",
       "      <td>0.735864</td>\n",
       "      <td>0.259845</td>\n",
       "      <td>0.744983</td>\n",
       "      <td>0.800086</td>\n",
       "      <td>0.246552</td>\n",
       "      <td>0.455653</td>\n",
       "      <td>0.617427</td>\n",
       "      <td>0.690299</td>\n",
       "      <td>...</td>\n",
       "      <td>0.757373</td>\n",
       "      <td>0.196497</td>\n",
       "      <td>0.761213</td>\n",
       "      <td>0.811408</td>\n",
       "      <td>0.125389</td>\n",
       "      <td>0.283257</td>\n",
       "      <td>0.385100</td>\n",
       "      <td>0.538166</td>\n",
       "      <td>0.074126</td>\n",
       "      <td>0.017539</td>\n",
       "    </tr>\n",
       "    <tr>\n",
       "      <th>smoothness_se</th>\n",
       "      <td>0.096781</td>\n",
       "      <td>-0.067016</td>\n",
       "      <td>-0.222600</td>\n",
       "      <td>0.006614</td>\n",
       "      <td>-0.202694</td>\n",
       "      <td>-0.166777</td>\n",
       "      <td>0.332375</td>\n",
       "      <td>0.135299</td>\n",
       "      <td>0.098564</td>\n",
       "      <td>0.027653</td>\n",
       "      <td>...</td>\n",
       "      <td>-0.230691</td>\n",
       "      <td>-0.074743</td>\n",
       "      <td>-0.217304</td>\n",
       "      <td>-0.182195</td>\n",
       "      <td>0.314457</td>\n",
       "      <td>-0.055558</td>\n",
       "      <td>-0.058298</td>\n",
       "      <td>-0.102007</td>\n",
       "      <td>-0.107342</td>\n",
       "      <td>0.101480</td>\n",
       "    </tr>\n",
       "    <tr>\n",
       "      <th>compactness_se</th>\n",
       "      <td>0.033961</td>\n",
       "      <td>0.292999</td>\n",
       "      <td>0.206000</td>\n",
       "      <td>0.191975</td>\n",
       "      <td>0.250744</td>\n",
       "      <td>0.212583</td>\n",
       "      <td>0.318943</td>\n",
       "      <td>0.738722</td>\n",
       "      <td>0.670279</td>\n",
       "      <td>0.490424</td>\n",
       "      <td>...</td>\n",
       "      <td>0.204607</td>\n",
       "      <td>0.143003</td>\n",
       "      <td>0.260516</td>\n",
       "      <td>0.199371</td>\n",
       "      <td>0.227394</td>\n",
       "      <td>0.678780</td>\n",
       "      <td>0.639147</td>\n",
       "      <td>0.483208</td>\n",
       "      <td>0.277878</td>\n",
       "      <td>0.590973</td>\n",
       "    </tr>\n",
       "    <tr>\n",
       "      <th>concavity_se</th>\n",
       "      <td>0.055239</td>\n",
       "      <td>0.253730</td>\n",
       "      <td>0.194204</td>\n",
       "      <td>0.143293</td>\n",
       "      <td>0.228082</td>\n",
       "      <td>0.207660</td>\n",
       "      <td>0.248396</td>\n",
       "      <td>0.570517</td>\n",
       "      <td>0.691270</td>\n",
       "      <td>0.439167</td>\n",
       "      <td>...</td>\n",
       "      <td>0.186904</td>\n",
       "      <td>0.100241</td>\n",
       "      <td>0.226680</td>\n",
       "      <td>0.188353</td>\n",
       "      <td>0.168481</td>\n",
       "      <td>0.484858</td>\n",
       "      <td>0.662564</td>\n",
       "      <td>0.440472</td>\n",
       "      <td>0.197788</td>\n",
       "      <td>0.439329</td>\n",
       "    </tr>\n",
       "    <tr>\n",
       "      <th>concave points_se</th>\n",
       "      <td>0.078768</td>\n",
       "      <td>0.408042</td>\n",
       "      <td>0.376169</td>\n",
       "      <td>0.163851</td>\n",
       "      <td>0.407217</td>\n",
       "      <td>0.372320</td>\n",
       "      <td>0.380676</td>\n",
       "      <td>0.642262</td>\n",
       "      <td>0.683260</td>\n",
       "      <td>0.615634</td>\n",
       "      <td>...</td>\n",
       "      <td>0.358127</td>\n",
       "      <td>0.086741</td>\n",
       "      <td>0.394999</td>\n",
       "      <td>0.342271</td>\n",
       "      <td>0.215351</td>\n",
       "      <td>0.452888</td>\n",
       "      <td>0.549592</td>\n",
       "      <td>0.602450</td>\n",
       "      <td>0.143116</td>\n",
       "      <td>0.310655</td>\n",
       "    </tr>\n",
       "    <tr>\n",
       "      <th>symmetry_se</th>\n",
       "      <td>-0.017306</td>\n",
       "      <td>-0.006522</td>\n",
       "      <td>-0.104321</td>\n",
       "      <td>0.009127</td>\n",
       "      <td>-0.081629</td>\n",
       "      <td>-0.072497</td>\n",
       "      <td>0.200774</td>\n",
       "      <td>0.229977</td>\n",
       "      <td>0.178009</td>\n",
       "      <td>0.095351</td>\n",
       "      <td>...</td>\n",
       "      <td>-0.128121</td>\n",
       "      <td>-0.077473</td>\n",
       "      <td>-0.103753</td>\n",
       "      <td>-0.110343</td>\n",
       "      <td>-0.012662</td>\n",
       "      <td>0.060255</td>\n",
       "      <td>0.037119</td>\n",
       "      <td>-0.030413</td>\n",
       "      <td>0.389402</td>\n",
       "      <td>0.078079</td>\n",
       "    </tr>\n",
       "    <tr>\n",
       "      <th>fractal_dimension_se</th>\n",
       "      <td>0.025725</td>\n",
       "      <td>0.077972</td>\n",
       "      <td>-0.042641</td>\n",
       "      <td>0.054458</td>\n",
       "      <td>-0.005523</td>\n",
       "      <td>-0.019887</td>\n",
       "      <td>0.283607</td>\n",
       "      <td>0.507318</td>\n",
       "      <td>0.449301</td>\n",
       "      <td>0.257584</td>\n",
       "      <td>...</td>\n",
       "      <td>-0.037488</td>\n",
       "      <td>-0.003195</td>\n",
       "      <td>-0.001000</td>\n",
       "      <td>-0.022736</td>\n",
       "      <td>0.170568</td>\n",
       "      <td>0.390159</td>\n",
       "      <td>0.379975</td>\n",
       "      <td>0.215204</td>\n",
       "      <td>0.111094</td>\n",
       "      <td>0.591328</td>\n",
       "    </tr>\n",
       "    <tr>\n",
       "      <th>radius_worst</th>\n",
       "      <td>0.082405</td>\n",
       "      <td>0.776454</td>\n",
       "      <td>0.969539</td>\n",
       "      <td>0.352573</td>\n",
       "      <td>0.969476</td>\n",
       "      <td>0.962746</td>\n",
       "      <td>0.213120</td>\n",
       "      <td>0.535315</td>\n",
       "      <td>0.688236</td>\n",
       "      <td>0.830318</td>\n",
       "      <td>...</td>\n",
       "      <td>1.000000</td>\n",
       "      <td>0.359921</td>\n",
       "      <td>0.993708</td>\n",
       "      <td>0.984015</td>\n",
       "      <td>0.216574</td>\n",
       "      <td>0.475820</td>\n",
       "      <td>0.573975</td>\n",
       "      <td>0.787424</td>\n",
       "      <td>0.243529</td>\n",
       "      <td>0.093492</td>\n",
       "    </tr>\n",
       "    <tr>\n",
       "      <th>texture_worst</th>\n",
       "      <td>0.064720</td>\n",
       "      <td>0.456903</td>\n",
       "      <td>0.297008</td>\n",
       "      <td>0.912045</td>\n",
       "      <td>0.303038</td>\n",
       "      <td>0.287489</td>\n",
       "      <td>0.036072</td>\n",
       "      <td>0.248133</td>\n",
       "      <td>0.299879</td>\n",
       "      <td>0.292752</td>\n",
       "      <td>...</td>\n",
       "      <td>0.359921</td>\n",
       "      <td>1.000000</td>\n",
       "      <td>0.365098</td>\n",
       "      <td>0.345842</td>\n",
       "      <td>0.225429</td>\n",
       "      <td>0.360832</td>\n",
       "      <td>0.368366</td>\n",
       "      <td>0.359755</td>\n",
       "      <td>0.233027</td>\n",
       "      <td>0.219122</td>\n",
       "    </tr>\n",
       "    <tr>\n",
       "      <th>perimeter_worst</th>\n",
       "      <td>0.079986</td>\n",
       "      <td>0.782914</td>\n",
       "      <td>0.965137</td>\n",
       "      <td>0.358040</td>\n",
       "      <td>0.970387</td>\n",
       "      <td>0.959120</td>\n",
       "      <td>0.238853</td>\n",
       "      <td>0.590210</td>\n",
       "      <td>0.729565</td>\n",
       "      <td>0.855923</td>\n",
       "      <td>...</td>\n",
       "      <td>0.993708</td>\n",
       "      <td>0.365098</td>\n",
       "      <td>1.000000</td>\n",
       "      <td>0.977578</td>\n",
       "      <td>0.236775</td>\n",
       "      <td>0.529408</td>\n",
       "      <td>0.618344</td>\n",
       "      <td>0.816322</td>\n",
       "      <td>0.269493</td>\n",
       "      <td>0.138957</td>\n",
       "    </tr>\n",
       "    <tr>\n",
       "      <th>area_worst</th>\n",
       "      <td>0.107187</td>\n",
       "      <td>0.733825</td>\n",
       "      <td>0.941082</td>\n",
       "      <td>0.343546</td>\n",
       "      <td>0.941550</td>\n",
       "      <td>0.959213</td>\n",
       "      <td>0.206718</td>\n",
       "      <td>0.509604</td>\n",
       "      <td>0.675987</td>\n",
       "      <td>0.809630</td>\n",
       "      <td>...</td>\n",
       "      <td>0.984015</td>\n",
       "      <td>0.345842</td>\n",
       "      <td>0.977578</td>\n",
       "      <td>1.000000</td>\n",
       "      <td>0.209145</td>\n",
       "      <td>0.438296</td>\n",
       "      <td>0.543331</td>\n",
       "      <td>0.747419</td>\n",
       "      <td>0.209146</td>\n",
       "      <td>0.079647</td>\n",
       "    </tr>\n",
       "    <tr>\n",
       "      <th>smoothness_worst</th>\n",
       "      <td>0.010338</td>\n",
       "      <td>0.421465</td>\n",
       "      <td>0.119616</td>\n",
       "      <td>0.077503</td>\n",
       "      <td>0.150549</td>\n",
       "      <td>0.123523</td>\n",
       "      <td>0.805324</td>\n",
       "      <td>0.565541</td>\n",
       "      <td>0.448822</td>\n",
       "      <td>0.452753</td>\n",
       "      <td>...</td>\n",
       "      <td>0.216574</td>\n",
       "      <td>0.225429</td>\n",
       "      <td>0.236775</td>\n",
       "      <td>0.209145</td>\n",
       "      <td>1.000000</td>\n",
       "      <td>0.568187</td>\n",
       "      <td>0.518523</td>\n",
       "      <td>0.547691</td>\n",
       "      <td>0.493838</td>\n",
       "      <td>0.617624</td>\n",
       "    </tr>\n",
       "    <tr>\n",
       "      <th>compactness_worst</th>\n",
       "      <td>-0.002968</td>\n",
       "      <td>0.590998</td>\n",
       "      <td>0.413463</td>\n",
       "      <td>0.277830</td>\n",
       "      <td>0.455774</td>\n",
       "      <td>0.390410</td>\n",
       "      <td>0.472468</td>\n",
       "      <td>0.865809</td>\n",
       "      <td>0.754968</td>\n",
       "      <td>0.667454</td>\n",
       "      <td>...</td>\n",
       "      <td>0.475820</td>\n",
       "      <td>0.360832</td>\n",
       "      <td>0.529408</td>\n",
       "      <td>0.438296</td>\n",
       "      <td>0.568187</td>\n",
       "      <td>1.000000</td>\n",
       "      <td>0.892261</td>\n",
       "      <td>0.801080</td>\n",
       "      <td>0.614441</td>\n",
       "      <td>0.810455</td>\n",
       "    </tr>\n",
       "    <tr>\n",
       "      <th>concavity_worst</th>\n",
       "      <td>0.023203</td>\n",
       "      <td>0.659610</td>\n",
       "      <td>0.526911</td>\n",
       "      <td>0.301025</td>\n",
       "      <td>0.563879</td>\n",
       "      <td>0.512606</td>\n",
       "      <td>0.434926</td>\n",
       "      <td>0.816275</td>\n",
       "      <td>0.884103</td>\n",
       "      <td>0.752399</td>\n",
       "      <td>...</td>\n",
       "      <td>0.573975</td>\n",
       "      <td>0.368366</td>\n",
       "      <td>0.618344</td>\n",
       "      <td>0.543331</td>\n",
       "      <td>0.518523</td>\n",
       "      <td>0.892261</td>\n",
       "      <td>1.000000</td>\n",
       "      <td>0.855434</td>\n",
       "      <td>0.532520</td>\n",
       "      <td>0.686511</td>\n",
       "    </tr>\n",
       "    <tr>\n",
       "      <th>concave points_worst</th>\n",
       "      <td>0.035174</td>\n",
       "      <td>0.793566</td>\n",
       "      <td>0.744214</td>\n",
       "      <td>0.295316</td>\n",
       "      <td>0.771241</td>\n",
       "      <td>0.722017</td>\n",
       "      <td>0.503053</td>\n",
       "      <td>0.815573</td>\n",
       "      <td>0.861323</td>\n",
       "      <td>0.910155</td>\n",
       "      <td>...</td>\n",
       "      <td>0.787424</td>\n",
       "      <td>0.359755</td>\n",
       "      <td>0.816322</td>\n",
       "      <td>0.747419</td>\n",
       "      <td>0.547691</td>\n",
       "      <td>0.801080</td>\n",
       "      <td>0.855434</td>\n",
       "      <td>1.000000</td>\n",
       "      <td>0.502528</td>\n",
       "      <td>0.511114</td>\n",
       "    </tr>\n",
       "    <tr>\n",
       "      <th>symmetry_worst</th>\n",
       "      <td>-0.044224</td>\n",
       "      <td>0.416294</td>\n",
       "      <td>0.163953</td>\n",
       "      <td>0.105008</td>\n",
       "      <td>0.189115</td>\n",
       "      <td>0.143570</td>\n",
       "      <td>0.394309</td>\n",
       "      <td>0.510223</td>\n",
       "      <td>0.409464</td>\n",
       "      <td>0.375744</td>\n",
       "      <td>...</td>\n",
       "      <td>0.243529</td>\n",
       "      <td>0.233027</td>\n",
       "      <td>0.269493</td>\n",
       "      <td>0.209146</td>\n",
       "      <td>0.493838</td>\n",
       "      <td>0.614441</td>\n",
       "      <td>0.532520</td>\n",
       "      <td>0.502528</td>\n",
       "      <td>1.000000</td>\n",
       "      <td>0.537848</td>\n",
       "    </tr>\n",
       "    <tr>\n",
       "      <th>fractal_dimension_worst</th>\n",
       "      <td>-0.029866</td>\n",
       "      <td>0.323872</td>\n",
       "      <td>0.007066</td>\n",
       "      <td>0.119205</td>\n",
       "      <td>0.051019</td>\n",
       "      <td>0.003738</td>\n",
       "      <td>0.499316</td>\n",
       "      <td>0.687382</td>\n",
       "      <td>0.514930</td>\n",
       "      <td>0.368661</td>\n",
       "      <td>...</td>\n",
       "      <td>0.093492</td>\n",
       "      <td>0.219122</td>\n",
       "      <td>0.138957</td>\n",
       "      <td>0.079647</td>\n",
       "      <td>0.617624</td>\n",
       "      <td>0.810455</td>\n",
       "      <td>0.686511</td>\n",
       "      <td>0.511114</td>\n",
       "      <td>0.537848</td>\n",
       "      <td>1.000000</td>\n",
       "    </tr>\n",
       "  </tbody>\n",
       "</table>\n",
       "<p>32 rows × 32 columns</p>\n",
       "</div>"
      ],
      "text/plain": [
       "                               id  diagnosis  radius_mean  texture_mean  \\\n",
       "id                       1.000000   0.039769     0.074626      0.099770   \n",
       "diagnosis                0.039769   1.000000     0.730029      0.415185   \n",
       "radius_mean              0.074626   0.730029     1.000000      0.323782   \n",
       "texture_mean             0.099770   0.415185     0.323782      1.000000   \n",
       "perimeter_mean           0.073159   0.742636     0.997855      0.329533   \n",
       "area_mean                0.096893   0.708984     0.987357      0.321086   \n",
       "smoothness_mean         -0.012968   0.358560     0.170581     -0.023389   \n",
       "compactness_mean         0.000096   0.596534     0.506124      0.236702   \n",
       "concavity_mean           0.050080   0.696360     0.676764      0.302418   \n",
       "concave points_mean      0.044158   0.776614     0.822529      0.293464   \n",
       "symmetry_mean           -0.022114   0.330499     0.147741      0.071401   \n",
       "fractal_dimension_mean  -0.052511  -0.012838    -0.311631     -0.076437   \n",
       "radius_se                0.143048   0.567134     0.679090      0.275869   \n",
       "texture_se              -0.007526  -0.008303    -0.097317      0.386358   \n",
       "perimeter_se             0.137331   0.556141     0.674172      0.281673   \n",
       "area_se                  0.177742   0.548236     0.735864      0.259845   \n",
       "smoothness_se            0.096781  -0.067016    -0.222600      0.006614   \n",
       "compactness_se           0.033961   0.292999     0.206000      0.191975   \n",
       "concavity_se             0.055239   0.253730     0.194204      0.143293   \n",
       "concave points_se        0.078768   0.408042     0.376169      0.163851   \n",
       "symmetry_se             -0.017306  -0.006522    -0.104321      0.009127   \n",
       "fractal_dimension_se     0.025725   0.077972    -0.042641      0.054458   \n",
       "radius_worst             0.082405   0.776454     0.969539      0.352573   \n",
       "texture_worst            0.064720   0.456903     0.297008      0.912045   \n",
       "perimeter_worst          0.079986   0.782914     0.965137      0.358040   \n",
       "area_worst               0.107187   0.733825     0.941082      0.343546   \n",
       "smoothness_worst         0.010338   0.421465     0.119616      0.077503   \n",
       "compactness_worst       -0.002968   0.590998     0.413463      0.277830   \n",
       "concavity_worst          0.023203   0.659610     0.526911      0.301025   \n",
       "concave points_worst     0.035174   0.793566     0.744214      0.295316   \n",
       "symmetry_worst          -0.044224   0.416294     0.163953      0.105008   \n",
       "fractal_dimension_worst -0.029866   0.323872     0.007066      0.119205   \n",
       "\n",
       "                         perimeter_mean  area_mean  smoothness_mean  \\\n",
       "id                             0.073159   0.096893        -0.012968   \n",
       "diagnosis                      0.742636   0.708984         0.358560   \n",
       "radius_mean                    0.997855   0.987357         0.170581   \n",
       "texture_mean                   0.329533   0.321086        -0.023389   \n",
       "perimeter_mean                 1.000000   0.986507         0.207278   \n",
       "area_mean                      0.986507   1.000000         0.177028   \n",
       "smoothness_mean                0.207278   0.177028         1.000000   \n",
       "compactness_mean               0.556936   0.498502         0.659123   \n",
       "concavity_mean                 0.716136   0.685983         0.521984   \n",
       "concave points_mean            0.850977   0.823269         0.553695   \n",
       "symmetry_mean                  0.183027   0.151293         0.557775   \n",
       "fractal_dimension_mean        -0.261477  -0.283110         0.584792   \n",
       "radius_se                      0.691765   0.732562         0.301467   \n",
       "texture_se                    -0.086761  -0.066280         0.068406   \n",
       "perimeter_se                   0.693135   0.726628         0.296092   \n",
       "area_se                        0.744983   0.800086         0.246552   \n",
       "smoothness_se                 -0.202694  -0.166777         0.332375   \n",
       "compactness_se                 0.250744   0.212583         0.318943   \n",
       "concavity_se                   0.228082   0.207660         0.248396   \n",
       "concave points_se              0.407217   0.372320         0.380676   \n",
       "symmetry_se                   -0.081629  -0.072497         0.200774   \n",
       "fractal_dimension_se          -0.005523  -0.019887         0.283607   \n",
       "radius_worst                   0.969476   0.962746         0.213120   \n",
       "texture_worst                  0.303038   0.287489         0.036072   \n",
       "perimeter_worst                0.970387   0.959120         0.238853   \n",
       "area_worst                     0.941550   0.959213         0.206718   \n",
       "smoothness_worst               0.150549   0.123523         0.805324   \n",
       "compactness_worst              0.455774   0.390410         0.472468   \n",
       "concavity_worst                0.563879   0.512606         0.434926   \n",
       "concave points_worst           0.771241   0.722017         0.503053   \n",
       "symmetry_worst                 0.189115   0.143570         0.394309   \n",
       "fractal_dimension_worst        0.051019   0.003738         0.499316   \n",
       "\n",
       "                         compactness_mean  concavity_mean  \\\n",
       "id                               0.000096        0.050080   \n",
       "diagnosis                        0.596534        0.696360   \n",
       "radius_mean                      0.506124        0.676764   \n",
       "texture_mean                     0.236702        0.302418   \n",
       "perimeter_mean                   0.556936        0.716136   \n",
       "area_mean                        0.498502        0.685983   \n",
       "smoothness_mean                  0.659123        0.521984   \n",
       "compactness_mean                 1.000000        0.883121   \n",
       "concavity_mean                   0.883121        1.000000   \n",
       "concave points_mean              0.831135        0.921391   \n",
       "symmetry_mean                    0.602641        0.500667   \n",
       "fractal_dimension_mean           0.565369        0.336783   \n",
       "radius_se                        0.497473        0.631925   \n",
       "texture_se                       0.046205        0.076218   \n",
       "perimeter_se                     0.548905        0.660391   \n",
       "area_se                          0.455653        0.617427   \n",
       "smoothness_se                    0.135299        0.098564   \n",
       "compactness_se                   0.738722        0.670279   \n",
       "concavity_se                     0.570517        0.691270   \n",
       "concave points_se                0.642262        0.683260   \n",
       "symmetry_se                      0.229977        0.178009   \n",
       "fractal_dimension_se             0.507318        0.449301   \n",
       "radius_worst                     0.535315        0.688236   \n",
       "texture_worst                    0.248133        0.299879   \n",
       "perimeter_worst                  0.590210        0.729565   \n",
       "area_worst                       0.509604        0.675987   \n",
       "smoothness_worst                 0.565541        0.448822   \n",
       "compactness_worst                0.865809        0.754968   \n",
       "concavity_worst                  0.816275        0.884103   \n",
       "concave points_worst             0.815573        0.861323   \n",
       "symmetry_worst                   0.510223        0.409464   \n",
       "fractal_dimension_worst          0.687382        0.514930   \n",
       "\n",
       "                         concave points_mean  ...  radius_worst  \\\n",
       "id                                  0.044158  ...      0.082405   \n",
       "diagnosis                           0.776614  ...      0.776454   \n",
       "radius_mean                         0.822529  ...      0.969539   \n",
       "texture_mean                        0.293464  ...      0.352573   \n",
       "perimeter_mean                      0.850977  ...      0.969476   \n",
       "area_mean                           0.823269  ...      0.962746   \n",
       "smoothness_mean                     0.553695  ...      0.213120   \n",
       "compactness_mean                    0.831135  ...      0.535315   \n",
       "concavity_mean                      0.921391  ...      0.688236   \n",
       "concave points_mean                 1.000000  ...      0.830318   \n",
       "symmetry_mean                       0.462497  ...      0.185728   \n",
       "fractal_dimension_mean              0.166917  ...     -0.253691   \n",
       "radius_se                           0.698050  ...      0.715065   \n",
       "texture_se                          0.021480  ...     -0.111690   \n",
       "perimeter_se                        0.710650  ...      0.697201   \n",
       "area_se                             0.690299  ...      0.757373   \n",
       "smoothness_se                       0.027653  ...     -0.230691   \n",
       "compactness_se                      0.490424  ...      0.204607   \n",
       "concavity_se                        0.439167  ...      0.186904   \n",
       "concave points_se                   0.615634  ...      0.358127   \n",
       "symmetry_se                         0.095351  ...     -0.128121   \n",
       "fractal_dimension_se                0.257584  ...     -0.037488   \n",
       "radius_worst                        0.830318  ...      1.000000   \n",
       "texture_worst                       0.292752  ...      0.359921   \n",
       "perimeter_worst                     0.855923  ...      0.993708   \n",
       "area_worst                          0.809630  ...      0.984015   \n",
       "smoothness_worst                    0.452753  ...      0.216574   \n",
       "compactness_worst                   0.667454  ...      0.475820   \n",
       "concavity_worst                     0.752399  ...      0.573975   \n",
       "concave points_worst                0.910155  ...      0.787424   \n",
       "symmetry_worst                      0.375744  ...      0.243529   \n",
       "fractal_dimension_worst             0.368661  ...      0.093492   \n",
       "\n",
       "                         texture_worst  perimeter_worst  area_worst  \\\n",
       "id                            0.064720         0.079986    0.107187   \n",
       "diagnosis                     0.456903         0.782914    0.733825   \n",
       "radius_mean                   0.297008         0.965137    0.941082   \n",
       "texture_mean                  0.912045         0.358040    0.343546   \n",
       "perimeter_mean                0.303038         0.970387    0.941550   \n",
       "area_mean                     0.287489         0.959120    0.959213   \n",
       "smoothness_mean               0.036072         0.238853    0.206718   \n",
       "compactness_mean              0.248133         0.590210    0.509604   \n",
       "concavity_mean                0.299879         0.729565    0.675987   \n",
       "concave points_mean           0.292752         0.855923    0.809630   \n",
       "symmetry_mean                 0.090651         0.219169    0.177193   \n",
       "fractal_dimension_mean       -0.051269        -0.205151   -0.231854   \n",
       "radius_se                     0.194799         0.719684    0.751548   \n",
       "texture_se                    0.409003        -0.102242   -0.083195   \n",
       "perimeter_se                  0.200371         0.721031    0.730713   \n",
       "area_se                       0.196497         0.761213    0.811408   \n",
       "smoothness_se                -0.074743        -0.217304   -0.182195   \n",
       "compactness_se                0.143003         0.260516    0.199371   \n",
       "concavity_se                  0.100241         0.226680    0.188353   \n",
       "concave points_se             0.086741         0.394999    0.342271   \n",
       "symmetry_se                  -0.077473        -0.103753   -0.110343   \n",
       "fractal_dimension_se         -0.003195        -0.001000   -0.022736   \n",
       "radius_worst                  0.359921         0.993708    0.984015   \n",
       "texture_worst                 1.000000         0.365098    0.345842   \n",
       "perimeter_worst               0.365098         1.000000    0.977578   \n",
       "area_worst                    0.345842         0.977578    1.000000   \n",
       "smoothness_worst              0.225429         0.236775    0.209145   \n",
       "compactness_worst             0.360832         0.529408    0.438296   \n",
       "concavity_worst               0.368366         0.618344    0.543331   \n",
       "concave points_worst          0.359755         0.816322    0.747419   \n",
       "symmetry_worst                0.233027         0.269493    0.209146   \n",
       "fractal_dimension_worst       0.219122         0.138957    0.079647   \n",
       "\n",
       "                         smoothness_worst  compactness_worst  concavity_worst  \\\n",
       "id                               0.010338          -0.002968         0.023203   \n",
       "diagnosis                        0.421465           0.590998         0.659610   \n",
       "radius_mean                      0.119616           0.413463         0.526911   \n",
       "texture_mean                     0.077503           0.277830         0.301025   \n",
       "perimeter_mean                   0.150549           0.455774         0.563879   \n",
       "area_mean                        0.123523           0.390410         0.512606   \n",
       "smoothness_mean                  0.805324           0.472468         0.434926   \n",
       "compactness_mean                 0.565541           0.865809         0.816275   \n",
       "concavity_mean                   0.448822           0.754968         0.884103   \n",
       "concave points_mean              0.452753           0.667454         0.752399   \n",
       "symmetry_mean                    0.426675           0.473200         0.433721   \n",
       "fractal_dimension_mean           0.504942           0.458798         0.346234   \n",
       "radius_se                        0.141919           0.287103         0.380585   \n",
       "texture_se                      -0.073658          -0.092439        -0.068956   \n",
       "perimeter_se                     0.130054           0.341919         0.418899   \n",
       "area_se                          0.125389           0.283257         0.385100   \n",
       "smoothness_se                    0.314457          -0.055558        -0.058298   \n",
       "compactness_se                   0.227394           0.678780         0.639147   \n",
       "concavity_se                     0.168481           0.484858         0.662564   \n",
       "concave points_se                0.215351           0.452888         0.549592   \n",
       "symmetry_se                     -0.012662           0.060255         0.037119   \n",
       "fractal_dimension_se             0.170568           0.390159         0.379975   \n",
       "radius_worst                     0.216574           0.475820         0.573975   \n",
       "texture_worst                    0.225429           0.360832         0.368366   \n",
       "perimeter_worst                  0.236775           0.529408         0.618344   \n",
       "area_worst                       0.209145           0.438296         0.543331   \n",
       "smoothness_worst                 1.000000           0.568187         0.518523   \n",
       "compactness_worst                0.568187           1.000000         0.892261   \n",
       "concavity_worst                  0.518523           0.892261         1.000000   \n",
       "concave points_worst             0.547691           0.801080         0.855434   \n",
       "symmetry_worst                   0.493838           0.614441         0.532520   \n",
       "fractal_dimension_worst          0.617624           0.810455         0.686511   \n",
       "\n",
       "                         concave points_worst  symmetry_worst  \\\n",
       "id                                   0.035174       -0.044224   \n",
       "diagnosis                            0.793566        0.416294   \n",
       "radius_mean                          0.744214        0.163953   \n",
       "texture_mean                         0.295316        0.105008   \n",
       "perimeter_mean                       0.771241        0.189115   \n",
       "area_mean                            0.722017        0.143570   \n",
       "smoothness_mean                      0.503053        0.394309   \n",
       "compactness_mean                     0.815573        0.510223   \n",
       "concavity_mean                       0.861323        0.409464   \n",
       "concave points_mean                  0.910155        0.375744   \n",
       "symmetry_mean                        0.430297        0.699826   \n",
       "fractal_dimension_mean               0.175325        0.334019   \n",
       "radius_se                            0.531062        0.094543   \n",
       "texture_se                          -0.119638       -0.128215   \n",
       "perimeter_se                         0.554897        0.109930   \n",
       "area_se                              0.538166        0.074126   \n",
       "smoothness_se                       -0.102007       -0.107342   \n",
       "compactness_se                       0.483208        0.277878   \n",
       "concavity_se                         0.440472        0.197788   \n",
       "concave points_se                    0.602450        0.143116   \n",
       "symmetry_se                         -0.030413        0.389402   \n",
       "fractal_dimension_se                 0.215204        0.111094   \n",
       "radius_worst                         0.787424        0.243529   \n",
       "texture_worst                        0.359755        0.233027   \n",
       "perimeter_worst                      0.816322        0.269493   \n",
       "area_worst                           0.747419        0.209146   \n",
       "smoothness_worst                     0.547691        0.493838   \n",
       "compactness_worst                    0.801080        0.614441   \n",
       "concavity_worst                      0.855434        0.532520   \n",
       "concave points_worst                 1.000000        0.502528   \n",
       "symmetry_worst                       0.502528        1.000000   \n",
       "fractal_dimension_worst              0.511114        0.537848   \n",
       "\n",
       "                         fractal_dimension_worst  \n",
       "id                                     -0.029866  \n",
       "diagnosis                               0.323872  \n",
       "radius_mean                             0.007066  \n",
       "texture_mean                            0.119205  \n",
       "perimeter_mean                          0.051019  \n",
       "area_mean                               0.003738  \n",
       "smoothness_mean                         0.499316  \n",
       "compactness_mean                        0.687382  \n",
       "concavity_mean                          0.514930  \n",
       "concave points_mean                     0.368661  \n",
       "symmetry_mean                           0.438413  \n",
       "fractal_dimension_mean                  0.767297  \n",
       "radius_se                               0.049559  \n",
       "texture_se                             -0.045655  \n",
       "perimeter_se                            0.085433  \n",
       "area_se                                 0.017539  \n",
       "smoothness_se                           0.101480  \n",
       "compactness_se                          0.590973  \n",
       "concavity_se                            0.439329  \n",
       "concave points_se                       0.310655  \n",
       "symmetry_se                             0.078079  \n",
       "fractal_dimension_se                    0.591328  \n",
       "radius_worst                            0.093492  \n",
       "texture_worst                           0.219122  \n",
       "perimeter_worst                         0.138957  \n",
       "area_worst                              0.079647  \n",
       "smoothness_worst                        0.617624  \n",
       "compactness_worst                       0.810455  \n",
       "concavity_worst                         0.686511  \n",
       "concave points_worst                    0.511114  \n",
       "symmetry_worst                          0.537848  \n",
       "fractal_dimension_worst                 1.000000  \n",
       "\n",
       "[32 rows x 32 columns]"
      ]
     },
     "execution_count": 20,
     "metadata": {},
     "output_type": "execute_result"
    }
   ],
   "source": [
    "correlation_matrix = df.corr()\n",
    "correlation_matrix\n"
   ]
  },
  {
   "cell_type": "code",
   "execution_count": 21,
   "id": "2d6d222c",
   "metadata": {
    "execution": {
     "iopub.execute_input": "2023-08-21T12:27:19.070800Z",
     "iopub.status.busy": "2023-08-21T12:27:19.070321Z",
     "iopub.status.idle": "2023-08-21T12:27:22.506025Z",
     "shell.execute_reply": "2023-08-21T12:27:22.504889Z"
    },
    "papermill": {
     "duration": 3.475159,
     "end_time": "2023-08-21T12:27:22.512340",
     "exception": false,
     "start_time": "2023-08-21T12:27:19.037181",
     "status": "completed"
    },
    "tags": []
   },
   "outputs": [
    {
     "data": {
      "image/png": "[encoded data removed]",
      "text/plain": [
       "<Figure size 1200x1000 with 2 Axes>"
      ]
     },
     "metadata": {},
     "output_type": "display_data"
    }
   ],
   "source": [
    "import seaborn as sns\n",
    "import matplotlib.pyplot as plt\n",
    "\n",
    "# Assuming 'df' is your DataFrame\n",
    "corr_matrix = df.corr()\n",
    "\n",
    "plt.figure(figsize=(12, 10))\n",
    "\n",
    "plt.title(\"Correlation Heatmap\")\n",
    "sns.heatmap(corr_matrix, annot=True, fmt=\".2f\", cmap=\"coolwarm\", linewidths=0.5, xticklabels=corr_matrix.columns, yticklabels=corr_matrix.columns, annot_kws={\"fontsize\": 5})\n",
    "\n",
    "plt.show()\n"
   ]
  },
  {
   "cell_type": "markdown",
   "id": "998e15d7",
   "metadata": {
    "papermill": {
     "duration": 0.035221,
     "end_time": "2023-08-21T12:27:22.583055",
     "exception": false,
     "start_time": "2023-08-21T12:27:22.547834",
     "status": "completed"
    },
    "tags": []
   },
   "source": [
    "# *These can be used for feature engineering*"
   ]
  },
  {
   "cell_type": "markdown",
   "id": "ff259a65",
   "metadata": {
    "papermill": {
     "duration": 0.033325,
     "end_time": "2023-08-21T12:27:22.652030",
     "exception": false,
     "start_time": "2023-08-21T12:27:22.618705",
     "status": "completed"
    },
    "tags": []
   },
   "source": [
    "# **Feature Engineering: Coming soon**"
   ]
  },
  {
   "cell_type": "markdown",
   "id": "58bd9466",
   "metadata": {
    "papermill": {
     "duration": 0.033665,
     "end_time": "2023-08-21T12:27:22.720114",
     "exception": false,
     "start_time": "2023-08-21T12:27:22.686449",
     "status": "completed"
    },
    "tags": []
   },
   "source": [
    "## Splitting the dataset into train and test set"
   ]
  },
  {
   "cell_type": "code",
   "execution_count": 22,
   "id": "aff5d391",
   "metadata": {
    "execution": {
     "iopub.execute_input": "2023-08-21T12:27:22.790777Z",
     "iopub.status.busy": "2023-08-21T12:27:22.790367Z",
     "iopub.status.idle": "2023-08-21T12:27:22.930517Z",
     "shell.execute_reply": "2023-08-21T12:27:22.929254Z"
    },
    "papermill": {
     "duration": 0.178962,
     "end_time": "2023-08-21T12:27:22.934137",
     "exception": false,
     "start_time": "2023-08-21T12:27:22.755175",
     "status": "completed"
    },
    "tags": []
   },
   "outputs": [],
   "source": [
    "from sklearn.model_selection import train_test_split\n",
    "X_train, X_test, y_train, y_test = train_test_split(X, y, test_size = 0.3)"
   ]
  },
  {
   "cell_type": "code",
   "execution_count": 23,
   "id": "bd2494f2",
   "metadata": {
    "execution": {
     "iopub.execute_input": "2023-08-21T12:27:23.005873Z",
     "iopub.status.busy": "2023-08-21T12:27:23.005063Z",
     "iopub.status.idle": "2023-08-21T12:27:23.040730Z",
     "shell.execute_reply": "2023-08-21T12:27:23.039553Z"
    },
    "papermill": {
     "duration": 0.074174,
     "end_time": "2023-08-21T12:27:23.043236",
     "exception": false,
     "start_time": "2023-08-21T12:27:22.969062",
     "status": "completed"
    },
    "tags": []
   },
   "outputs": [
    {
     "data": {
      "text/html": [
       "<div>\n",
       "<style scoped>\n",
       "    .dataframe tbody tr th:only-of-type {\n",
       "        vertical-align: middle;\n",
       "    }\n",
       "\n",
       "    .dataframe tbody tr th {\n",
       "        vertical-align: top;\n",
       "    }\n",
       "\n",
       "    .dataframe thead th {\n",
       "        text-align: right;\n",
       "    }\n",
       "</style>\n",
       "<table border=\"1\" class=\"dataframe\">\n",
       "  <thead>\n",
       "    <tr style=\"text-align: right;\">\n",
       "      <th></th>\n",
       "      <th>0</th>\n",
       "      <th>1</th>\n",
       "      <th>2</th>\n",
       "      <th>3</th>\n",
       "      <th>4</th>\n",
       "      <th>5</th>\n",
       "      <th>6</th>\n",
       "      <th>7</th>\n",
       "      <th>8</th>\n",
       "      <th>9</th>\n",
       "      <th>...</th>\n",
       "      <th>20</th>\n",
       "      <th>21</th>\n",
       "      <th>22</th>\n",
       "      <th>23</th>\n",
       "      <th>24</th>\n",
       "      <th>25</th>\n",
       "      <th>26</th>\n",
       "      <th>27</th>\n",
       "      <th>28</th>\n",
       "      <th>29</th>\n",
       "    </tr>\n",
       "  </thead>\n",
       "  <tbody>\n",
       "    <tr>\n",
       "      <th>336</th>\n",
       "      <td>11.47</td>\n",
       "      <td>16.03</td>\n",
       "      <td>73.02</td>\n",
       "      <td>402.7</td>\n",
       "      <td>0.09076</td>\n",
       "      <td>0.05886</td>\n",
       "      <td>0.025870</td>\n",
       "      <td>0.02322</td>\n",
       "      <td>0.1634</td>\n",
       "      <td>0.06372</td>\n",
       "      <td>...</td>\n",
       "      <td>12.51</td>\n",
       "      <td>20.79</td>\n",
       "      <td>79.67</td>\n",
       "      <td>475.8</td>\n",
       "      <td>0.15310</td>\n",
       "      <td>0.11200</td>\n",
       "      <td>0.09823</td>\n",
       "      <td>0.06548</td>\n",
       "      <td>0.2851</td>\n",
       "      <td>0.08763</td>\n",
       "    </tr>\n",
       "    <tr>\n",
       "      <th>57</th>\n",
       "      <td>11.08</td>\n",
       "      <td>14.71</td>\n",
       "      <td>70.21</td>\n",
       "      <td>372.7</td>\n",
       "      <td>0.10060</td>\n",
       "      <td>0.05743</td>\n",
       "      <td>0.023630</td>\n",
       "      <td>0.02583</td>\n",
       "      <td>0.1566</td>\n",
       "      <td>0.06669</td>\n",
       "      <td>...</td>\n",
       "      <td>11.35</td>\n",
       "      <td>16.82</td>\n",
       "      <td>72.01</td>\n",
       "      <td>396.5</td>\n",
       "      <td>0.12160</td>\n",
       "      <td>0.08240</td>\n",
       "      <td>0.03938</td>\n",
       "      <td>0.04306</td>\n",
       "      <td>0.1902</td>\n",
       "      <td>0.07313</td>\n",
       "    </tr>\n",
       "    <tr>\n",
       "      <th>60</th>\n",
       "      <td>12.40</td>\n",
       "      <td>17.68</td>\n",
       "      <td>81.47</td>\n",
       "      <td>467.8</td>\n",
       "      <td>0.10540</td>\n",
       "      <td>0.13160</td>\n",
       "      <td>0.077410</td>\n",
       "      <td>0.02799</td>\n",
       "      <td>0.1811</td>\n",
       "      <td>0.07102</td>\n",
       "      <td>...</td>\n",
       "      <td>12.88</td>\n",
       "      <td>22.91</td>\n",
       "      <td>89.61</td>\n",
       "      <td>515.8</td>\n",
       "      <td>0.14500</td>\n",
       "      <td>0.26290</td>\n",
       "      <td>0.24030</td>\n",
       "      <td>0.07370</td>\n",
       "      <td>0.2556</td>\n",
       "      <td>0.09359</td>\n",
       "    </tr>\n",
       "    <tr>\n",
       "      <th>67</th>\n",
       "      <td>19.53</td>\n",
       "      <td>32.47</td>\n",
       "      <td>128.00</td>\n",
       "      <td>1223.0</td>\n",
       "      <td>0.08420</td>\n",
       "      <td>0.11300</td>\n",
       "      <td>0.114500</td>\n",
       "      <td>0.06637</td>\n",
       "      <td>0.1428</td>\n",
       "      <td>0.05313</td>\n",
       "      <td>...</td>\n",
       "      <td>27.90</td>\n",
       "      <td>45.41</td>\n",
       "      <td>180.20</td>\n",
       "      <td>2477.0</td>\n",
       "      <td>0.14080</td>\n",
       "      <td>0.40970</td>\n",
       "      <td>0.39950</td>\n",
       "      <td>0.16250</td>\n",
       "      <td>0.2713</td>\n",
       "      <td>0.07568</td>\n",
       "    </tr>\n",
       "    <tr>\n",
       "      <th>341</th>\n",
       "      <td>12.46</td>\n",
       "      <td>12.83</td>\n",
       "      <td>78.83</td>\n",
       "      <td>477.3</td>\n",
       "      <td>0.07372</td>\n",
       "      <td>0.04043</td>\n",
       "      <td>0.007173</td>\n",
       "      <td>0.01149</td>\n",
       "      <td>0.1613</td>\n",
       "      <td>0.06013</td>\n",
       "      <td>...</td>\n",
       "      <td>13.19</td>\n",
       "      <td>16.36</td>\n",
       "      <td>83.24</td>\n",
       "      <td>534.0</td>\n",
       "      <td>0.09439</td>\n",
       "      <td>0.06477</td>\n",
       "      <td>0.01674</td>\n",
       "      <td>0.02680</td>\n",
       "      <td>0.2280</td>\n",
       "      <td>0.07028</td>\n",
       "    </tr>\n",
       "  </tbody>\n",
       "</table>\n",
       "<p>5 rows × 30 columns</p>\n",
       "</div>"
      ],
      "text/plain": [
       "        0      1       2       3        4        5         6        7   \\\n",
       "336  11.47  16.03   73.02   402.7  0.09076  0.05886  0.025870  0.02322   \n",
       "57   11.08  14.71   70.21   372.7  0.10060  0.05743  0.023630  0.02583   \n",
       "60   12.40  17.68   81.47   467.8  0.10540  0.13160  0.077410  0.02799   \n",
       "67   19.53  32.47  128.00  1223.0  0.08420  0.11300  0.114500  0.06637   \n",
       "341  12.46  12.83   78.83   477.3  0.07372  0.04043  0.007173  0.01149   \n",
       "\n",
       "         8        9   ...     20     21      22      23       24       25  \\\n",
       "336  0.1634  0.06372  ...  12.51  20.79   79.67   475.8  0.15310  0.11200   \n",
       "57   0.1566  0.06669  ...  11.35  16.82   72.01   396.5  0.12160  0.08240   \n",
       "60   0.1811  0.07102  ...  12.88  22.91   89.61   515.8  0.14500  0.26290   \n",
       "67   0.1428  0.05313  ...  27.90  45.41  180.20  2477.0  0.14080  0.40970   \n",
       "341  0.1613  0.06013  ...  13.19  16.36   83.24   534.0  0.09439  0.06477   \n",
       "\n",
       "          26       27      28       29  \n",
       "336  0.09823  0.06548  0.2851  0.08763  \n",
       "57   0.03938  0.04306  0.1902  0.07313  \n",
       "60   0.24030  0.07370  0.2556  0.09359  \n",
       "67   0.39950  0.16250  0.2713  0.07568  \n",
       "341  0.01674  0.02680  0.2280  0.07028  \n",
       "\n",
       "[5 rows x 30 columns]"
      ]
     },
     "execution_count": 23,
     "metadata": {},
     "output_type": "execute_result"
    }
   ],
   "source": [
    "pd.DataFrame(X_train).sample(5)"
   ]
  },
  {
   "cell_type": "markdown",
   "id": "15e622f2",
   "metadata": {
    "papermill": {
     "duration": 0.037049,
     "end_time": "2023-08-21T12:27:23.113971",
     "exception": false,
     "start_time": "2023-08-21T12:27:23.076922",
     "status": "completed"
    },
    "tags": []
   },
   "source": [
    "## Feature scaling"
   ]
  },
  {
   "cell_type": "code",
   "execution_count": 24,
   "id": "eb5ce66f",
   "metadata": {
    "execution": {
     "iopub.execute_input": "2023-08-21T12:27:23.184853Z",
     "iopub.status.busy": "2023-08-21T12:27:23.184421Z",
     "iopub.status.idle": "2023-08-21T12:27:23.191777Z",
     "shell.execute_reply": "2023-08-21T12:27:23.190616Z"
    },
    "papermill": {
     "duration": 0.046325,
     "end_time": "2023-08-21T12:27:23.194234",
     "exception": false,
     "start_time": "2023-08-21T12:27:23.147909",
     "status": "completed"
    },
    "tags": []
   },
   "outputs": [],
   "source": [
    "# Feature Scaling\n",
    "from sklearn.preprocessing import StandardScaler\n",
    "sc = StandardScaler()\n",
    "X_train = sc.fit_transform(X_train)\n",
    "X_test = sc.transform(X_test)"
   ]
  },
  {
   "cell_type": "code",
   "execution_count": 25,
   "id": "4284fb14",
   "metadata": {
    "execution": {
     "iopub.execute_input": "2023-08-21T12:27:23.267239Z",
     "iopub.status.busy": "2023-08-21T12:27:23.266824Z",
     "iopub.status.idle": "2023-08-21T12:27:23.275883Z",
     "shell.execute_reply": "2023-08-21T12:27:23.274696Z"
    },
    "papermill": {
     "duration": 0.048264,
     "end_time": "2023-08-21T12:27:23.279393",
     "exception": false,
     "start_time": "2023-08-21T12:27:23.231129",
     "status": "completed"
    },
    "tags": []
   },
   "outputs": [
    {
     "data": {
      "text/plain": [
       "array([[-0.23782661,  1.37654662, -0.30376777, ..., -0.83797784,\n",
       "        -0.73208985, -0.93800715],\n",
       "       [-0.64940413, -1.06442136, -0.6200611 , ..., -0.14149333,\n",
       "        -0.48181078,  0.83889934],\n",
       "       [-0.36661957, -0.5998053 , -0.36832572, ..., -0.52605064,\n",
       "         0.24869124,  0.07892833],\n",
       "       ...,\n",
       "       [-0.5766081 ,  2.06538039, -0.60138396, ..., -0.66809984,\n",
       "        -0.72739711, -0.12974752],\n",
       "       [-0.27422462, -0.82864605, -0.24164597, ..., -0.64256463,\n",
       "         0.42545083, -0.13607103],\n",
       "       [-0.08103517, -1.39265759, -0.14298194, ..., -0.86901766,\n",
       "        -0.13924131, -0.93455796]])"
      ]
     },
     "execution_count": 25,
     "metadata": {},
     "output_type": "execute_result"
    }
   ],
   "source": [
    "X_train"
   ]
  },
  {
   "cell_type": "code",
   "execution_count": 26,
   "id": "468e0fb9",
   "metadata": {
    "execution": {
     "iopub.execute_input": "2023-08-21T12:27:23.350637Z",
     "iopub.status.busy": "2023-08-21T12:27:23.350236Z",
     "iopub.status.idle": "2023-08-21T12:27:23.359272Z",
     "shell.execute_reply": "2023-08-21T12:27:23.357576Z"
    },
    "papermill": {
     "duration": 0.049251,
     "end_time": "2023-08-21T12:27:23.363361",
     "exception": false,
     "start_time": "2023-08-21T12:27:23.314110",
     "status": "completed"
    },
    "scrolled": true,
    "tags": []
   },
   "outputs": [
    {
     "data": {
      "text/plain": [
       "array([[-0.51221162,  0.0612902 , -0.52951757, ..., -0.10479601,\n",
       "        -0.38169915, -0.14124481],\n",
       "       [-0.1482315 , -1.93124238, -0.14907232, ..., -0.62360434,\n",
       "        -0.3160009 , -0.70633672],\n",
       "       [ 0.14575244, -1.3025082 ,  0.10997151, ..., -0.35158547,\n",
       "        -0.44739741, -0.78854235],\n",
       "       ...,\n",
       "       [-1.33396673, -1.24703166, -1.28391167, ..., -0.64577564,\n",
       "         1.20288017,  0.32324579],\n",
       "       [ 0.61052705, -0.1213201 ,  0.69911352, ...,  0.8921478 ,\n",
       "        -0.22214625,  1.27062265],\n",
       "       [-0.68860198, -0.21609253, -0.71872513, ..., -0.48889461,\n",
       "         0.46612118, -0.3200277 ]])"
      ]
     },
     "execution_count": 26,
     "metadata": {},
     "output_type": "execute_result"
    }
   ],
   "source": [
    "X_test"
   ]
  },
  {
   "cell_type": "markdown",
   "id": "e8790866",
   "metadata": {
    "id": "1ZWIx29moOA5",
    "papermill": {
     "duration": 0.03488,
     "end_time": "2023-08-21T12:27:23.436244",
     "exception": false,
     "start_time": "2023-08-21T12:27:23.401364",
     "status": "completed"
    },
    "tags": []
   },
   "source": [
    "# Part 2: Building the model"
   ]
  },
  {
   "cell_type": "markdown",
   "id": "71b6d216",
   "metadata": {
    "papermill": {
     "duration": 0.034148,
     "end_time": "2023-08-21T12:27:23.505924",
     "exception": false,
     "start_time": "2023-08-21T12:27:23.471776",
     "status": "completed"
    },
    "tags": []
   },
   "source": [
    "## 1) Logistic Regression"
   ]
  },
  {
   "cell_type": "code",
   "execution_count": 27,
   "id": "0fb83651",
   "metadata": {
    "execution": {
     "iopub.execute_input": "2023-08-21T12:27:23.577862Z",
     "iopub.status.busy": "2023-08-21T12:27:23.577421Z",
     "iopub.status.idle": "2023-08-21T12:27:23.734009Z",
     "shell.execute_reply": "2023-08-21T12:27:23.732381Z"
    },
    "id": "I4e4cm1EmcoI",
    "outputId": "3e79aa54-a779-4c74-9a44-b9bab0d17b72",
    "papermill": {
     "duration": 0.197772,
     "end_time": "2023-08-21T12:27:23.738268",
     "exception": false,
     "start_time": "2023-08-21T12:27:23.540496",
     "status": "completed"
    },
    "tags": []
   },
   "outputs": [
    {
     "data": {
      "text/html": [
       "<style>#sk-container-id-1 {color: black;background-color: white;}#sk-container-id-1 pre{padding: 0;}#sk-container-id-1 div.sk-toggleable {background-color: white;}#sk-container-id-1 label.sk-toggleable__label {cursor: pointer;display: block;width: 100%;margin-bottom: 0;padding: 0.3em;box-sizing: border-box;text-align: center;}#sk-container-id-1 label.sk-toggleable__label-arrow:before {content: \"▸\";float: left;margin-right: 0.25em;color: #696969;}#sk-container-id-1 label.sk-toggleable__label-arrow:hover:before {color: black;}#sk-container-id-1 div.sk-estimator:hover label.sk-toggleable__label-arrow:before {color: black;}#sk-container-id-1 div.sk-toggleable__content {max-height: 0;max-width: 0;overflow: hidden;text-align: left;background-color: #f0f8ff;}#sk-container-id-1 div.sk-toggleable__content pre {margin: 0.2em;color: black;border-radius: 0.25em;background-color: #f0f8ff;}#sk-container-id-1 input.sk-toggleable__control:checked~div.sk-toggleable__content {max-height: 200px;max-width: 100%;overflow: auto;}#sk-container-id-1 input.sk-toggleable__control:checked~label.sk-toggleable__label-arrow:before {content: \"▾\";}#sk-container-id-1 div.sk-estimator input.sk-toggleable__control:checked~label.sk-toggleable__label {background-color: #d4ebff;}#sk-container-id-1 div.sk-label input.sk-toggleable__control:checked~label.sk-toggleable__label {background-color: #d4ebff;}#sk-container-id-1 input.sk-hidden--visually {border: 0;clip: rect(1px 1px 1px 1px);clip: rect(1px, 1px, 1px, 1px);height: 1px;margin: -1px;overflow: hidden;padding: 0;position: absolute;width: 1px;}#sk-container-id-1 div.sk-estimator {font-family: monospace;background-color: #f0f8ff;border: 1px dotted black;border-radius: 0.25em;box-sizing: border-box;margin-bottom: 0.5em;}#sk-container-id-1 div.sk-estimator:hover {background-color: #d4ebff;}#sk-container-id-1 div.sk-parallel-item::after {content: \"\";width: 100%;border-bottom: 1px solid gray;flex-grow: 1;}#sk-container-id-1 div.sk-label:hover label.sk-toggleable__label {background-color: #d4ebff;}#sk-container-id-1 div.sk-serial::before {content: \"\";position: absolute;border-left: 1px solid gray;box-sizing: border-box;top: 0;bottom: 0;left: 50%;z-index: 0;}#sk-container-id-1 div.sk-serial {display: flex;flex-direction: column;align-items: center;background-color: white;padding-right: 0.2em;padding-left: 0.2em;position: relative;}#sk-container-id-1 div.sk-item {position: relative;z-index: 1;}#sk-container-id-1 div.sk-parallel {display: flex;align-items: stretch;justify-content: center;background-color: white;position: relative;}#sk-container-id-1 div.sk-item::before, #sk-container-id-1 div.sk-parallel-item::before {content: \"\";position: absolute;border-left: 1px solid gray;box-sizing: border-box;top: 0;bottom: 0;left: 50%;z-index: -1;}#sk-container-id-1 div.sk-parallel-item {display: flex;flex-direction: column;z-index: 1;position: relative;background-color: white;}#sk-container-id-1 div.sk-parallel-item:first-child::after {align-self: flex-end;width: 50%;}#sk-container-id-1 div.sk-parallel-item:last-child::after {align-self: flex-start;width: 50%;}#sk-container-id-1 div.sk-parallel-item:only-child::after {width: 0;}#sk-container-id-1 div.sk-dashed-wrapped {border: 1px dashed gray;margin: 0 0.4em 0.5em 0.4em;box-sizing: border-box;padding-bottom: 0.4em;background-color: white;}#sk-container-id-1 div.sk-label label {font-family: monospace;font-weight: bold;display: inline-block;line-height: 1.2em;}#sk-container-id-1 div.sk-label-container {text-align: center;}#sk-container-id-1 div.sk-container {/* jupyter's `normalize.less` sets `[hidden] { display: none; }` but bootstrap.min.css set `[hidden] { display: none !important; }` so we also need the `!important` here to be able to override the default hidden behavior on the sphinx rendered scikit-learn.org. See: https://github.com/scikit-learn/scikit-learn/issues/21755 */display: inline-block !important;position: relative;}#sk-container-id-1 div.sk-text-repr-fallback {display: none;}</style><div id=\"sk-container-id-1\" class=\"sk-top-container\"><div class=\"sk-text-repr-fallback\"><pre>LogisticRegression(random_state=0)</pre><b>In a Jupyter environment, please rerun this cell to show the HTML representation or trust the notebook. <br />On GitHub, the HTML representation is unable to render, please try loading this page with nbviewer.org.</b></div><div class=\"sk-container\" hidden><div class=\"sk-item\"><div class=\"sk-estimator sk-toggleable\"><input class=\"sk-toggleable__control sk-hidden--visually\" id=\"sk-estimator-id-1\" type=\"checkbox\" checked><label for=\"sk-estimator-id-1\" class=\"sk-toggleable__label sk-toggleable__label-arrow\">LogisticRegression</label><div class=\"sk-toggleable__content\"><pre>LogisticRegression(random_state=0)</pre></div></div></div></div></div>"
      ],
      "text/plain": [
       "LogisticRegression(random_state=0)"
      ]
     },
     "execution_count": 27,
     "metadata": {},
     "output_type": "execute_result"
    }
   ],
   "source": [
    "from sklearn.linear_model import LogisticRegression\n",
    "classifier_lr = LogisticRegression(random_state=0)\n",
    "classifier_lr.fit(X_train, y_train)"
   ]
  },
  {
   "cell_type": "code",
   "execution_count": 28,
   "id": "ccbb9d36",
   "metadata": {
    "execution": {
     "iopub.execute_input": "2023-08-21T12:27:23.864324Z",
     "iopub.status.busy": "2023-08-21T12:27:23.862606Z",
     "iopub.status.idle": "2023-08-21T12:27:23.869321Z",
     "shell.execute_reply": "2023-08-21T12:27:23.868354Z"
    },
    "id": "IJ89NrGgmjA4",
    "papermill": {
     "duration": 0.058445,
     "end_time": "2023-08-21T12:27:23.872012",
     "exception": false,
     "start_time": "2023-08-21T12:27:23.813567",
     "status": "completed"
    },
    "tags": []
   },
   "outputs": [],
   "source": [
    "y_pred = classifier_lr.predict(X_test)"
   ]
  },
  {
   "cell_type": "markdown",
   "id": "3c8769b7",
   "metadata": {
    "papermill": {
     "duration": 0.035608,
     "end_time": "2023-08-21T12:27:23.943777",
     "exception": false,
     "start_time": "2023-08-21T12:27:23.908169",
     "status": "completed"
    },
    "tags": []
   },
   "source": [
    "### Testing the prediction scores"
   ]
  },
  {
   "cell_type": "code",
   "execution_count": 29,
   "id": "98cf7a07",
   "metadata": {
    "execution": {
     "iopub.execute_input": "2023-08-21T12:27:24.019639Z",
     "iopub.status.busy": "2023-08-21T12:27:24.018880Z",
     "iopub.status.idle": "2023-08-21T12:27:24.024367Z",
     "shell.execute_reply": "2023-08-21T12:27:24.023426Z"
    },
    "id": "KGyTocw7mjKS",
    "papermill": {
     "duration": 0.0451,
     "end_time": "2023-08-21T12:27:24.026972",
     "exception": false,
     "start_time": "2023-08-21T12:27:23.981872",
     "status": "completed"
    },
    "tags": []
   },
   "outputs": [],
   "source": [
    "from sklearn.metrics import accuracy_score, confusion_matrix, f1_score, precision_score, recall_score"
   ]
  },
  {
   "cell_type": "code",
   "execution_count": 30,
   "id": "36cf9a83",
   "metadata": {
    "execution": {
     "iopub.execute_input": "2023-08-21T12:27:24.097071Z",
     "iopub.status.busy": "2023-08-21T12:27:24.096613Z",
     "iopub.status.idle": "2023-08-21T12:27:24.112495Z",
     "shell.execute_reply": "2023-08-21T12:27:24.111299Z"
    },
    "id": "jukc7c9Rms6F",
    "papermill": {
     "duration": 0.054205,
     "end_time": "2023-08-21T12:27:24.115539",
     "exception": false,
     "start_time": "2023-08-21T12:27:24.061334",
     "status": "completed"
    },
    "tags": []
   },
   "outputs": [],
   "source": [
    "acc = accuracy_score(y_test, y_pred)\n",
    "f1 = f1_score(y_test, y_pred)\n",
    "prec = precision_score(y_test, y_pred)\n",
    "rec = recall_score(y_test, y_pred)\n",
    "\n",
    "\n",
    "results = pd.DataFrame([['Logistic Regression', acc, f1, prec, rec]],\n",
    "               columns = ['Model', 'Accuracy', 'F1 Score', 'Precision', 'Recall'])"
   ]
  },
  {
   "cell_type": "code",
   "execution_count": 31,
   "id": "11ebc2f4",
   "metadata": {
    "execution": {
     "iopub.execute_input": "2023-08-21T12:27:24.189363Z",
     "iopub.status.busy": "2023-08-21T12:27:24.188534Z",
     "iopub.status.idle": "2023-08-21T12:27:24.198467Z",
     "shell.execute_reply": "2023-08-21T12:27:24.196945Z"
    },
    "id": "pxDMRp5WrQg2",
    "outputId": "de8cbd8c-abcb-4890-acd7-8a525dcb4c12",
    "papermill": {
     "duration": 0.050037,
     "end_time": "2023-08-21T12:27:24.201229",
     "exception": false,
     "start_time": "2023-08-21T12:27:24.151192",
     "status": "completed"
    },
    "tags": []
   },
   "outputs": [
    {
     "name": "stdout",
     "output_type": "stream",
     "text": [
      "[[105   0]\n",
      " [  5  61]]\n"
     ]
    }
   ],
   "source": [
    "cm = confusion_matrix(y_test, y_pred)\n",
    "print(cm)"
   ]
  },
  {
   "cell_type": "code",
   "execution_count": 32,
   "id": "cb6d46d7",
   "metadata": {
    "execution": {
     "iopub.execute_input": "2023-08-21T12:27:24.275327Z",
     "iopub.status.busy": "2023-08-21T12:27:24.274914Z",
     "iopub.status.idle": "2023-08-21T12:27:24.288154Z",
     "shell.execute_reply": "2023-08-21T12:27:24.286765Z"
    },
    "id": "6T1y-SqcnKRd",
    "outputId": "29c01bc7-648b-4e4d-8edd-7351b96a8284",
    "papermill": {
     "duration": 0.05388,
     "end_time": "2023-08-21T12:27:24.290744",
     "exception": false,
     "start_time": "2023-08-21T12:27:24.236864",
     "status": "completed"
    },
    "tags": []
   },
   "outputs": [
    {
     "data": {
      "text/html": [
       "<div>\n",
       "<style scoped>\n",
       "    .dataframe tbody tr th:only-of-type {\n",
       "        vertical-align: middle;\n",
       "    }\n",
       "\n",
       "    .dataframe tbody tr th {\n",
       "        vertical-align: top;\n",
       "    }\n",
       "\n",
       "    .dataframe thead th {\n",
       "        text-align: right;\n",
       "    }\n",
       "</style>\n",
       "<table border=\"1\" class=\"dataframe\">\n",
       "  <thead>\n",
       "    <tr style=\"text-align: right;\">\n",
       "      <th></th>\n",
       "      <th>Model</th>\n",
       "      <th>Accuracy</th>\n",
       "      <th>F1 Score</th>\n",
       "      <th>Precision</th>\n",
       "      <th>Recall</th>\n",
       "    </tr>\n",
       "  </thead>\n",
       "  <tbody>\n",
       "    <tr>\n",
       "      <th>0</th>\n",
       "      <td>Logistic Regression</td>\n",
       "      <td>0.97076</td>\n",
       "      <td>0.96063</td>\n",
       "      <td>1.0</td>\n",
       "      <td>0.924242</td>\n",
       "    </tr>\n",
       "  </tbody>\n",
       "</table>\n",
       "</div>"
      ],
      "text/plain": [
       "                 Model  Accuracy  F1 Score  Precision    Recall\n",
       "0  Logistic Regression   0.97076   0.96063        1.0  0.924242"
      ]
     },
     "execution_count": 32,
     "metadata": {},
     "output_type": "execute_result"
    }
   ],
   "source": [
    "results"
   ]
  },
  {
   "cell_type": "markdown",
   "id": "33f08a29",
   "metadata": {
    "papermill": {
     "duration": 0.037178,
     "end_time": "2023-08-21T12:27:24.363752",
     "exception": false,
     "start_time": "2023-08-21T12:27:24.326574",
     "status": "completed"
    },
    "tags": []
   },
   "source": [
    "### Cross Validation"
   ]
  },
  {
   "cell_type": "code",
   "execution_count": 33,
   "id": "f1aa053f",
   "metadata": {
    "execution": {
     "iopub.execute_input": "2023-08-21T12:27:24.439733Z",
     "iopub.status.busy": "2023-08-21T12:27:24.439289Z",
     "iopub.status.idle": "2023-08-21T12:27:24.657991Z",
     "shell.execute_reply": "2023-08-21T12:27:24.656253Z"
    },
    "id": "XOJnTJiIK89K",
    "outputId": "907bfefa-b92b-4bd9-a704-ea451315c097",
    "papermill": {
     "duration": 0.259503,
     "end_time": "2023-08-21T12:27:24.662185",
     "exception": false,
     "start_time": "2023-08-21T12:27:24.402682",
     "status": "completed"
    },
    "tags": []
   },
   "outputs": [
    {
     "name": "stdout",
     "output_type": "stream",
     "text": [
      "Accuracy is 97.74 %\n",
      "Standard Deviation is 2.62 %\n"
     ]
    }
   ],
   "source": [
    "from sklearn.model_selection import cross_val_score\n",
    "accuracies = cross_val_score(estimator=classifier_lr, X=X_train, y=y_train, cv=10)\n",
    "\n",
    "print(\"Accuracy is {:.2f} %\".format(accuracies.mean()*100))\n",
    "print(\"Standard Deviation is {:.2f} %\".format(accuracies.std()*100))"
   ]
  },
  {
   "cell_type": "markdown",
   "id": "255a5f44",
   "metadata": {
    "id": "oZQ5GFh8nmfh",
    "papermill": {
     "duration": 0.051857,
     "end_time": "2023-08-21T12:27:24.792386",
     "exception": false,
     "start_time": "2023-08-21T12:27:24.740529",
     "status": "completed"
    },
    "tags": []
   },
   "source": [
    "## 2) Random forest"
   ]
  },
  {
   "cell_type": "code",
   "execution_count": 34,
   "id": "ab6c7f4d",
   "metadata": {
    "execution": {
     "iopub.execute_input": "2023-08-21T12:27:24.866559Z",
     "iopub.status.busy": "2023-08-21T12:27:24.865997Z",
     "iopub.status.idle": "2023-08-21T12:27:25.558057Z",
     "shell.execute_reply": "2023-08-21T12:27:25.556440Z"
    },
    "id": "1L6YB5SsnofR",
    "outputId": "9e13dec6-3c00-4b45-87db-ab19d75b5cb7",
    "papermill": {
     "duration": 0.731911,
     "end_time": "2023-08-21T12:27:25.561235",
     "exception": false,
     "start_time": "2023-08-21T12:27:24.829324",
     "status": "completed"
    },
    "tags": []
   },
   "outputs": [
    {
     "data": {
      "text/html": [
       "<style>#sk-container-id-2 {color: black;background-color: white;}#sk-container-id-2 pre{padding: 0;}#sk-container-id-2 div.sk-toggleable {background-color: white;}#sk-container-id-2 label.sk-toggleable__label {cursor: pointer;display: block;width: 100%;margin-bottom: 0;padding: 0.3em;box-sizing: border-box;text-align: center;}#sk-container-id-2 label.sk-toggleable__label-arrow:before {content: \"▸\";float: left;margin-right: 0.25em;color: #696969;}#sk-container-id-2 label.sk-toggleable__label-arrow:hover:before {color: black;}#sk-container-id-2 div.sk-estimator:hover label.sk-toggleable__label-arrow:before {color: black;}#sk-container-id-2 div.sk-toggleable__content {max-height: 0;max-width: 0;overflow: hidden;text-align: left;background-color: #f0f8ff;}#sk-container-id-2 div.sk-toggleable__content pre {margin: 0.2em;color: black;border-radius: 0.25em;background-color: #f0f8ff;}#sk-container-id-2 input.sk-toggleable__control:checked~div.sk-toggleable__content {max-height: 200px;max-width: 100%;overflow: auto;}#sk-container-id-2 input.sk-toggleable__control:checked~label.sk-toggleable__label-arrow:before {content: \"▾\";}#sk-container-id-2 div.sk-estimator input.sk-toggleable__control:checked~label.sk-toggleable__label {background-color: #d4ebff;}#sk-container-id-2 div.sk-label input.sk-toggleable__control:checked~label.sk-toggleable__label {background-color: #d4ebff;}#sk-container-id-2 input.sk-hidden--visually {border: 0;clip: rect(1px 1px 1px 1px);clip: rect(1px, 1px, 1px, 1px);height: 1px;margin: -1px;overflow: hidden;padding: 0;position: absolute;width: 1px;}#sk-container-id-2 div.sk-estimator {font-family: monospace;background-color: #f0f8ff;border: 1px dotted black;border-radius: 0.25em;box-sizing: border-box;margin-bottom: 0.5em;}#sk-container-id-2 div.sk-estimator:hover {background-color: #d4ebff;}#sk-container-id-2 div.sk-parallel-item::after {content: \"\";width: 100%;border-bottom: 1px solid gray;flex-grow: 1;}#sk-container-id-2 div.sk-label:hover label.sk-toggleable__label {background-color: #d4ebff;}#sk-container-id-2 div.sk-serial::before {content: \"\";position: absolute;border-left: 1px solid gray;box-sizing: border-box;top: 0;bottom: 0;left: 50%;z-index: 0;}#sk-container-id-2 div.sk-serial {display: flex;flex-direction: column;align-items: center;background-color: white;padding-right: 0.2em;padding-left: 0.2em;position: relative;}#sk-container-id-2 div.sk-item {position: relative;z-index: 1;}#sk-container-id-2 div.sk-parallel {display: flex;align-items: stretch;justify-content: center;background-color: white;position: relative;}#sk-container-id-2 div.sk-item::before, #sk-container-id-2 div.sk-parallel-item::before {content: \"\";position: absolute;border-left: 1px solid gray;box-sizing: border-box;top: 0;bottom: 0;left: 50%;z-index: -1;}#sk-container-id-2 div.sk-parallel-item {display: flex;flex-direction: column;z-index: 1;position: relative;background-color: white;}#sk-container-id-2 div.sk-parallel-item:first-child::after {align-self: flex-end;width: 50%;}#sk-container-id-2 div.sk-parallel-item:last-child::after {align-self: flex-start;width: 50%;}#sk-container-id-2 div.sk-parallel-item:only-child::after {width: 0;}#sk-container-id-2 div.sk-dashed-wrapped {border: 1px dashed gray;margin: 0 0.4em 0.5em 0.4em;box-sizing: border-box;padding-bottom: 0.4em;background-color: white;}#sk-container-id-2 div.sk-label label {font-family: monospace;font-weight: bold;display: inline-block;line-height: 1.2em;}#sk-container-id-2 div.sk-label-container {text-align: center;}#sk-container-id-2 div.sk-container {/* jupyter's `normalize.less` sets `[hidden] { display: none; }` but bootstrap.min.css set `[hidden] { display: none !important; }` so we also need the `!important` here to be able to override the default hidden behavior on the sphinx rendered scikit-learn.org. See: https://github.com/scikit-learn/scikit-learn/issues/21755 */display: inline-block !important;position: relative;}#sk-container-id-2 div.sk-text-repr-fallback {display: none;}</style><div id=\"sk-container-id-2\" class=\"sk-top-container\"><div class=\"sk-text-repr-fallback\"><pre>RandomForestClassifier(random_state=0)</pre><b>In a Jupyter environment, please rerun this cell to show the HTML representation or trust the notebook. <br />On GitHub, the HTML representation is unable to render, please try loading this page with nbviewer.org.</b></div><div class=\"sk-container\" hidden><div class=\"sk-item\"><div class=\"sk-estimator sk-toggleable\"><input class=\"sk-toggleable__control sk-hidden--visually\" id=\"sk-estimator-id-2\" type=\"checkbox\" checked><label for=\"sk-estimator-id-2\" class=\"sk-toggleable__label sk-toggleable__label-arrow\">RandomForestClassifier</label><div class=\"sk-toggleable__content\"><pre>RandomForestClassifier(random_state=0)</pre></div></div></div></div></div>"
      ],
      "text/plain": [
       "RandomForestClassifier(random_state=0)"
      ]
     },
     "execution_count": 34,
     "metadata": {},
     "output_type": "execute_result"
    }
   ],
   "source": [
    "from sklearn.ensemble import RandomForestClassifier\n",
    "classifier_rf = RandomForestClassifier(random_state=0)\n",
    "classifier_rf.fit(X_train, y_train)"
   ]
  },
  {
   "cell_type": "code",
   "execution_count": 35,
   "id": "149c79b3",
   "metadata": {
    "execution": {
     "iopub.execute_input": "2023-08-21T12:27:25.632529Z",
     "iopub.status.busy": "2023-08-21T12:27:25.632134Z",
     "iopub.status.idle": "2023-08-21T12:27:25.678081Z",
     "shell.execute_reply": "2023-08-21T12:27:25.676356Z"
    },
    "id": "06VeXU9wnomc",
    "outputId": "7ad4aac3-835d-48db-966f-7110c5708ebd",
    "papermill": {
     "duration": 0.085462,
     "end_time": "2023-08-21T12:27:25.681342",
     "exception": false,
     "start_time": "2023-08-21T12:27:25.595880",
     "status": "completed"
    },
    "tags": []
   },
   "outputs": [
    {
     "data": {
      "text/html": [
       "<div>\n",
       "<style scoped>\n",
       "    .dataframe tbody tr th:only-of-type {\n",
       "        vertical-align: middle;\n",
       "    }\n",
       "\n",
       "    .dataframe tbody tr th {\n",
       "        vertical-align: top;\n",
       "    }\n",
       "\n",
       "    .dataframe thead th {\n",
       "        text-align: right;\n",
       "    }\n",
       "</style>\n",
       "<table border=\"1\" class=\"dataframe\">\n",
       "  <thead>\n",
       "    <tr style=\"text-align: right;\">\n",
       "      <th></th>\n",
       "      <th>Model</th>\n",
       "      <th>Accuracy</th>\n",
       "      <th>F1 Score</th>\n",
       "      <th>Precision</th>\n",
       "      <th>Recall</th>\n",
       "    </tr>\n",
       "  </thead>\n",
       "  <tbody>\n",
       "    <tr>\n",
       "      <th>0</th>\n",
       "      <td>Logistic Regression</td>\n",
       "      <td>0.970760</td>\n",
       "      <td>0.960630</td>\n",
       "      <td>1.000000</td>\n",
       "      <td>0.924242</td>\n",
       "    </tr>\n",
       "    <tr>\n",
       "      <th>1</th>\n",
       "      <td>Random Forest</td>\n",
       "      <td>0.953216</td>\n",
       "      <td>0.938462</td>\n",
       "      <td>0.953125</td>\n",
       "      <td>0.924242</td>\n",
       "    </tr>\n",
       "  </tbody>\n",
       "</table>\n",
       "</div>"
      ],
      "text/plain": [
       "                 Model  Accuracy  F1 Score  Precision    Recall\n",
       "0  Logistic Regression  0.970760  0.960630   1.000000  0.924242\n",
       "1        Random Forest  0.953216  0.938462   0.953125  0.924242"
      ]
     },
     "execution_count": 35,
     "metadata": {},
     "output_type": "execute_result"
    }
   ],
   "source": [
    "y_pred = classifier_rf.predict(X_test)\n",
    "\n",
    "acc = accuracy_score(y_test, y_pred)\n",
    "prec = precision_score(y_test, y_pred)\n",
    "rec = recall_score(y_test, y_pred)\n",
    "f1 = f1_score(y_test, y_pred)\n",
    "\n",
    "model_results = pd.DataFrame([['Random Forest', acc, prec, rec, f1]],\n",
    "               columns = ['Model', 'Accuracy', 'Precision', 'Recall', 'F1 Score'])\n",
    "\n",
    "\n",
    "results = results.append(model_results, ignore_index = True)\n",
    "results"
   ]
  },
  {
   "cell_type": "code",
   "execution_count": 36,
   "id": "b48a0cc3",
   "metadata": {
    "execution": {
     "iopub.execute_input": "2023-08-21T12:27:25.755341Z",
     "iopub.status.busy": "2023-08-21T12:27:25.754925Z",
     "iopub.status.idle": "2023-08-21T12:27:25.763103Z",
     "shell.execute_reply": "2023-08-21T12:27:25.761874Z"
    },
    "id": "FIt0AVsmoi7y",
    "outputId": "c2639eaa-72ec-43cc-8992-3f589fdddd58",
    "papermill": {
     "duration": 0.046601,
     "end_time": "2023-08-21T12:27:25.765599",
     "exception": false,
     "start_time": "2023-08-21T12:27:25.718998",
     "status": "completed"
    },
    "tags": []
   },
   "outputs": [
    {
     "name": "stdout",
     "output_type": "stream",
     "text": [
      "[[102   3]\n",
      " [  5  61]]\n"
     ]
    }
   ],
   "source": [
    "cm = confusion_matrix(y_test, y_pred)\n",
    "print(cm)"
   ]
  },
  {
   "cell_type": "markdown",
   "id": "4798ff2b",
   "metadata": {
    "id": "DdkimlQ-LTzz",
    "papermill": {
     "duration": 0.034115,
     "end_time": "2023-08-21T12:27:25.835158",
     "exception": false,
     "start_time": "2023-08-21T12:27:25.801043",
     "status": "completed"
    },
    "tags": []
   },
   "source": [
    "### Cross validation"
   ]
  },
  {
   "cell_type": "code",
   "execution_count": 37,
   "id": "ace44968",
   "metadata": {
    "execution": {
     "iopub.execute_input": "2023-08-21T12:27:25.914700Z",
     "iopub.status.busy": "2023-08-21T12:27:25.914195Z",
     "iopub.status.idle": "2023-08-21T12:27:29.140186Z",
     "shell.execute_reply": "2023-08-21T12:27:29.138724Z"
    },
    "id": "xDQ7rSZ6LB6P",
    "outputId": "27530f3d-ce98-4235-e9b4-0807ee27f175",
    "papermill": {
     "duration": 3.269413,
     "end_time": "2023-08-21T12:27:29.142930",
     "exception": false,
     "start_time": "2023-08-21T12:27:25.873517",
     "status": "completed"
    },
    "tags": []
   },
   "outputs": [
    {
     "name": "stdout",
     "output_type": "stream",
     "text": [
      "Accuracy is 95.49 %\n",
      "Standard Deviation is 3.50 %\n"
     ]
    }
   ],
   "source": [
    "from sklearn.model_selection import cross_val_score\n",
    "accuracies = cross_val_score(estimator=classifier_rf, X=X_train, y=y_train, cv=10)\n",
    "\n",
    "print(\"Accuracy is {:.2f} %\".format(accuracies.mean()*100))\n",
    "print(\"Standard Deviation is {:.2f} %\".format(accuracies.std()*100))"
   ]
  },
  {
   "cell_type": "markdown",
   "id": "3056353b",
   "metadata": {
    "id": "b-E39NXroYDm",
    "papermill": {
     "duration": 0.034833,
     "end_time": "2023-08-21T12:27:29.213960",
     "exception": false,
     "start_time": "2023-08-21T12:27:29.179127",
     "status": "completed"
    },
    "tags": []
   },
   "source": [
    "## 3) XGBoost"
   ]
  },
  {
   "cell_type": "code",
   "execution_count": 38,
   "id": "4b4a4d70",
   "metadata": {
    "execution": {
     "iopub.execute_input": "2023-08-21T12:27:29.295236Z",
     "iopub.status.busy": "2023-08-21T12:27:29.294796Z",
     "iopub.status.idle": "2023-08-21T12:27:29.636484Z",
     "shell.execute_reply": "2023-08-21T12:27:29.635413Z"
    },
    "id": "iFvF7lA5oG7C",
    "outputId": "010e876c-802e-4cc6-cf55-4ad7dc84a718",
    "papermill": {
     "duration": 0.387534,
     "end_time": "2023-08-21T12:27:29.639481",
     "exception": false,
     "start_time": "2023-08-21T12:27:29.251947",
     "status": "completed"
    },
    "scrolled": true,
    "tags": []
   },
   "outputs": [
    {
     "data": {
      "text/html": [
       "<style>#sk-container-id-3 {color: black;background-color: white;}#sk-container-id-3 pre{padding: 0;}#sk-container-id-3 div.sk-toggleable {background-color: white;}#sk-container-id-3 label.sk-toggleable__label {cursor: pointer;display: block;width: 100%;margin-bottom: 0;padding: 0.3em;box-sizing: border-box;text-align: center;}#sk-container-id-3 label.sk-toggleable__label-arrow:before {content: \"▸\";float: left;margin-right: 0.25em;color: #696969;}#sk-container-id-3 label.sk-toggleable__label-arrow:hover:before {color: black;}#sk-container-id-3 div.sk-estimator:hover label.sk-toggleable__label-arrow:before {color: black;}#sk-container-id-3 div.sk-toggleable__content {max-height: 0;max-width: 0;overflow: hidden;text-align: left;background-color: #f0f8ff;}#sk-container-id-3 div.sk-toggleable__content pre {margin: 0.2em;color: black;border-radius: 0.25em;background-color: #f0f8ff;}#sk-container-id-3 input.sk-toggleable__control:checked~div.sk-toggleable__content {max-height: 200px;max-width: 100%;overflow: auto;}#sk-container-id-3 input.sk-toggleable__control:checked~label.sk-toggleable__label-arrow:before {content: \"▾\";}#sk-container-id-3 div.sk-estimator input.sk-toggleable__control:checked~label.sk-toggleable__label {background-color: #d4ebff;}#sk-container-id-3 div.sk-label input.sk-toggleable__control:checked~label.sk-toggleable__label {background-color: #d4ebff;}#sk-container-id-3 input.sk-hidden--visually {border: 0;clip: rect(1px 1px 1px 1px);clip: rect(1px, 1px, 1px, 1px);height: 1px;margin: -1px;overflow: hidden;padding: 0;position: absolute;width: 1px;}#sk-container-id-3 div.sk-estimator {font-family: monospace;background-color: #f0f8ff;border: 1px dotted black;border-radius: 0.25em;box-sizing: border-box;margin-bottom: 0.5em;}#sk-container-id-3 div.sk-estimator:hover {background-color: #d4ebff;}#sk-container-id-3 div.sk-parallel-item::after {content: \"\";width: 100%;border-bottom: 1px solid gray;flex-grow: 1;}#sk-container-id-3 div.sk-label:hover label.sk-toggleable__label {background-color: #d4ebff;}#sk-container-id-3 div.sk-serial::before {content: \"\";position: absolute;border-left: 1px solid gray;box-sizing: border-box;top: 0;bottom: 0;left: 50%;z-index: 0;}#sk-container-id-3 div.sk-serial {display: flex;flex-direction: column;align-items: center;background-color: white;padding-right: 0.2em;padding-left: 0.2em;position: relative;}#sk-container-id-3 div.sk-item {position: relative;z-index: 1;}#sk-container-id-3 div.sk-parallel {display: flex;align-items: stretch;justify-content: center;background-color: white;position: relative;}#sk-container-id-3 div.sk-item::before, #sk-container-id-3 div.sk-parallel-item::before {content: \"\";position: absolute;border-left: 1px solid gray;box-sizing: border-box;top: 0;bottom: 0;left: 50%;z-index: -1;}#sk-container-id-3 div.sk-parallel-item {display: flex;flex-direction: column;z-index: 1;position: relative;background-color: white;}#sk-container-id-3 div.sk-parallel-item:first-child::after {align-self: flex-end;width: 50%;}#sk-container-id-3 div.sk-parallel-item:last-child::after {align-self: flex-start;width: 50%;}#sk-container-id-3 div.sk-parallel-item:only-child::after {width: 0;}#sk-container-id-3 div.sk-dashed-wrapped {border: 1px dashed gray;margin: 0 0.4em 0.5em 0.4em;box-sizing: border-box;padding-bottom: 0.4em;background-color: white;}#sk-container-id-3 div.sk-label label {font-family: monospace;font-weight: bold;display: inline-block;line-height: 1.2em;}#sk-container-id-3 div.sk-label-container {text-align: center;}#sk-container-id-3 div.sk-container {/* jupyter's `normalize.less` sets `[hidden] { display: none; }` but bootstrap.min.css set `[hidden] { display: none !important; }` so we also need the `!important` here to be able to override the default hidden behavior on the sphinx rendered scikit-learn.org. See: https://github.com/scikit-learn/scikit-learn/issues/21755 */display: inline-block !important;position: relative;}#sk-container-id-3 div.sk-text-repr-fallback {display: none;}</style><div id=\"sk-container-id-3\" class=\"sk-top-container\"><div class=\"sk-text-repr-fallback\"><pre>XGBClassifier(base_score=None, booster=None, callbacks=None,\n",
       "              colsample_bylevel=None, colsample_bynode=None,\n",
       "              colsample_bytree=None, early_stopping_rounds=None,\n",
       "              enable_categorical=False, eval_metric=None, feature_types=None,\n",
       "              gamma=None, gpu_id=None, grow_policy=None, importance_type=None,\n",
       "              interaction_constraints=None, learning_rate=None, max_bin=None,\n",
       "              max_cat_threshold=None, max_cat_to_onehot=None,\n",
       "              max_delta_step=None, max_depth=None, max_leaves=None,\n",
       "              min_child_weight=None, missing=nan, monotone_constraints=None,\n",
       "              n_estimators=100, n_jobs=None, num_parallel_tree=None,\n",
       "              predictor=None, random_state=0, ...)</pre><b>In a Jupyter environment, please rerun this cell to show the HTML representation or trust the notebook. <br />On GitHub, the HTML representation is unable to render, please try loading this page with nbviewer.org.</b></div><div class=\"sk-container\" hidden><div class=\"sk-item\"><div class=\"sk-estimator sk-toggleable\"><input class=\"sk-toggleable__control sk-hidden--visually\" id=\"sk-estimator-id-3\" type=\"checkbox\" checked><label for=\"sk-estimator-id-3\" class=\"sk-toggleable__label sk-toggleable__label-arrow\">XGBClassifier</label><div class=\"sk-toggleable__content\"><pre>XGBClassifier(base_score=None, booster=None, callbacks=None,\n",
       "              colsample_bylevel=None, colsample_bynode=None,\n",
       "              colsample_bytree=None, early_stopping_rounds=None,\n",
       "              enable_categorical=False, eval_metric=None, feature_types=None,\n",
       "              gamma=None, gpu_id=None, grow_policy=None, importance_type=None,\n",
       "              interaction_constraints=None, learning_rate=None, max_bin=None,\n",
       "              max_cat_threshold=None, max_cat_to_onehot=None,\n",
       "              max_delta_step=None, max_depth=None, max_leaves=None,\n",
       "              min_child_weight=None, missing=nan, monotone_constraints=None,\n",
       "              n_estimators=100, n_jobs=None, num_parallel_tree=None,\n",
       "              predictor=None, random_state=0, ...)</pre></div></div></div></div></div>"
      ],
      "text/plain": [
       "XGBClassifier(base_score=None, booster=None, callbacks=None,\n",
       "              colsample_bylevel=None, colsample_bynode=None,\n",
       "              colsample_bytree=None, early_stopping_rounds=None,\n",
       "              enable_categorical=False, eval_metric=None, feature_types=None,\n",
       "              gamma=None, gpu_id=None, grow_policy=None, importance_type=None,\n",
       "              interaction_constraints=None, learning_rate=None, max_bin=None,\n",
       "              max_cat_threshold=None, max_cat_to_onehot=None,\n",
       "              max_delta_step=None, max_depth=None, max_leaves=None,\n",
       "              min_child_weight=None, missing=nan, monotone_constraints=None,\n",
       "              n_estimators=100, n_jobs=None, num_parallel_tree=None,\n",
       "              predictor=None, random_state=0, ...)"
      ]
     },
     "execution_count": 38,
     "metadata": {},
     "output_type": "execute_result"
    }
   ],
   "source": [
    "from xgboost import XGBClassifier\n",
    "classifier_xgb = XGBClassifier(random_state=0)\n",
    "classifier_xgb.fit(X_train, y_train)"
   ]
  },
  {
   "cell_type": "code",
   "execution_count": 39,
   "id": "b0f1e32a",
   "metadata": {
    "execution": {
     "iopub.execute_input": "2023-08-21T12:27:29.713741Z",
     "iopub.status.busy": "2023-08-21T12:27:29.712372Z",
     "iopub.status.idle": "2023-08-21T12:27:29.745154Z",
     "shell.execute_reply": "2023-08-21T12:27:29.744062Z"
    },
    "id": "NyzjWCFnnork",
    "outputId": "92c6cb76-6404-42d3-9d97-73e77f2f3501",
    "papermill": {
     "duration": 0.072971,
     "end_time": "2023-08-21T12:27:29.748213",
     "exception": false,
     "start_time": "2023-08-21T12:27:29.675242",
     "status": "completed"
    },
    "tags": []
   },
   "outputs": [
    {
     "data": {
      "text/html": [
       "<div>\n",
       "<style scoped>\n",
       "    .dataframe tbody tr th:only-of-type {\n",
       "        vertical-align: middle;\n",
       "    }\n",
       "\n",
       "    .dataframe tbody tr th {\n",
       "        vertical-align: top;\n",
       "    }\n",
       "\n",
       "    .dataframe thead th {\n",
       "        text-align: right;\n",
       "    }\n",
       "</style>\n",
       "<table border=\"1\" class=\"dataframe\">\n",
       "  <thead>\n",
       "    <tr style=\"text-align: right;\">\n",
       "      <th></th>\n",
       "      <th>Model</th>\n",
       "      <th>Accuracy</th>\n",
       "      <th>F1 Score</th>\n",
       "      <th>Precision</th>\n",
       "      <th>Recall</th>\n",
       "    </tr>\n",
       "  </thead>\n",
       "  <tbody>\n",
       "    <tr>\n",
       "      <th>0</th>\n",
       "      <td>Logistic Regression</td>\n",
       "      <td>0.970760</td>\n",
       "      <td>0.960630</td>\n",
       "      <td>1.000000</td>\n",
       "      <td>0.924242</td>\n",
       "    </tr>\n",
       "    <tr>\n",
       "      <th>1</th>\n",
       "      <td>Random Forest</td>\n",
       "      <td>0.953216</td>\n",
       "      <td>0.938462</td>\n",
       "      <td>0.953125</td>\n",
       "      <td>0.924242</td>\n",
       "    </tr>\n",
       "    <tr>\n",
       "      <th>2</th>\n",
       "      <td>XGBoost</td>\n",
       "      <td>0.935673</td>\n",
       "      <td>0.916031</td>\n",
       "      <td>0.923077</td>\n",
       "      <td>0.909091</td>\n",
       "    </tr>\n",
       "  </tbody>\n",
       "</table>\n",
       "</div>"
      ],
      "text/plain": [
       "                 Model  Accuracy  F1 Score  Precision    Recall\n",
       "0  Logistic Regression  0.970760  0.960630   1.000000  0.924242\n",
       "1        Random Forest  0.953216  0.938462   0.953125  0.924242\n",
       "2              XGBoost  0.935673  0.916031   0.923077  0.909091"
      ]
     },
     "execution_count": 39,
     "metadata": {},
     "output_type": "execute_result"
    }
   ],
   "source": [
    "y_pred = classifier_xgb.predict(X_test)\n",
    "\n",
    "acc = accuracy_score(y_test, y_pred)\n",
    "prec = precision_score(y_test, y_pred)\n",
    "rec = recall_score(y_test, y_pred)\n",
    "f1 = f1_score(y_test, y_pred)\n",
    "\n",
    "model_results = pd.DataFrame([['XGBoost', acc, prec, rec, f1]],\n",
    "               columns = ['Model', 'Accuracy', 'Precision', 'Recall', 'F1 Score'])\n",
    "\n",
    "\n",
    "results = results.append(model_results, ignore_index = True)\n",
    "results"
   ]
  },
  {
   "cell_type": "code",
   "execution_count": 40,
   "id": "022047ca",
   "metadata": {
    "execution": {
     "iopub.execute_input": "2023-08-21T12:27:29.822798Z",
     "iopub.status.busy": "2023-08-21T12:27:29.822315Z",
     "iopub.status.idle": "2023-08-21T12:27:29.832870Z",
     "shell.execute_reply": "2023-08-21T12:27:29.831011Z"
    },
    "id": "WQzE2T90ogFr",
    "outputId": "ddff7447-af5a-40a2-f47d-96fb83462143",
    "papermill": {
     "duration": 0.050283,
     "end_time": "2023-08-21T12:27:29.835435",
     "exception": false,
     "start_time": "2023-08-21T12:27:29.785152",
     "status": "completed"
    },
    "tags": []
   },
   "outputs": [
    {
     "name": "stdout",
     "output_type": "stream",
     "text": [
      "[[100   5]\n",
      " [  6  60]]\n"
     ]
    }
   ],
   "source": [
    "cm = confusion_matrix(y_test, y_pred)\n",
    "print(cm)"
   ]
  },
  {
   "cell_type": "markdown",
   "id": "7267abf8",
   "metadata": {
    "id": "d8qrJW3QLWvD",
    "papermill": {
     "duration": 0.03572,
     "end_time": "2023-08-21T12:27:29.907654",
     "exception": false,
     "start_time": "2023-08-21T12:27:29.871934",
     "status": "completed"
    },
    "tags": []
   },
   "source": [
    "### Cross validation"
   ]
  },
  {
   "cell_type": "code",
   "execution_count": 41,
   "id": "50a44760",
   "metadata": {
    "execution": {
     "iopub.execute_input": "2023-08-21T12:27:29.980921Z",
     "iopub.status.busy": "2023-08-21T12:27:29.979822Z",
     "iopub.status.idle": "2023-08-21T12:27:30.624447Z",
     "shell.execute_reply": "2023-08-21T12:27:30.623455Z"
    },
    "id": "ZDyK4pMAKrsv",
    "outputId": "eb202f54-fb28-4d55-e437-769c2bcf97d9",
    "papermill": {
     "duration": 0.684089,
     "end_time": "2023-08-21T12:27:30.626871",
     "exception": false,
     "start_time": "2023-08-21T12:27:29.942782",
     "status": "completed"
    },
    "tags": []
   },
   "outputs": [
    {
     "name": "stdout",
     "output_type": "stream",
     "text": [
      "Accuracy is 95.49 %\n",
      "Standard Deviation is 2.45 %\n"
     ]
    }
   ],
   "source": [
    "from sklearn.model_selection import cross_val_score\n",
    "accuracies = cross_val_score(estimator=classifier_xgb, X=X_train, y=y_train, cv=10)\n",
    "\n",
    "print(\"Accuracy is {:.2f} %\".format(accuracies.mean()*100))\n",
    "print(\"Standard Deviation is {:.2f} %\".format(accuracies.std()*100))"
   ]
  },
  {
   "cell_type": "markdown",
   "id": "b8af9ee5",
   "metadata": {
    "papermill": {
     "duration": 0.03599,
     "end_time": "2023-08-21T12:27:30.699547",
     "exception": false,
     "start_time": "2023-08-21T12:27:30.663557",
     "status": "completed"
    },
    "tags": []
   },
   "source": [
    "# **Part 3: Randomized Search to find the best parameters (Logistic regression)**"
   ]
  },
  {
   "cell_type": "markdown",
   "id": "da2a070e",
   "metadata": {
    "papermill": {
     "duration": 0.034498,
     "end_time": "2023-08-21T12:27:30.769591",
     "exception": false,
     "start_time": "2023-08-21T12:27:30.735093",
     "status": "completed"
    },
    "tags": []
   },
   "source": [
    "Here's a table summarizing common scoring metrics used in classification tasks, along with their brief intuition and use cases:\n",
    "\n",
    "| Metric                  | Intuition                                           | Use Cases                                                  |\n",
    "|-------------------------|----------------------------------------------------|------------------------------------------------------------|\n",
    "| Accuracy                | Ratio of correct predictions to total instances   | Balanced datasets, general classification accuracy        |\n",
    "| Precision               | Ratio of correct positive predictions to all positives | Cases where false positives are costly                  |\n",
    "| Recall (Sensitivity)   | Ratio of correct positive predictions to actual positives | Cases where false negatives are costly                  |\n",
    "| F1-Score                | Harmonic mean of precision and recall             | Balancing precision and recall, considering both errors  |\n",
    "| Specificity             | Ratio of correct negative predictions to actual negatives | When the cost of false positives is high               |\n",
    "| ROC-AUC                 | Area under ROC curve; TP rate vs. FP rate        | Evaluating models across different threshold settings   |\n",
    "| Log Loss (Cross-Entropy)| Measures the difference between predicted and true class probabilities | Models providing probabilistic predictions         |\n",
    "| Matthews Correlation Coefficient (MCC) | Incorporates true positives, true negatives, false positives, and false negatives | Imbalanced datasets, different class sizes         |\n",
    "| Cohen's Kappa           | Measures agreement between observed and expected classification | Assessing agreement between human raters           |\n",
    "| Balanced Accuracy       | Average recall for each class                    | Imbalanced datasets, providing balanced view of performance |\n",
    "\n"
   ]
  },
  {
   "cell_type": "markdown",
   "id": "1c78a037",
   "metadata": {
    "papermill": {
     "duration": 0.035747,
     "end_time": "2023-08-21T12:27:30.841853",
     "exception": false,
     "start_time": "2023-08-21T12:27:30.806106",
     "status": "completed"
    },
    "tags": []
   },
   "source": [
    "Here's a comparative analysis of different types of hyperparameter search techniques, along with a brief explanation of each technique:\n",
    "\n",
    "| Search Technique         | Intuition and Approach                                  | Pros                                               | Cons                                               |\n",
    "|--------------------------|--------------------------------------------------------|----------------------------------------------------|----------------------------------------------------|\n",
    "| Grid Search              | Exhaustively searches over a predefined parameter grid | Simple to implement                               | Computationally expensive for large parameter grids; May not explore parameter interactions thoroughly |\n",
    "| Random Search            | Randomly samples from parameter distributions          | More efficient than grid search for large grids; Can discover unexpected parameter combinations | Less systematic than grid search; Might miss optimal values near searched points |\n",
    "| Bayesian Optimization   | Models the objective function and selects promising points to explore | Efficient for high-dimensional spaces; Adapts to optimization landscape | Requires some understanding of model choice; Initialization can affect results |\n",
    "| Hyperband                | Balances random search with early stopping            | Efficient in terms of computational resources; Can quickly discard poor-performing configurations | Parameter tuning might be needed for optimal performance; Sensitivity to initial budget setting |\n",
    "| Genetic Algorithms       | Uses evolutionary principles to evolve parameter sets  | Can handle complex optimization landscapes; Potential for discovering non-linear solutions | Can be computationally expensive; Might require fine-tuning of algorithm parameters |\n",
    "| Particle Swarm Optimization | Simulates particles moving through a parameter space | Can explore parameter space globally; Adapts to non-linear optimization | Convergence might be slow; Sensitive to algorithm settings |\n",
    "| Simulated Annealing     | Inspired by annealing process, explores gradually decreasing temperature | Can escape local optima; Gradual exploration can help find global solutions | Convergence might be slow; Requires temperature tuning |\n",
    "| Population-based Training | Optimizes multiple configurations in parallel using different worker models | Efficient for resource utilization; Considers multiple solutions simultaneously | Requires careful balancing of resources; Complexity in managing population |\n",
    "| Tree-structured Parzen Estimators (TPE) | Models the target metric's distribution and explores accordingly | Efficient for high-dimensional search spaces; Can adapt to varying parameter importance | Requires careful choice of parameter priors; Complex model tuning |\n"
   ]
  },
  {
   "cell_type": "code",
   "execution_count": 42,
   "id": "e7e60e9a",
   "metadata": {
    "execution": {
     "iopub.execute_input": "2023-08-21T12:27:30.916965Z",
     "iopub.status.busy": "2023-08-21T12:27:30.916552Z",
     "iopub.status.idle": "2023-08-21T12:27:30.921687Z",
     "shell.execute_reply": "2023-08-21T12:27:30.920337Z"
    },
    "papermill": {
     "duration": 0.046913,
     "end_time": "2023-08-21T12:27:30.924195",
     "exception": false,
     "start_time": "2023-08-21T12:27:30.877282",
     "status": "completed"
    },
    "tags": []
   },
   "outputs": [],
   "source": [
    "from sklearn.model_selection import RandomizedSearchCV"
   ]
  },
  {
   "cell_type": "code",
   "execution_count": 43,
   "id": "60c4a930",
   "metadata": {
    "execution": {
     "iopub.execute_input": "2023-08-21T12:27:30.997747Z",
     "iopub.status.busy": "2023-08-21T12:27:30.997078Z",
     "iopub.status.idle": "2023-08-21T12:27:31.002653Z",
     "shell.execute_reply": "2023-08-21T12:27:31.001631Z"
    },
    "papermill": {
     "duration": 0.044785,
     "end_time": "2023-08-21T12:27:31.005139",
     "exception": false,
     "start_time": "2023-08-21T12:27:30.960354",
     "status": "completed"
    },
    "tags": []
   },
   "outputs": [],
   "source": [
    "parameters = [\n",
    "              {'penalty':['l1', 'l2', 'elasticnet', 'none'],\n",
    "               'C':[0.25, 0.5, 0.75, 1, 1.25, 1.5, 1.75, 2],\n",
    "               'solver':['newton-cg', 'lbfgs', 'liblinear', 'sag', 'saga']\n",
    "               }\n",
    "              ]"
   ]
  },
  {
   "cell_type": "code",
   "execution_count": 44,
   "id": "8437f396",
   "metadata": {
    "execution": {
     "iopub.execute_input": "2023-08-21T12:27:31.080868Z",
     "iopub.status.busy": "2023-08-21T12:27:31.080101Z",
     "iopub.status.idle": "2023-08-21T12:27:31.085539Z",
     "shell.execute_reply": "2023-08-21T12:27:31.084519Z"
    },
    "papermill": {
     "duration": 0.045745,
     "end_time": "2023-08-21T12:27:31.088171",
     "exception": false,
     "start_time": "2023-08-21T12:27:31.042426",
     "status": "completed"
    },
    "tags": []
   },
   "outputs": [],
   "source": [
    "randomized_search = RandomizedSearchCV(estimator = classifier_lr, param_distributions = parameters,\n",
    "                                 n_iter = 5, scoring='roc_auc', n_jobs = -1, cv = 5, verbose=3)\n",
    "\n",
    "# cv: cross-validation\n",
    "# n_jobs = -1:\n",
    "# Number of jobs to run in parallel. -1 means using all processors"
   ]
  },
  {
   "cell_type": "code",
   "execution_count": 45,
   "id": "e137f2b9",
   "metadata": {
    "execution": {
     "iopub.execute_input": "2023-08-21T12:27:31.163830Z",
     "iopub.status.busy": "2023-08-21T12:27:31.163159Z",
     "iopub.status.idle": "2023-08-21T12:27:32.776912Z",
     "shell.execute_reply": "2023-08-21T12:27:32.775785Z"
    },
    "papermill": {
     "duration": 1.653992,
     "end_time": "2023-08-21T12:27:32.779519",
     "exception": false,
     "start_time": "2023-08-21T12:27:31.125527",
     "status": "completed"
    },
    "tags": []
   },
   "outputs": [
    {
     "name": "stdout",
     "output_type": "stream",
     "text": [
      "Fitting 5 folds for each of 5 candidates, totalling 25 fits\n"
     ]
    },
    {
     "name": "stderr",
     "output_type": "stream",
     "text": [
      "/opt/conda/lib/python3.10/site-packages/scipy/__init__.py:146: UserWarning: A NumPy version >=1.16.5 and <1.23.0 is required for this version of SciPy (detected version 1.23.5\n",
      "  warnings.warn(f\"A NumPy version >={np_minversion} and <{np_maxversion}\"\n",
      "/opt/conda/lib/python3.10/site-packages/scipy/__init__.py:146: UserWarning: A NumPy version >=1.16.5 and <1.23.0 is required for this version of SciPy (detected version 1.23.5\n",
      "  warnings.warn(f\"A NumPy version >={np_minversion} and <{np_maxversion}\"\n",
      "/opt/conda/lib/python3.10/site-packages/scipy/__init__.py:146: UserWarning: A NumPy version >=1.16.5 and <1.23.0 is required for this version of SciPy (detected version 1.23.5\n",
      "  warnings.warn(f\"A NumPy version >={np_minversion} and <{np_maxversion}\"\n",
      "/opt/conda/lib/python3.10/site-packages/scipy/__init__.py:146: UserWarning: A NumPy version >=1.16.5 and <1.23.0 is required for this version of SciPy (detected version 1.23.5\n",
      "  warnings.warn(f\"A NumPy version >={np_minversion} and <{np_maxversion}\"\n",
      "/opt/conda/lib/python3.10/site-packages/sklearn/linear_model/_sag.py:350: ConvergenceWarning: The max_iter was reached which means the coef_ did not converge\n",
      "  warnings.warn(\n",
      "/opt/conda/lib/python3.10/site-packages/sklearn/linear_model/_sag.py:350: ConvergenceWarning: The max_iter was reached which means the coef_ did not converge\n",
      "  warnings.warn(\n",
      "/opt/conda/lib/python3.10/site-packages/sklearn/linear_model/_sag.py:350: ConvergenceWarning: The max_iter was reached which means the coef_ did not converge\n",
      "  warnings.warn(\n",
      "/opt/conda/lib/python3.10/site-packages/sklearn/linear_model/_sag.py:350: ConvergenceWarning: The max_iter was reached which means the coef_ did not converge\n",
      "  warnings.warn(\n",
      "/opt/conda/lib/python3.10/site-packages/sklearn/linear_model/_sag.py:350: ConvergenceWarning: The max_iter was reached which means the coef_ did not converge\n",
      "  warnings.warn(\n",
      "/opt/conda/lib/python3.10/site-packages/sklearn/linear_model/_sag.py:350: ConvergenceWarning: The max_iter was reached which means the coef_ did not converge\n",
      "  warnings.warn(\n",
      "/opt/conda/lib/python3.10/site-packages/sklearn/linear_model/_sag.py:350: ConvergenceWarning: The max_iter was reached which means the coef_ did not converge\n",
      "  warnings.warn(\n",
      "/opt/conda/lib/python3.10/site-packages/sklearn/linear_model/_sag.py:350: ConvergenceWarning: The max_iter was reached which means the coef_ did not converge\n",
      "  warnings.warn(\n",
      "/opt/conda/lib/python3.10/site-packages/sklearn/linear_model/_sag.py:350: ConvergenceWarning: The max_iter was reached which means the coef_ did not converge\n",
      "  warnings.warn(\n",
      "/opt/conda/lib/python3.10/site-packages/sklearn/linear_model/_sag.py:350: ConvergenceWarning: The max_iter was reached which means the coef_ did not converge\n",
      "  warnings.warn(\n"
     ]
    },
    {
     "data": {
      "text/plain": [
       "0.9953268424611224"
      ]
     },
     "execution_count": 45,
     "metadata": {},
     "output_type": "execute_result"
    }
   ],
   "source": [
    "randomized_search.fit(X_train, y_train)\n",
    "\n",
    "randomized_search.best_estimator_\n",
    "\n",
    "randomized_search.best_params_\n",
    "\n",
    "randomized_search.best_score_"
   ]
  },
  {
   "cell_type": "markdown",
   "id": "a59a3d11",
   "metadata": {
    "papermill": {
     "duration": 0.035507,
     "end_time": "2023-08-21T12:27:32.851836",
     "exception": false,
     "start_time": "2023-08-21T12:27:32.816329",
     "status": "completed"
    },
    "tags": []
   },
   "source": [
    "The randomized search will give {'C': 0.5, 'penalty': 'l2', 'solver': 'lbfgs'}\n",
    "But on kaggle, it's giving something else due to resource limitations."
   ]
  },
  {
   "cell_type": "markdown",
   "id": "59b3b42d",
   "metadata": {
    "id": "sjlsq7DSHkrJ",
    "papermill": {
     "duration": 0.037505,
     "end_time": "2023-08-21T12:27:32.927466",
     "exception": false,
     "start_time": "2023-08-21T12:27:32.889961",
     "status": "completed"
    },
    "tags": []
   },
   "source": [
    "# Part 4: Final Model (Logistic regression)"
   ]
  },
  {
   "cell_type": "code",
   "execution_count": 46,
   "id": "59b10b91",
   "metadata": {
    "execution": {
     "iopub.execute_input": "2023-08-21T12:27:33.002155Z",
     "iopub.status.busy": "2023-08-21T12:27:33.001683Z",
     "iopub.status.idle": "2023-08-21T12:27:33.035254Z",
     "shell.execute_reply": "2023-08-21T12:27:33.034032Z"
    },
    "id": "0HVfChB4Hlu2",
    "outputId": "67eef43c-05d1-457b-99f7-3bfd5bcc6a57",
    "papermill": {
     "duration": 0.075326,
     "end_time": "2023-08-21T12:27:33.039207",
     "exception": false,
     "start_time": "2023-08-21T12:27:32.963881",
     "status": "completed"
    },
    "tags": []
   },
   "outputs": [
    {
     "data": {
      "text/html": [
       "<style>#sk-container-id-4 {color: black;background-color: white;}#sk-container-id-4 pre{padding: 0;}#sk-container-id-4 div.sk-toggleable {background-color: white;}#sk-container-id-4 label.sk-toggleable__label {cursor: pointer;display: block;width: 100%;margin-bottom: 0;padding: 0.3em;box-sizing: border-box;text-align: center;}#sk-container-id-4 label.sk-toggleable__label-arrow:before {content: \"▸\";float: left;margin-right: 0.25em;color: #696969;}#sk-container-id-4 label.sk-toggleable__label-arrow:hover:before {color: black;}#sk-container-id-4 div.sk-estimator:hover label.sk-toggleable__label-arrow:before {color: black;}#sk-container-id-4 div.sk-toggleable__content {max-height: 0;max-width: 0;overflow: hidden;text-align: left;background-color: #f0f8ff;}#sk-container-id-4 div.sk-toggleable__content pre {margin: 0.2em;color: black;border-radius: 0.25em;background-color: #f0f8ff;}#sk-container-id-4 input.sk-toggleable__control:checked~div.sk-toggleable__content {max-height: 200px;max-width: 100%;overflow: auto;}#sk-container-id-4 input.sk-toggleable__control:checked~label.sk-toggleable__label-arrow:before {content: \"▾\";}#sk-container-id-4 div.sk-estimator input.sk-toggleable__control:checked~label.sk-toggleable__label {background-color: #d4ebff;}#sk-container-id-4 div.sk-label input.sk-toggleable__control:checked~label.sk-toggleable__label {background-color: #d4ebff;}#sk-container-id-4 input.sk-hidden--visually {border: 0;clip: rect(1px 1px 1px 1px);clip: rect(1px, 1px, 1px, 1px);height: 1px;margin: -1px;overflow: hidden;padding: 0;position: absolute;width: 1px;}#sk-container-id-4 div.sk-estimator {font-family: monospace;background-color: #f0f8ff;border: 1px dotted black;border-radius: 0.25em;box-sizing: border-box;margin-bottom: 0.5em;}#sk-container-id-4 div.sk-estimator:hover {background-color: #d4ebff;}#sk-container-id-4 div.sk-parallel-item::after {content: \"\";width: 100%;border-bottom: 1px solid gray;flex-grow: 1;}#sk-container-id-4 div.sk-label:hover label.sk-toggleable__label {background-color: #d4ebff;}#sk-container-id-4 div.sk-serial::before {content: \"\";position: absolute;border-left: 1px solid gray;box-sizing: border-box;top: 0;bottom: 0;left: 50%;z-index: 0;}#sk-container-id-4 div.sk-serial {display: flex;flex-direction: column;align-items: center;background-color: white;padding-right: 0.2em;padding-left: 0.2em;position: relative;}#sk-container-id-4 div.sk-item {position: relative;z-index: 1;}#sk-container-id-4 div.sk-parallel {display: flex;align-items: stretch;justify-content: center;background-color: white;position: relative;}#sk-container-id-4 div.sk-item::before, #sk-container-id-4 div.sk-parallel-item::before {content: \"\";position: absolute;border-left: 1px solid gray;box-sizing: border-box;top: 0;bottom: 0;left: 50%;z-index: -1;}#sk-container-id-4 div.sk-parallel-item {display: flex;flex-direction: column;z-index: 1;position: relative;background-color: white;}#sk-container-id-4 div.sk-parallel-item:first-child::after {align-self: flex-end;width: 50%;}#sk-container-id-4 div.sk-parallel-item:last-child::after {align-self: flex-start;width: 50%;}#sk-container-id-4 div.sk-parallel-item:only-child::after {width: 0;}#sk-container-id-4 div.sk-dashed-wrapped {border: 1px dashed gray;margin: 0 0.4em 0.5em 0.4em;box-sizing: border-box;padding-bottom: 0.4em;background-color: white;}#sk-container-id-4 div.sk-label label {font-family: monospace;font-weight: bold;display: inline-block;line-height: 1.2em;}#sk-container-id-4 div.sk-label-container {text-align: center;}#sk-container-id-4 div.sk-container {/* jupyter's `normalize.less` sets `[hidden] { display: none; }` but bootstrap.min.css set `[hidden] { display: none !important; }` so we also need the `!important` here to be able to override the default hidden behavior on the sphinx rendered scikit-learn.org. See: https://github.com/scikit-learn/scikit-learn/issues/21755 */display: inline-block !important;position: relative;}#sk-container-id-4 div.sk-text-repr-fallback {display: none;}</style><div id=\"sk-container-id-4\" class=\"sk-top-container\"><div class=\"sk-text-repr-fallback\"><pre>LogisticRegression(C=0.5, random_state=0)</pre><b>In a Jupyter environment, please rerun this cell to show the HTML representation or trust the notebook. <br />On GitHub, the HTML representation is unable to render, please try loading this page with nbviewer.org.</b></div><div class=\"sk-container\" hidden><div class=\"sk-item\"><div class=\"sk-estimator sk-toggleable\"><input class=\"sk-toggleable__control sk-hidden--visually\" id=\"sk-estimator-id-4\" type=\"checkbox\" checked><label for=\"sk-estimator-id-4\" class=\"sk-toggleable__label sk-toggleable__label-arrow\">LogisticRegression</label><div class=\"sk-toggleable__content\"><pre>LogisticRegression(C=0.5, random_state=0)</pre></div></div></div></div></div>"
      ],
      "text/plain": [
       "LogisticRegression(C=0.5, random_state=0)"
      ]
     },
     "execution_count": 46,
     "metadata": {},
     "output_type": "execute_result"
    }
   ],
   "source": [
    "from sklearn.linear_model import LogisticRegression\n",
    "classifier = LogisticRegression(C=0.5, class_weight=None, dual=False, fit_intercept=True,\n",
    "                   intercept_scaling=1, l1_ratio=None, max_iter=100,\n",
    "                   multi_class='auto', n_jobs=None, penalty='l2',\n",
    "                   random_state=0, solver='lbfgs', tol=0.0001, verbose=0,\n",
    "                   warm_start=False)\n",
    "classifier.fit(X_train, y_train)"
   ]
  },
  {
   "cell_type": "code",
   "execution_count": 47,
   "id": "dee00af9",
   "metadata": {
    "execution": {
     "iopub.execute_input": "2023-08-21T12:27:33.168550Z",
     "iopub.status.busy": "2023-08-21T12:27:33.168123Z",
     "iopub.status.idle": "2023-08-21T12:27:33.194519Z",
     "shell.execute_reply": "2023-08-21T12:27:33.193343Z"
    },
    "id": "cgWUiIEfHqTI",
    "outputId": "ef748491-2829-4340-f9f3-a3f8fdcd93ce",
    "papermill": {
     "duration": 0.082249,
     "end_time": "2023-08-21T12:27:33.196968",
     "exception": false,
     "start_time": "2023-08-21T12:27:33.114719",
     "status": "completed"
    },
    "tags": []
   },
   "outputs": [
    {
     "data": {
      "text/html": [
       "<div>\n",
       "<style scoped>\n",
       "    .dataframe tbody tr th:only-of-type {\n",
       "        vertical-align: middle;\n",
       "    }\n",
       "\n",
       "    .dataframe tbody tr th {\n",
       "        vertical-align: top;\n",
       "    }\n",
       "\n",
       "    .dataframe thead th {\n",
       "        text-align: right;\n",
       "    }\n",
       "</style>\n",
       "<table border=\"1\" class=\"dataframe\">\n",
       "  <thead>\n",
       "    <tr style=\"text-align: right;\">\n",
       "      <th></th>\n",
       "      <th>Model</th>\n",
       "      <th>Accuracy</th>\n",
       "      <th>F1 Score</th>\n",
       "      <th>Precision</th>\n",
       "      <th>Recall</th>\n",
       "    </tr>\n",
       "  </thead>\n",
       "  <tbody>\n",
       "    <tr>\n",
       "      <th>0</th>\n",
       "      <td>Logistic Regression</td>\n",
       "      <td>0.970760</td>\n",
       "      <td>0.960630</td>\n",
       "      <td>1.000000</td>\n",
       "      <td>0.924242</td>\n",
       "    </tr>\n",
       "    <tr>\n",
       "      <th>1</th>\n",
       "      <td>Random Forest</td>\n",
       "      <td>0.953216</td>\n",
       "      <td>0.938462</td>\n",
       "      <td>0.953125</td>\n",
       "      <td>0.924242</td>\n",
       "    </tr>\n",
       "    <tr>\n",
       "      <th>2</th>\n",
       "      <td>XGBoost</td>\n",
       "      <td>0.935673</td>\n",
       "      <td>0.916031</td>\n",
       "      <td>0.923077</td>\n",
       "      <td>0.909091</td>\n",
       "    </tr>\n",
       "    <tr>\n",
       "      <th>3</th>\n",
       "      <td>Final Logistic regression</td>\n",
       "      <td>0.970760</td>\n",
       "      <td>0.960630</td>\n",
       "      <td>1.000000</td>\n",
       "      <td>0.924242</td>\n",
       "    </tr>\n",
       "  </tbody>\n",
       "</table>\n",
       "</div>"
      ],
      "text/plain": [
       "                       Model  Accuracy  F1 Score  Precision    Recall\n",
       "0        Logistic Regression  0.970760  0.960630   1.000000  0.924242\n",
       "1              Random Forest  0.953216  0.938462   0.953125  0.924242\n",
       "2                    XGBoost  0.935673  0.916031   0.923077  0.909091\n",
       "3  Final Logistic regression  0.970760  0.960630   1.000000  0.924242"
      ]
     },
     "execution_count": 47,
     "metadata": {},
     "output_type": "execute_result"
    }
   ],
   "source": [
    "y_pred = classifier.predict(X_test)\n",
    "\n",
    "acc = accuracy_score(y_test, y_pred)\n",
    "prec = precision_score(y_test, y_pred)\n",
    "rec = recall_score(y_test, y_pred)\n",
    "f1 = f1_score(y_test, y_pred)\n",
    "\n",
    "model_results = pd.DataFrame([['Final Logistic regression', acc, prec, rec, f1]],\n",
    "               columns = ['Model', 'Accuracy', 'Precision', 'Recall', 'F1 Score'])\n",
    "\n",
    "\n",
    "results = results.append(model_results, ignore_index = True)\n",
    "results"
   ]
  },
  {
   "cell_type": "code",
   "execution_count": 48,
   "id": "375e0f9a",
   "metadata": {
    "execution": {
     "iopub.execute_input": "2023-08-21T12:27:33.273567Z",
     "iopub.status.busy": "2023-08-21T12:27:33.272480Z",
     "iopub.status.idle": "2023-08-21T12:27:33.472107Z",
     "shell.execute_reply": "2023-08-21T12:27:33.470855Z"
    },
    "id": "Uv6FDCqjJ5qB",
    "outputId": "29a072f1-473d-4e38-feb0-95c926ecd01c",
    "papermill": {
     "duration": 0.244041,
     "end_time": "2023-08-21T12:27:33.477002",
     "exception": false,
     "start_time": "2023-08-21T12:27:33.232961",
     "status": "completed"
    },
    "tags": []
   },
   "outputs": [
    {
     "name": "stdout",
     "output_type": "stream",
     "text": [
      "Accuracy is 97.99 %\n",
      "Standard Deviation is 1.87 %\n"
     ]
    }
   ],
   "source": [
    "from sklearn.model_selection import cross_val_score\n",
    "accuracies = cross_val_score(estimator=classifier, X=X_train, y=y_train, cv=10)\n",
    "\n",
    "print(\"Accuracy is {:.2f} %\".format(accuracies.mean()*100))\n",
    "print(\"Standard Deviation is {:.2f} %\".format(accuracies.std()*100))"
   ]
  }
 ],
 "metadata": {
  "kernelspec": {
   "display_name": "Python 3",
   "language": "python",
   "name": "python3"
  },
  "language_info": {
   "codemirror_mode": {
    "name": "ipython",
    "version": 3
   },
   "file_extension": ".py",
   "mimetype": "text/x-python",
   "name": "python",
   "nbconvert_exporter": "python",
   "pygments_lexer": "ipython3",
   "version": "3.10.12"
  },
  "papermill": {
   "default_parameters": {},
   "duration": 35.363006,
   "end_time": "2023-08-21T12:27:36.182774",
   "environment_variables": {},
   "exception": null,
   "input_path": "__notebook__.ipynb",
   "output_path": "__notebook__.ipynb",
   "parameters": {},
   "start_time": "2023-08-21T12:27:00.819768",
   "version": "2.4.0"
  }
 },
 "nbformat": 4,
 "nbformat_minor": 5
}
